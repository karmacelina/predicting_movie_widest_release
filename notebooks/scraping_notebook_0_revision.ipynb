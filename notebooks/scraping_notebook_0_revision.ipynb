{
 "cells": [
  {
   "cell_type": "markdown",
   "metadata": {},
   "source": [
    "## Import all needed modules"
   ]
  },
  {
   "cell_type": "code",
   "execution_count": 1,
   "metadata": {},
   "outputs": [
    {
     "name": "stdout",
     "output_type": "stream",
     "text": [
      "Running 'caffeinate' on MacOSX to prevent the system from sleeping\n"
     ]
    }
   ],
   "source": [
    "import sys\n",
    "import subprocess\n",
    "\n",
    "if 'darwin' in sys.platform:\n",
    "    print('Running \\'caffeinate\\' on MacOSX to prevent the system from sleeping')\n",
    "    subprocess.Popen('caffeinate')"
   ]
  },
  {
   "cell_type": "code",
   "execution_count": 6,
   "metadata": {},
   "outputs": [],
   "source": [
    "import requests\n"
   ]
  },
  {
   "cell_type": "code",
   "execution_count": null,
   "metadata": {},
   "outputs": [],
   "source": [
    "import "
   ]
  },
  {
   "cell_type": "code",
   "execution_count": 2,
   "metadata": {},
   "outputs": [
    {
     "ename": "ModuleNotFoundError",
     "evalue": "No module named 'requests'",
     "output_type": "error",
     "traceback": [
      "\u001b[0;31m---------------------------------------------------------------------------\u001b[0m",
      "\u001b[0;31mModuleNotFoundError\u001b[0m                       Traceback (most recent call last)",
      "\u001b[0;32m<ipython-input-2-f870a3eb9cf2>\u001b[0m in \u001b[0;36m<module>\u001b[0;34m()\u001b[0m\n\u001b[0;32m----> 1\u001b[0;31m \u001b[0;32mimport\u001b[0m \u001b[0mrequests\u001b[0m\u001b[0;34m\u001b[0m\u001b[0m\n\u001b[0m\u001b[1;32m      2\u001b[0m \u001b[0;32mimport\u001b[0m \u001b[0mstring\u001b[0m\u001b[0;34m\u001b[0m\u001b[0m\n\u001b[1;32m      3\u001b[0m \u001b[0;32mfrom\u001b[0m \u001b[0mbs4\u001b[0m \u001b[0;32mimport\u001b[0m \u001b[0mBeautifulSoup\u001b[0m\u001b[0;34m\u001b[0m\u001b[0m\n\u001b[1;32m      4\u001b[0m \u001b[0;32mimport\u001b[0m \u001b[0mlogging\u001b[0m\u001b[0;34m\u001b[0m\u001b[0m\n\u001b[1;32m      5\u001b[0m \u001b[0mlogging\u001b[0m\u001b[0;34m.\u001b[0m\u001b[0mbasicConfig\u001b[0m\u001b[0;34m(\u001b[0m\u001b[0mlevel\u001b[0m\u001b[0;34m=\u001b[0m\u001b[0mlogging\u001b[0m\u001b[0;34m.\u001b[0m\u001b[0mDEBUG\u001b[0m\u001b[0;34m)\u001b[0m\u001b[0;34m\u001b[0m\u001b[0m\n",
      "\u001b[0;31mModuleNotFoundError\u001b[0m: No module named 'requests'"
     ]
    }
   ],
   "source": [
    "pip install requests\n",
    "\n",
    "from bs4 import BeautifulSoup  \n",
    "import string\n",
    "\n",
    "import logging  \n",
    "logging.basicConfig(level=logging.DEBUG)\n",
    "\n",
    "import dateutil.parser\n",
    "import time\n",
    "import re\n",
    "from collections import OrderedDict\n",
    "\n",
    "import pandas as pd\n",
    "from datetime import datetime\n",
    "import numpy as np"
   ]
  },
  {
   "cell_type": "markdown",
   "metadata": {},
   "source": [
    "## Get movie urls from boxofficemojo.com"
   ]
  },
  {
   "cell_type": "code",
   "execution_count": null,
   "metadata": {},
   "outputs": [],
   "source": [
    "def get_all_movies():  \n",
    "    \"\"\" returns all the movie urls from boxofficemojo.com in a list\"\"\"\n",
    "\n",
    "    # Alphabet loop for how movies are indexed including\n",
    "    # movies that start with a special character or number\n",
    "    index = [\"NUM\"] + list(string.ascii_uppercase)\n",
    "\n",
    "    # List of movie urls\n",
    "    movies_list = []\n",
    "\n",
    "    # Loop through the pages for each letter\n",
    "    for letter in index:\n",
    "\n",
    "        # Loop through the pages within each letter\n",
    "        for num in range(1, 20):\n",
    "            url = (\"http://www.boxofficemojo.com/movies/alphabetical.htm?\"\n",
    "                   \"letter=\" + letter + \"&page=\" + str(num))\n",
    "            try:\n",
    "                response = requests.get(url)\n",
    "                page = response.text\n",
    "                soup = BeautifulSoup(page, \"lxml\")\n",
    "                rows = soup.find(id=\"body\").find(\"table\").find(\"table\").find_all(\n",
    "                    \"table\")[1].find_all(\"tr\")\n",
    "\n",
    "                # skip index row\n",
    "                if len(rows) > 1:\n",
    "                    counter = 1\n",
    "                    for row in rows:\n",
    "                        # skip index row\n",
    "                        if counter > 1:\n",
    "                            link = row.td.font.a['href']\n",
    "                            # don't add duplicates\n",
    "                            if link not in movies_list:\n",
    "                                movies_list.append(link)\n",
    "\n",
    "                        counter += 1\n",
    "            except (Exception, e):\n",
    "                logging.exception(e)\n",
    "\n",
    "    return movies_list"
   ]
  },
  {
   "cell_type": "markdown",
   "metadata": {},
   "source": [
    "#### To get the url of the movies, call the function defined above "
   ]
  },
  {
   "cell_type": "code",
   "execution_count": null,
   "metadata": {},
   "outputs": [],
   "source": [
    "all_movies = get_all_movies()"
   ]
  },
  {
   "cell_type": "markdown",
   "metadata": {},
   "source": [
    "## Define certain useful functions"
   ]
  },
  {
   "cell_type": "code",
   "execution_count": null,
   "metadata": {},
   "outputs": [],
   "source": [
    "def get_movie_value(soup, field_name):\n",
    "    '''Grab a value from boxofficemojo HTML\n",
    "    \n",
    "    Takes a string attribute of a movie on the page and\n",
    "    returns the string in the next sibling object\n",
    "    (the value for that attribute)\n",
    "    or None if nothing is found.\n",
    "    '''\n",
    "    obj = soup.find(text=re.compile(field_name))\n",
    "    if not obj: \n",
    "        return None\n",
    "    # this works for most of the values\n",
    "    next_sibling = obj.findNextSibling()\n",
    "    if next_sibling:\n",
    "        return next_sibling.text # RETURN TEXT OF NEXT SIBLING\n",
    "    else:\n",
    "        return None\n",
    "\n",
    "\n",
    "def get_movie_value_next(soup, field_name):\n",
    "    '''Grab a value from boxofficemojo HTML\n",
    "    \n",
    "    Takes a string attribute of a movie on the page and\n",
    "    returns the string in the next sibling object\n",
    "    (the value for that attribute)\n",
    "    or None if nothing is found.\n",
    "    '''\n",
    "    obj = soup.find(text=re.compile(field_name))\n",
    "    if not obj: \n",
    "        return None\n",
    "    # this works for most of the values\n",
    "    next_sibling = obj.findNextSibling()\n",
    "    if next_sibling:\n",
    "        return next_sibling.text # RETURN TEXT OF NEXT SIBLING\n",
    "    else:\n",
    "        return None\n",
    "\n",
    "\n",
    "\n",
    "#def get_movie_value_next_next(soup, field_name):\n",
    "#    '''Grab a value from boxofficemojo HTML\n",
    "#    \n",
    "#    Takes a string attribute of a movie on the page and\n",
    "#    returns the string in the next sibling object\n",
    "#    (the value for that attribute)\n",
    "#    or None if nothing is found.\n",
    "#    '''\n",
    "#    obj = soup.find(text=re.compile(field_name))\n",
    "#    \n",
    "#    if obj:\n",
    "#        return obj.next.next.text\n",
    "#    else:\n",
    "#        return None\n",
    "\n",
    "def get_movie_value_next_next(soup, field_name):\n",
    "    '''Grab a value from boxofficemojo HTML\n",
    "    \n",
    "    Takes a string attribute of a movie on the page and\n",
    "    returns the string in the next sibling object\n",
    "    (the value for that attribute)\n",
    "    or None if nothing is found.\n",
    "    '''\n",
    "    \n",
    "    for br in soup.findAll('br'):\n",
    "        br.replace_with('\\n')\n",
    "    \n",
    "    obj = soup.find(text=re.compile(field_name))\n",
    "    \n",
    "    if obj:\n",
    "        return obj.next.next.text \n",
    "    else:\n",
    "        return None\n",
    "\n",
    "def money_to_int(moneystring):\n",
    "    moneystring = moneystring.replace('$', '').replace(',', '')\n",
    "    return int(moneystring)\n",
    "\n",
    "\n",
    "def money_to_int_2(string):\n",
    "    if string is not None:\n",
    "        i = string.replace('$','').replace(',','').replace(' ','')\n",
    "        if \"million\" in i:\n",
    "            i = i.replace('million','')\n",
    "            i = float(i) * 1000000\n",
    "            i = int(i)\n",
    "        return i\n",
    "    else:\n",
    "        return np.nan\n",
    "\n",
    "def money_to_int_3(moneystring):\n",
    "    moneystring = moneystring.replace('\\xa0','').replace('$', '').replace(',','')\n",
    "    \n",
    "\n",
    "def runtime_to_minutes(runtimestring):\n",
    "    runtime = runtimestring.split()\n",
    "    try:\n",
    "        minutes = int(runtime[0])*60 + int(runtime[2])\n",
    "        return minutes\n",
    "    except:\n",
    "        return None\n",
    "\n",
    "def strip_and_return_int(s):\n",
    "    t = s.replace('$', '').replace(',','')\n",
    "    t = int(t)\n",
    "    return t\n",
    "\n",
    "def to_date(datestring):\n",
    "    date = dateutil.parser.parse(datestring)\n",
    "    return date"
   ]
  },
  {
   "cell_type": "markdown",
   "metadata": {},
   "source": [
    "## Define functions to get movie information"
   ]
  },
  {
   "cell_type": "code",
   "execution_count": null,
   "metadata": {},
   "outputs": [],
   "source": [
    "def movie_title(soup):        \n",
    "    #try:\n",
    "    title_string = soup.find('title').text\n",
    "    title = title_string.split('(')[0].strip()\n",
    "    #except:\n",
    "        #title = float('NaN')\n",
    "        \n",
    "    return title \n",
    "    \n",
    "def movie_producers(soup):\n",
    "    try:\n",
    "        producer = get_movie_value_next(soup, 'Producer')\n",
    "        producers = re.sub('([a-z()])([A-Z])', '\\g<1>, \\g<2>', producer).split(\",\") \n",
    "    except TypeError:\n",
    "        producers = float('NaN')\n",
    "    except AttributeError:\n",
    "        producers = float('NaN')\n",
    "        \n",
    "    return producers\n",
    "        \n",
    "def movie_directors(soup):\n",
    "    try:\n",
    "        director = get_movie_value_next(soup,'Director')\n",
    "        director = re.sub('([a-z()])([A-Z])', '\\g<1>, \\g<2>', director).split(\",\") \n",
    "    except TypeError:\n",
    "        director = float('NaN')\n",
    "    \n",
    "    return director\n",
    "    \n",
    "\n",
    "def movie_actors(soup): # still doesn't deal well with McPersons, DeVitos, DaSouzas, etc. \n",
    "    try:\n",
    "        actor = get_movie_value_next_next(soup,'Actor') # try get_movie_value_next if it doesnt work \n",
    "        if str(actor) != 'None':\n",
    "            actors = actor.replace('*','').replace(' (Cameo)','').replace('(Voice)','').replace('\\n',', ')\n",
    "            actors = actors.split(\", \")\n",
    "            return actors\n",
    "\n",
    "    except TypeError:\n",
    "        return actors\n",
    "\n",
    "def movie_genre(soup):\n",
    "    try:\n",
    "        genre = get_movie_value(soup, 'Genre[^a-z]')\n",
    "    except:\n",
    "        genre = float('NaN')\n",
    "    return genre\n",
    "\n",
    "def movie_rating(soup):\n",
    "    try:\n",
    "        rating = get_movie_value(soup,'MPAA Rating')\n",
    "    except:\n",
    "        rating = float('NaN')\n",
    "    return rating\n",
    "\n",
    "#def release_date(soup):\n",
    "#    try:\n",
    "#        raw_release_date = get_movie_value(soup,'Release Date')\n",
    "#        if raw_release_date != 'TBD' and raw_release_date != 'N/A' and raw_release_date[0].isnumeric() :\n",
    "#            release_date = to_date(raw_release_date)\n",
    "#        else:\n",
    "#            release_date = float('NaN')\n",
    "#    except AttributeError:\n",
    "#        release_date = float('NaN')\n",
    "#    \n",
    "#    return release_date\n",
    "\n",
    "def release_date(soup):\n",
    "    try:\n",
    "        raw_release_date = get_movie_value(soup,'Release Date')\n",
    "        if raw_release_date != 'TBD' and raw_release_date != 'N/A' and raw_release_date.split()[0] != 'Spring' and raw_release_date.split()[0] != 'Summer' and raw_release_date.split()[0] != 'Fall' and raw_release_date.split()[0] != 'Winter' :\n",
    "            release_date = to_date(raw_release_date)\n",
    "        else:\n",
    "            release_date = float('NaN')\n",
    "    except AttributeError:\n",
    "        release_date = float('NaN')\n",
    "    return release_date\n",
    "    \n",
    "def domestic_gross(soup):\n",
    "    \n",
    "    try:\n",
    "        raw_domestic_total_gross = get_movie_value(soup,'Domestic Total')\n",
    "        domestic_total_gross = money_to_int(raw_domestic_total_gross)\n",
    "    except AttributeError:\n",
    "        domestic_total_gross = float('NaN')\n",
    "    \n",
    "    return domestic_total_gross\n",
    "    \n",
    "def opening_weekend_gross(soup):\n",
    "    \n",
    "    try:\n",
    "        opening_weekend_gross = get_movie_value_next(soup,'Opening\\xa0Weekend:')\n",
    "        opening_weekend_gross = money_to_int_3(opening_weekend_gross)\n",
    "    except AttributeError:\n",
    "        opening_weekend_gross = float('NaN')\n",
    "    return opening_weekend_gross\n",
    "    \n",
    "def production_budget(soup):\n",
    "    try:\n",
    "        production_budget = get_movie_value(soup, 'Production Budget')\n",
    "        production_budget = money_to_int_2(production_budget)\n",
    "    except AttributeError:\n",
    "        production_budget = float('NaN')\n",
    "    return production_budget\n",
    "    \n",
    "def runtime(soup):\n",
    "    try:\n",
    "        raw_runtime = get_movie_value(soup,'Runtime')\n",
    "        runtime = runtime_to_minutes(raw_runtime)\n",
    "    except AttributeError:\n",
    "        runtime = float('NaN')\n",
    "    return runtime\n",
    "    \n",
    "def widest_release(soup):\n",
    "    try:\n",
    "        widest_release = get_movie_value_next_next(soup, 'Widest')\n",
    "        widest_release = strip_and_return_int(widest_release.split()[0])\n",
    "    except AttributeError:\n",
    "        widest_release = float('NaN')\n",
    "    return widest_release\n",
    "\n",
    "def distributor(soup):\n",
    "    try:\n",
    "        if str(soup.find(id='body')) != 'None':\n",
    "            distributor = soup.find(id=\"body\").find(text=re.compile(\"Distributor\"))\n",
    "            if str(distributor) != 'None':\n",
    "                distributor = distributor.findNextSibling().text\n",
    "                return distributor\n",
    "    except LookupError:\n",
    "        distributor = float('NaN')\n"
   ]
  },
  {
   "cell_type": "markdown",
   "metadata": {},
   "source": [
    "## MOVIE SCRAPER"
   ]
  },
  {
   "cell_type": "code",
   "execution_count": null,
   "metadata": {},
   "outputs": [],
   "source": [
    "def movie_scraper(all_movies):    \n",
    "    movie_blocks = list(range(0, len(all_movies)-1, int(len(all_movies)/10)))\n",
    "    movie_blocks.append(len(all_movies)-1) \n",
    "            \n",
    "    print(\"The length of urls_chunks, minus one is %s\" % str(len(movie_blocks)-1))\n",
    "    \n",
    "    movie_data_list = OrderedDict()\n",
    "    count = 0 \n",
    "    try:\n",
    "        for block_index in range(len(movie_blocks) - 1):\n",
    "                    \n",
    "            print (\"URL chunk ... %s of %s in 10 seconds ... \\n\" % (str(block_index), str(len(movie_blocks) - 1)))\n",
    "            \n",
    "            time.sleep(10)\n",
    "            \n",
    "            print (\"Fetching URLs in movie_list location: %s to %s \\n\" % (movie_blocks[block_index], movie_blocks[block_index + 1]))\n",
    "            for movie in all_movies[movie_blocks[block_index]:movie_blocks[block_index + 1]]:\n",
    "                count +=1\n",
    "                url = \"http://www.boxofficemojo.com/\" + movie\n",
    "                response = requests.get(url)\n",
    "                time.sleep(0.1)\n",
    "                page = response.text\n",
    "                soup = BeautifulSoup(page, \"lxml\")\n",
    "                print(count,movie)\n",
    "                movie_data_list[movie_title(soup)] = [movie, movie_genre(soup), release_date(soup), \n",
    "                                                        distributor(soup), runtime(soup), \n",
    "                                                        movie_rating(soup), production_budget(soup), \n",
    "                                                        domestic_gross(soup), movie_actors(soup), \n",
    "                                                        opening_weekend_gross(soup), widest_release(soup),\n",
    "                                                        movie_producers(soup), movie_directors(soup) ]\n",
    "                        \n",
    "                \n",
    "                \n",
    "                #try:\n",
    "                #    time.sleep(0.2)\n",
    "                #    response = requests.get(url)\n",
    "                #    page = response.text\n",
    "                #    #print(str(re.search('\\w+(?=\\.htm)', url).group()))\n",
    "                #    soupObjects[str(re.search('\\w+(?=\\.htm)',url).group())] = BeautifulSoup(page,'lxml')\n",
    "                #except requests.exceptions.RequestException as e:\n",
    "                #    print(e)\n",
    "                #    sys.exit(1)\n",
    "                #\n",
    "                    \n",
    "            print(\"continuing in 10 seconds ...\")\n",
    "    except requests.exceptions.RequestException as e:\n",
    "        print(e)\n",
    "        pass\n",
    "        #sys.exit(1)\n",
    "            \n",
    "    return movie_data_list\n"
   ]
  },
  {
   "cell_type": "markdown",
   "metadata": {},
   "source": [
    "## SCRAPING the data!"
   ]
  },
  {
   "cell_type": "code",
   "execution_count": null,
   "metadata": {},
   "outputs": [],
   "source": [
    "dict_1 = movie_scraper(all_movies)"
   ]
  },
  {
   "cell_type": "code",
   "execution_count": null,
   "metadata": {},
   "outputs": [],
   "source": [
    "df = pd.DataFrame(dict_1)"
   ]
  },
  {
   "cell_type": "code",
   "execution_count": null,
   "metadata": {},
   "outputs": [],
   "source": [
    "df.to_pickle('001.pkl')"
   ]
  },
  {
   "cell_type": "code",
   "execution_count": null,
   "metadata": {},
   "outputs": [],
   "source": [
    "dict_2 = movie_scraper(all_movies[1522:])"
   ]
  },
  {
   "cell_type": "code",
   "execution_count": null,
   "metadata": {},
   "outputs": [],
   "source": [
    "df2 = pd.DataFrame(dict_2)"
   ]
  },
  {
   "cell_type": "code",
   "execution_count": null,
   "metadata": {},
   "outputs": [],
   "source": [
    "df2.to_pickle('002.pkl')"
   ]
  },
  {
   "cell_type": "code",
   "execution_count": null,
   "metadata": {},
   "outputs": [],
   "source": [
    "dict_3 = movie_scraper(all_movies[7200:])"
   ]
  },
  {
   "cell_type": "code",
   "execution_count": null,
   "metadata": {},
   "outputs": [],
   "source": [
    "df3 = pd.DataFrame(dict_3)"
   ]
  },
  {
   "cell_type": "code",
   "execution_count": null,
   "metadata": {},
   "outputs": [],
   "source": [
    "df3.to_pickle('003.pkl')"
   ]
  },
  {
   "cell_type": "code",
   "execution_count": null,
   "metadata": {},
   "outputs": [],
   "source": [
    "dict_4 = movie_scraper(all_movies[10284:])"
   ]
  },
  {
   "cell_type": "code",
   "execution_count": null,
   "metadata": {},
   "outputs": [],
   "source": [
    "df4 = pd.DataFrame(dict_4)"
   ]
  },
  {
   "cell_type": "code",
   "execution_count": null,
   "metadata": {},
   "outputs": [],
   "source": [
    "df4.to_pickle('004.pkl')"
   ]
  },
  {
   "cell_type": "code",
   "execution_count": null,
   "metadata": {},
   "outputs": [],
   "source": [
    "dict_5 = movie_scraper(all_movies[15372:])"
   ]
  },
  {
   "cell_type": "code",
   "execution_count": null,
   "metadata": {},
   "outputs": [],
   "source": [
    "df5 = pd.DataFrame(dict_5)"
   ]
  },
  {
   "cell_type": "code",
   "execution_count": null,
   "metadata": {},
   "outputs": [],
   "source": [
    "df5.to_pickle('005.pkl')"
   ]
  },
  {
   "cell_type": "code",
   "execution_count": null,
   "metadata": {},
   "outputs": [],
   "source": [
    "dict_6 = movie_scraper(all_movies[15881:])"
   ]
  },
  {
   "cell_type": "code",
   "execution_count": null,
   "metadata": {},
   "outputs": [],
   "source": [
    "df6 = pd.DataFrame(dict_6)"
   ]
  },
  {
   "cell_type": "code",
   "execution_count": null,
   "metadata": {},
   "outputs": [],
   "source": [
    "df6.to_pickle('006.pkl')"
   ]
  },
  {
   "cell_type": "markdown",
   "metadata": {},
   "source": [
    "## transpose the dfs"
   ]
  },
  {
   "cell_type": "code",
   "execution_count": null,
   "metadata": {},
   "outputs": [],
   "source": [
    "df = df.transpose()\n",
    "df2 = df2.transpose()\n",
    "df3 = df3.transpose()\n",
    "df4 = df4.transpose()\n",
    "df5 = df5.transpose()\n",
    "df6 = df6.transpose()"
   ]
  },
  {
   "cell_type": "code",
   "execution_count": null,
   "metadata": {},
   "outputs": [],
   "source": [
    "df.columns = ['movie', 'genre','release date', 'distributor', 'runtime', 'rating', 'budget', 'domestic gross', 'actors', '1st weekend gross', 'widest release', 'producers', 'directors']"
   ]
  },
  {
   "cell_type": "code",
   "execution_count": null,
   "metadata": {},
   "outputs": [],
   "source": [
    "df_all = pd.concat([df, df2, df3, df4, df5, df6])"
   ]
  },
  {
   "cell_type": "code",
   "execution_count": null,
   "metadata": {},
   "outputs": [],
   "source": [
    "df_all.shape\n",
    "df_all.columns = ['movie', 'genre','release date', 'distributor', 'runtime', 'rating', 'budget', 'domestic gross', 'actors', '1st weekend gross', 'widest release', 'producers', 'directors']"
   ]
  },
  {
   "cell_type": "code",
   "execution_count": null,
   "metadata": {},
   "outputs": [],
   "source": [
    "df_all.head()"
   ]
  },
  {
   "cell_type": "code",
   "execution_count": null,
   "metadata": {},
   "outputs": [],
   "source": [
    "df_all['title'] = df_all.index"
   ]
  },
  {
   "cell_type": "code",
   "execution_count": null,
   "metadata": {},
   "outputs": [],
   "source": [
    "df_all.head()"
   ]
  },
  {
   "cell_type": "code",
   "execution_count": null,
   "metadata": {},
   "outputs": [],
   "source": [
    "df_all.to_pickle('all_movies_20161003.pkl')"
   ]
  },
  {
   "cell_type": "code",
   "execution_count": null,
   "metadata": {},
   "outputs": [],
   "source": [
    "DF = df_all.sort_values('release date')"
   ]
  },
  {
   "cell_type": "code",
   "execution_count": null,
   "metadata": {},
   "outputs": [],
   "source": [
    "DF.index = range(len(DF))"
   ]
  },
  {
   "cell_type": "markdown",
   "metadata": {},
   "source": [
    "Oldest movie in data set is from 1919."
   ]
  },
  {
   "cell_type": "code",
   "execution_count": null,
   "metadata": {},
   "outputs": [],
   "source": [
    "DF['release date'][0]"
   ]
  },
  {
   "cell_type": "markdown",
   "metadata": {},
   "source": [
    "Select movies with release dates in 1990 and beyond."
   ]
  },
  {
   "cell_type": "code",
   "execution_count": null,
   "metadata": {},
   "outputs": [],
   "source": [
    "DF_90s = DF[DF['release date'] > datetime(1989, 12, 31, 0, 0)]"
   ]
  },
  {
   "cell_type": "code",
   "execution_count": null,
   "metadata": {},
   "outputs": [],
   "source": [
    "DF_90s.to_pickle('movies_from_the_90s.pkl')"
   ]
  },
  {
   "cell_type": "markdown",
   "metadata": {},
   "source": [
    "# Work: DATA EXPLORATION"
   ]
  },
  {
   "cell_type": "markdown",
   "metadata": {},
   "source": [
    "### start here"
   ]
  },
  {
   "cell_type": "code",
   "execution_count": null,
   "metadata": {},
   "outputs": [],
   "source": [
    "import pandas as pd "
   ]
  },
  {
   "cell_type": "code",
   "execution_count": null,
   "metadata": {},
   "outputs": [],
   "source": [
    "DF_90s = pd.read_pickle('movies_from_the_90s.pkl')"
   ]
  },
  {
   "cell_type": "code",
   "execution_count": null,
   "metadata": {},
   "outputs": [],
   "source": [
    "# Which columns have missing values ? \n",
    "# what percentage is missing ? \n",
    "for i in DF_90s.columns:\n",
    "    print (i, (DF_90s[i].isnull().sum())/len(DF_90s))"
   ]
  },
  {
   "cell_type": "code",
   "execution_count": null,
   "metadata": {},
   "outputs": [],
   "source": [
    "DF_90s['actors_no_nan'] = DF_90s['actors'].fillna('')\n"
   ]
  },
  {
   "cell_type": "code",
   "execution_count": null,
   "metadata": {},
   "outputs": [],
   "source": [
    "DF_90s.columns"
   ]
  },
  {
   "cell_type": "code",
   "execution_count": null,
   "metadata": {},
   "outputs": [],
   "source": [
    "DF_90s.shape"
   ]
  },
  {
   "cell_type": "code",
   "execution_count": null,
   "metadata": {},
   "outputs": [],
   "source": [
    "DF_90s = DF_90s.drop_duplicates(subset = 'movie')"
   ]
  },
  {
   "cell_type": "code",
   "execution_count": null,
   "metadata": {},
   "outputs": [],
   "source": [
    "DF_90s.shape"
   ]
  },
  {
   "cell_type": "code",
   "execution_count": null,
   "metadata": {},
   "outputs": [],
   "source": [
    "def strip_end(s):\n",
    "    if s.endswith(\"(narrator)\"):\n",
    "        s = s[:-len(\"(narrator)\")]\n",
    "    elif s.endswith(\"(Narrator)\"):\n",
    "        s = s[:-len(\"(Narrator)\")]\n",
    "    elif s.endswith(\"(Himself)\"):\n",
    "        s = s[:-len(\"(Himself)\")]\n",
    "    elif s.endswith(\"(Herself)\"):\n",
    "        s = s[:-len(\"(Herself)\")]\n",
    "    return s\n",
    "# test on: s = \"the narrator is (narrator)\""
   ]
  },
  {
   "cell_type": "code",
   "execution_count": null,
   "metadata": {},
   "outputs": [],
   "source": [
    "def strip_one_space(s):\n",
    "    \"\"\" Strips space at beginning or end of string\"\"\"\n",
    "    if s.endswith(\" \"): s = s[:-1]\n",
    "    if s.startswith(\" \"): s = s[1:]\n",
    "    return s"
   ]
  },
  {
   "cell_type": "code",
   "execution_count": null,
   "metadata": {},
   "outputs": [],
   "source": [
    "def unnest(df, col, reset_index=False):\n",
    "    \"\"\" Unnest cells of series that have lists in them.\"\"\"\n",
    "    import pandas as pd\n",
    "    col_flat = pd.DataFrame([[i, x] \n",
    "                       for i, y in df[col].apply(list).iteritems() \n",
    "                           for x in y], columns=['I', col])\n",
    "    col_flat = col_flat.set_index('I')\n",
    "    df = df.drop(col, 1)\n",
    "    df = df.merge(col_flat, left_index=True, right_index=True)\n",
    "    if reset_index:\n",
    "        df = df.reset_index(drop=True)\n",
    "    return df"
   ]
  },
  {
   "cell_type": "code",
   "execution_count": null,
   "metadata": {},
   "outputs": [],
   "source": [
    "DF_90s.columns"
   ]
  },
  {
   "cell_type": "code",
   "execution_count": null,
   "metadata": {},
   "outputs": [],
   "source": [
    "expected = unnest(DF_90s, 'actors_no_nan')"
   ]
  },
  {
   "cell_type": "code",
   "execution_count": null,
   "metadata": {},
   "outputs": [],
   "source": [
    "expected"
   ]
  },
  {
   "cell_type": "markdown",
   "metadata": {},
   "source": [
    "### convert data types"
   ]
  },
  {
   "cell_type": "code",
   "execution_count": null,
   "metadata": {
    "scrolled": true
   },
   "outputs": [],
   "source": [
    "df_converted_0 = expected.convert_objects(convert_dates = True, convert_numeric = True)"
   ]
  },
  {
   "cell_type": "code",
   "execution_count": null,
   "metadata": {},
   "outputs": [],
   "source": [
    "%matplotlib inline\n",
    "import seaborn as sns\n",
    "sns.heatmap(df_converted_0.corr()) # correlation matrix "
   ]
  },
  {
   "cell_type": "markdown",
   "metadata": {},
   "source": [
    "#### Strip space and things like \"(narrator)\" at the end of the names"
   ]
  },
  {
   "cell_type": "code",
   "execution_count": null,
   "metadata": {},
   "outputs": [],
   "source": [
    "df_converted_0['actors_no_nan_2'] = df_converted_0['actors_no_nan'].apply(strip_end).apply(strip_one_space)"
   ]
  },
  {
   "cell_type": "code",
   "execution_count": null,
   "metadata": {},
   "outputs": [],
   "source": [
    "df_converted_0.shape"
   ]
  },
  {
   "cell_type": "code",
   "execution_count": null,
   "metadata": {},
   "outputs": [],
   "source": [
    "df_converted_0.columns"
   ]
  },
  {
   "cell_type": "code",
   "execution_count": null,
   "metadata": {},
   "outputs": [],
   "source": [
    "del df_converted_0['actors_no_nan']\n",
    "del df_converted_0['producers']\n",
    "del df_converted_0['directors']\n",
    "del df_converted_0['1st weekend gross']"
   ]
  },
  {
   "cell_type": "markdown",
   "metadata": {},
   "source": [
    "### Genre functions: 1 or 0 "
   ]
  },
  {
   "cell_type": "code",
   "execution_count": null,
   "metadata": {},
   "outputs": [],
   "source": [
    "def comedy(s):\n",
    "    if 'Comedy' in s:\n",
    "        return 1\n",
    "    else:\n",
    "        return 0\n",
    "\n",
    "def drama(s):\n",
    "    if 'Drama' in s:\n",
    "        return 1\n",
    "    else:\n",
    "        return 0\n",
    "\n",
    "def animation(s):\n",
    "    if 'Animation' in s:\n",
    "        return 1\n",
    "    else:\n",
    "        return 0\n",
    "\n",
    "def thriller(s):\n",
    "    if 'Thriller' in s:\n",
    "        return 1\n",
    "    else:\n",
    "        return 0 \n",
    "\n",
    "def unknown(s):\n",
    "    if 'Unknown' in s:\n",
    "        return 1\n",
    "    else:\n",
    "        return 0\n",
    "\n",
    "def action(s):\n",
    "    if 'Action' in s:\n",
    "        return 1\n",
    "    else:\n",
    "        return 0\n",
    "\n",
    "def horror(s):\n",
    "    if 'Horror' in s:\n",
    "        return 1 \n",
    "    else:\n",
    "        return 0\n",
    "\n",
    "def romance(s):\n",
    "    if 'Romance' in s:\n",
    "        return 1\n",
    "    else:\n",
    "        return 0\n",
    "\n",
    "def fantasy(s):\n",
    "    if 'Fantasy' in s:\n",
    "        return 1\n",
    "    else:\n",
    "        return 0\n",
    "\n",
    "def family(s):\n",
    "    if 'Family' in s:\n",
    "        return 1\n",
    "    else:\n",
    "        return 0\n",
    "\n",
    "def sports(s):\n",
    "    if 'Sports' in s:\n",
    "        return 1\n",
    "    else:\n",
    "        return 0\n",
    "\n",
    "def foreign(s):\n",
    "    if 'Foreign' in s:\n",
    "        return 1\n",
    "    else:\n",
    "        return 0\n",
    "\n",
    "def music(s):\n",
    "    if 'Music' in s:\n",
    "        return 1\n",
    "    elif 'Concert' in s:\n",
    "        return 1\n",
    "    else:\n",
    "        return 0\n",
    "\n",
    "def western(s):\n",
    "    if 'Western' in s:\n",
    "        return 1\n",
    "    else:\n",
    "        return 0\n",
    "\n",
    "def crime(s):\n",
    "    if 'Crime' in s:\n",
    "        return 1\n",
    "    else:\n",
    "        return 0 \n",
    "    \n",
    "def sci_fi(s):\n",
    "    if 'Sci-Fi' in s:\n",
    "        return 1\n",
    "    else:\n",
    "        return 0\n",
    "\n",
    "def war(s):\n",
    "    if 'War' in s:\n",
    "        return 1\n",
    "    else:\n",
    "        return 0\n",
    "    \n",
    "def documentary(s):\n",
    "    if 'Documentary' in s:\n",
    "        return 1\n",
    "    else:\n",
    "        return 0"
   ]
  },
  {
   "cell_type": "code",
   "execution_count": null,
   "metadata": {},
   "outputs": [],
   "source": [
    "df_converted_0['genre_comedy'] = df_converted_0['genre'].apply(comedy)\n",
    "df_converted_0['genre_drama'] = df_converted_0['genre'].apply(drama)\n",
    "df_converted_0['genre_animation'] = df_converted_0['genre'].apply(animation)\n",
    "df_converted_0['genre_thriller'] = df_converted_0['genre'].apply(thriller)\n",
    "df_converted_0['genre_unknown'] = df_converted_0['genre'].apply(unknown)\n",
    "df_converted_0['genre_action'] = df_converted_0['genre'].apply(action)\n",
    "df_converted_0['genre_horror'] = df_converted_0['genre'].apply(horror)\n",
    "df_converted_0['genre_romance'] = df_converted_0['genre'].apply(romance)\n",
    "df_converted_0['genre_fantasy'] = df_converted_0['genre'].apply(fantasy)\n",
    "df_converted_0['genre_family'] = df_converted_0['genre'].apply(family)\n",
    "df_converted_0['genre_sports'] = df_converted_0['genre'].apply(sports)\n",
    "df_converted_0['genre_foreign'] = df_converted_0['genre'].apply(foreign)\n",
    "df_converted_0['genre_music'] = df_converted_0['genre'].apply(music)\n",
    "df_converted_0['genre_western'] = df_converted_0['genre'].apply(western)\n",
    "df_converted_0['genre_crime'] = df_converted_0['genre'].apply(crime)\n",
    "df_converted_0['genre_sci_fi'] = df_converted_0['genre'].apply(sci_fi)\n",
    "df_converted_0['genre_war'] = df_converted_0['genre'].apply(war)\n",
    "df_converted_0['genre_documentary'] = df_converted_0['genre'].apply(documentary)"
   ]
  },
  {
   "cell_type": "markdown",
   "metadata": {},
   "source": [
    "## Rating functions: 1 or 0"
   ]
  },
  {
   "cell_type": "code",
   "execution_count": null,
   "metadata": {},
   "outputs": [],
   "source": [
    "def rating_R(s):\n",
    "    if 'R' in s:\n",
    "        return 1\n",
    "    else:\n",
    "        return 0\n",
    "\n",
    "def rating_PG_13(s):\n",
    "    if s == 'PG-13':\n",
    "        return 1\n",
    "    else:\n",
    "        return 0\n",
    "\n",
    "def rating_PG(s):\n",
    "    if s == 'PG':\n",
    "        return 1\n",
    "    else:\n",
    "        return 0\n",
    "    \n",
    "def unrated(s):\n",
    "    if 'Unrated' in s:\n",
    "        return 1\n",
    "    else:\n",
    "        return 0\n",
    "\n",
    "def not_yet_rated(s):\n",
    "    if 'Not Yet Rated' in s:\n",
    "        return 1\n",
    "    else:\n",
    "        return 0\n",
    "\n",
    "def rating_G(s):\n",
    "    if s == 'G':\n",
    "        return 1\n",
    "    else:\n",
    "        return 0\n",
    "\n",
    "def unknown(s):\n",
    "    if 'Unknown' in s:\n",
    "        return 1\n",
    "    else:\n",
    "        return 0\n",
    "\n",
    "def rating_NC_17(s):\n",
    "    if 'NC-17' in s:\n",
    "        return 1\n",
    "    else:\n",
    "        return 0"
   ]
  },
  {
   "cell_type": "code",
   "execution_count": null,
   "metadata": {},
   "outputs": [],
   "source": [
    "df_converted_0['rating R'] = df_converted_0['rating'].apply(rating_R)\n",
    "df_converted_0['rating PG13'] = df_converted_0['rating'].apply(rating_PG_13)\n",
    "df_converted_0['rating PG'] = df_converted_0['rating'].apply(rating_PG)\n",
    "df_converted_0['unrated'] = df_converted_0['rating'].apply(unrated)\n",
    "df_converted_0['not yet rated'] = df_converted_0['rating'].apply(not_yet_rated)\n",
    "df_converted_0['rating G'] = df_converted_0['rating'].apply(rating_G)\n",
    "df_converted_0['unknown'] = df_converted_0['rating'].apply(unknown)\n",
    "df_converted_0['rating NC17'] = df_converted_0['rating'].apply(rating_NC_17)"
   ]
  },
  {
   "cell_type": "code",
   "execution_count": null,
   "metadata": {
    "scrolled": true
   },
   "outputs": [],
   "source": [
    "df_converted_0 = df_converted_0.convert_objects(convert_dates = True, convert_numeric = True)"
   ]
  },
  {
   "cell_type": "code",
   "execution_count": null,
   "metadata": {},
   "outputs": [],
   "source": [
    "df_converted_0.columns"
   ]
  },
  {
   "cell_type": "code",
   "execution_count": null,
   "metadata": {},
   "outputs": [],
   "source": [
    "df_converted_0['$ in per minute'] = df_converted_0['budget']/df_converted_0['runtime']\n",
    "df_converted_0['$ out per minute'] = df_converted_0['domestic gross']/df_converted_0['runtime']\n",
    "df_converted_0['margin'] = df_converted_0['domestic gross']/df_converted_0['budget']"
   ]
  },
  {
   "cell_type": "code",
   "execution_count": null,
   "metadata": {},
   "outputs": [],
   "source": [
    "df_converted_0.shape"
   ]
  },
  {
   "cell_type": "code",
   "execution_count": null,
   "metadata": {},
   "outputs": [],
   "source": [
    "df_converted_0.columns"
   ]
  },
  {
   "cell_type": "code",
   "execution_count": null,
   "metadata": {},
   "outputs": [],
   "source": [
    "df_converted_1 = df_converted_0.drop(['title','genre_foreign', 'unknown','not yet rated', 'rating NC17'], axis =1 )"
   ]
  },
  {
   "cell_type": "code",
   "execution_count": null,
   "metadata": {},
   "outputs": [],
   "source": [
    "df_converted_1 # with NaNs"
   ]
  },
  {
   "cell_type": "code",
   "execution_count": null,
   "metadata": {},
   "outputs": [],
   "source": [
    "# Which columns have missing values ? \n",
    "# what percentage is missing ? \n",
    "for i in df_converted_1.columns:\n",
    "    print (i, (df_converted_1[i].isnull().sum())/len(df_converted_1))"
   ]
  },
  {
   "cell_type": "markdown",
   "metadata": {},
   "source": [
    "Drop rows that have NaN values in widest release, domestic gross, and runtime columns."
   ]
  },
  {
   "cell_type": "code",
   "execution_count": null,
   "metadata": {},
   "outputs": [],
   "source": [
    "df_converted_2 = df_converted_1.dropna(axis = 0, subset = ['widest release', 'domestic gross', 'runtime'])"
   ]
  },
  {
   "cell_type": "code",
   "execution_count": null,
   "metadata": {},
   "outputs": [],
   "source": [
    "df_converted_2.shape"
   ]
  },
  {
   "cell_type": "code",
   "execution_count": null,
   "metadata": {},
   "outputs": [],
   "source": [
    "# Which columns have missing values ? \n",
    "# what percentage is missing ? \n",
    "for i in df_converted_2.columns:\n",
    "    print (i, (df_converted_2[i].isnull().sum())/len(df_converted_2))"
   ]
  },
  {
   "cell_type": "code",
   "execution_count": null,
   "metadata": {},
   "outputs": [],
   "source": [
    "plt.scatter(df_converted_2['budget'], df_converted_2['domestic gross'])\n",
    "plt.xscale('log')\n",
    "plt.yscale('log')"
   ]
  },
  {
   "cell_type": "code",
   "execution_count": null,
   "metadata": {},
   "outputs": [],
   "source": [
    "plt.scatter(df_converted_2['budget'], df_converted_2['domestic gross'], c = 'y', edgecolor = 'g')\n",
    "plt.xlabel('BUDGET')\n",
    "plt.ylabel('domestic gross')"
   ]
  },
  {
   "cell_type": "code",
   "execution_count": null,
   "metadata": {},
   "outputs": [],
   "source": [
    "df_converted_3 = df_converted_2.copy()"
   ]
  },
  {
   "cell_type": "code",
   "execution_count": null,
   "metadata": {},
   "outputs": [],
   "source": [
    "df_converted_3.columns"
   ]
  },
  {
   "cell_type": "markdown",
   "metadata": {},
   "source": [
    "### Drop columns that have lots of NaN values"
   ]
  },
  {
   "cell_type": "code",
   "execution_count": null,
   "metadata": {},
   "outputs": [],
   "source": [
    "del df_converted_3['$ in per minute']\n",
    "del df_converted_3['margin']\n",
    "del df_converted_3['budget']"
   ]
  },
  {
   "cell_type": "code",
   "execution_count": null,
   "metadata": {},
   "outputs": [],
   "source": [
    "df_converted_3.shape"
   ]
  },
  {
   "cell_type": "code",
   "execution_count": null,
   "metadata": {},
   "outputs": [],
   "source": [
    "import matplotlib.pyplot as plt\n",
    "%matplotlib inline\n",
    "plt.scatter(df_converted_3['runtime'], df_converted_3['$ out per minute'])"
   ]
  },
  {
   "cell_type": "code",
   "execution_count": null,
   "metadata": {},
   "outputs": [],
   "source": [
    "plt.scatter(df_converted_3['domestic gross'], df_converted_3['$ out per minute'])"
   ]
  },
  {
   "cell_type": "code",
   "execution_count": null,
   "metadata": {},
   "outputs": [],
   "source": [
    "df_converted_3['runtime'].hist(bins = 50)"
   ]
  },
  {
   "cell_type": "code",
   "execution_count": null,
   "metadata": {},
   "outputs": [],
   "source": [
    "sns.jointplot('runtime', '$ out per minute', df_converted_3)"
   ]
  },
  {
   "cell_type": "markdown",
   "metadata": {},
   "source": [
    "### Dummy variables for season"
   ]
  },
  {
   "cell_type": "code",
   "execution_count": null,
   "metadata": {},
   "outputs": [],
   "source": [
    "df_converted_3['month'] = df_converted_3['release date'].map(lambda x: x.month)"
   ]
  },
  {
   "cell_type": "code",
   "execution_count": null,
   "metadata": {},
   "outputs": [],
   "source": [
    "def holidays(month):\n",
    "    if month == 11 or month == 12 or month == 1:\n",
    "        return 1\n",
    "    else:\n",
    "        return 0\n",
    "\n",
    "def summer(month):\n",
    "    if month == 5 or month == 6 or month == 7 or month == 8 or month == 9:\n",
    "        return 1\n",
    "    else:\n",
    "        return 0"
   ]
  },
  {
   "cell_type": "code",
   "execution_count": null,
   "metadata": {},
   "outputs": [],
   "source": [
    "df_converted_3['holidays']  = df_converted_3['month'].apply(holidays)\n",
    "df_converted_3['summer'] = df_converted_3['month'].apply(summer)"
   ]
  },
  {
   "cell_type": "code",
   "execution_count": null,
   "metadata": {},
   "outputs": [],
   "source": [
    "del df_converted_3['month']\n"
   ]
  },
  {
   "cell_type": "code",
   "execution_count": null,
   "metadata": {},
   "outputs": [],
   "source": [
    "df_converted_4 = df_converted_3.copy()\n",
    "del df_converted_4['$ out per minute']"
   ]
  },
  {
   "cell_type": "code",
   "execution_count": null,
   "metadata": {},
   "outputs": [],
   "source": [
    "sns.heatmap(df_converted_4.corr())"
   ]
  },
  {
   "cell_type": "code",
   "execution_count": null,
   "metadata": {},
   "outputs": [],
   "source": [
    "#def top_grossers(a):\n",
    "#    top_grossers = ['Alan Rickman', 'Amy Adams', 'Amy Poehler', 'Anna Kendrick', \n",
    "#                    'Anne Hathaway', 'Bill Hader', 'Billy Burke', 'Bonnie Hunt', \n",
    "#                    'Bradley Cooper', 'Bryce Dallas Howard', 'Cameron Diaz', \n",
    "#                    'Chris Evans', 'Chris Hemsworth', 'Chris Pine', 'Chris Pratt', \n",
    "#                    'Clark Gregg', 'Dakota Fanning', 'Diane Lane', 'Djimon Hounsou', \n",
    "#                    'Don Cheadle', 'Donald Sutherland', 'Dwayne Johnson', 'Ed Helms', \n",
    "#                    'Eddie Murphy', 'Elizabeth Banks', 'Famke Janssen', 'Gary Oldman', \n",
    "#                    'Geoffrey Rush', 'Gwyneth Paltrow', 'Halle Berry', 'Harrison Ford', \n",
    "#                    'Helena Bonham Carter', 'Hugh Jackman', 'Ian McKellen', 'Ian McShane', \n",
    "#                    'James Franco', 'Jane Lynch', 'Jeff Goldblum', 'Jena Malone', \n",
    "#                    'Jennifer Lawrence', 'Jeremy Renner', 'Joey King', 'John Cleese', \n",
    "#                    'Johnny Depp', 'Jon Favreau', 'Jon Hamm', 'Jonah Hill', \n",
    "#                    'Jonathan Pryce', 'Josh Duhamel', 'Josh Hutcherson', \n",
    "#                    'Judy Greer', 'Ken Jeong', 'Kevin James', 'Kristen Stewart', \n",
    "#                    'Kristen Wiig', 'Laurence Fishburne', 'Leonardo DiCaprio', \n",
    "#                    'Marion Cotillard', 'Mark Ruffalo', 'Maya Rudolph', 'Michael Keaton', \n",
    "#                    'Michael Sheen', 'Michelle Rodriguez', 'Mike Myers', 'Nicholas Hoult', \n",
    "#                    'Patrick Stewart', 'Paul Bettany', 'Paul Walker', 'Ray Winstone', \n",
    "#                    'Rob Riggle', 'Robert Downey', 'Samuel L. Jackson', \n",
    "#                    'Scarlett Johansson', 'Shia LaBeouf', 'Simon Pegg', \n",
    "#                    'Stanley Tucci', 'Stellan Skarsgard', 'Steve Carell', \n",
    "#                    'Steve Coogan', 'Tobey Maguire', 'Tom Cruise', 'Tom Hanks', \n",
    "#                    'Tom Hardy', 'Tommy Lee Jones', 'Topher Grace', 'Tyrese Gibson', \n",
    "#                    'Vin Diesel', 'Warwick Davis', 'Will Arnett', 'Will Smith']\n",
    "#    \n",
    "#    if a in top_grossers:\n",
    "#        return 1\n",
    "#    else:\n",
    "#        return 0"
   ]
  },
  {
   "cell_type": "code",
   "execution_count": null,
   "metadata": {},
   "outputs": [],
   "source": [
    "#df_converted_2['top grosser'] = df_converted_2['actors_no_nan_2'].apply(top_grossers)"
   ]
  },
  {
   "cell_type": "code",
   "execution_count": null,
   "metadata": {},
   "outputs": [],
   "source": [
    "df_converted_4['count'] = 1"
   ]
  },
  {
   "cell_type": "code",
   "execution_count": null,
   "metadata": {},
   "outputs": [],
   "source": [
    "df_converted_4"
   ]
  },
  {
   "cell_type": "markdown",
   "metadata": {},
   "source": [
    "# Try cumulative \\$ the author has made \n"
   ]
  },
  {
   "cell_type": "code",
   "execution_count": null,
   "metadata": {},
   "outputs": [],
   "source": [
    "df_converted_4.sort_values(by=['actors_no_nan_2','release date']).groupby('actors_no_nan_2').max()"
   ]
  },
  {
   "cell_type": "code",
   "execution_count": null,
   "metadata": {},
   "outputs": [],
   "source": [
    "actor_min = df_converted_4.groupby('actors_no_nan_2').min()"
   ]
  },
  {
   "cell_type": "code",
   "execution_count": null,
   "metadata": {},
   "outputs": [],
   "source": [
    "actor_max = df_converted_4.groupby('actors_no_nan_2').max()"
   ]
  },
  {
   "cell_type": "code",
   "execution_count": null,
   "metadata": {},
   "outputs": [],
   "source": [
    "actor_min['min Year'] = actor_min['release date'].map(lambda x: x.year)\n",
    "actor_max['max Year'] = actor_max['release date'].map(lambda x: x.year)\n"
   ]
  },
  {
   "cell_type": "code",
   "execution_count": null,
   "metadata": {},
   "outputs": [],
   "source": [
    "actor_max.shape"
   ]
  },
  {
   "cell_type": "code",
   "execution_count": null,
   "metadata": {},
   "outputs": [],
   "source": [
    "actor_min.to_pickle('actor_min.pkl')\n",
    "actor_max.to_pickle('actor_max.pkl')"
   ]
  },
  {
   "cell_type": "code",
   "execution_count": null,
   "metadata": {},
   "outputs": [],
   "source": []
  },
  {
   "cell_type": "markdown",
   "metadata": {},
   "source": [
    "### Group by movie"
   ]
  },
  {
   "cell_type": "code",
   "execution_count": null,
   "metadata": {},
   "outputs": [],
   "source": [
    "df_by_movie_mean = df_converted_4.groupby('movie').mean().reset_index()"
   ]
  },
  {
   "cell_type": "code",
   "execution_count": null,
   "metadata": {},
   "outputs": [],
   "source": [
    "df_by_movie_sum = df_converted_4.groupby('movie').sum().reset_index()"
   ]
  },
  {
   "cell_type": "code",
   "execution_count": null,
   "metadata": {},
   "outputs": [],
   "source": [
    "df_by_movie_mean.head()"
   ]
  },
  {
   "cell_type": "code",
   "execution_count": null,
   "metadata": {},
   "outputs": [],
   "source": [
    "df_by_movie_sum.head()"
   ]
  },
  {
   "cell_type": "code",
   "execution_count": null,
   "metadata": {},
   "outputs": [],
   "source": [
    "df_by_actor_sum = df_converted_4.groupby('actors_no_nan_2').sum().reset_index()\n",
    "df_by_actor_mean = df_converted_4.groupby('actors_no_nan_2').mean().reset_index()"
   ]
  },
  {
   "cell_type": "code",
   "execution_count": null,
   "metadata": {},
   "outputs": [],
   "source": [
    "df_by_actor_mean['movie counts'] = df_by_actor_sum['count']"
   ]
  },
  {
   "cell_type": "code",
   "execution_count": null,
   "metadata": {},
   "outputs": [],
   "source": [
    "del df_by_actor_mean['count']"
   ]
  },
  {
   "cell_type": "code",
   "execution_count": null,
   "metadata": {},
   "outputs": [],
   "source": [
    "sns.heatmap(df_by_actor_mean.corr())"
   ]
  },
  {
   "cell_type": "code",
   "execution_count": null,
   "metadata": {},
   "outputs": [],
   "source": [
    "df_actors = df_by_actor_mean.copy()"
   ]
  },
  {
   "cell_type": "code",
   "execution_count": null,
   "metadata": {},
   "outputs": [],
   "source": [
    "del df_actors['unrated']"
   ]
  },
  {
   "cell_type": "code",
   "execution_count": null,
   "metadata": {},
   "outputs": [],
   "source": [
    "sns.heatmap(df_actors.corr())"
   ]
  },
  {
   "cell_type": "code",
   "execution_count": null,
   "metadata": {},
   "outputs": [],
   "source": [
    "df_by_actor_sum.to_pickle('data_actors_sum.pkl')"
   ]
  },
  {
   "cell_type": "code",
   "execution_count": null,
   "metadata": {},
   "outputs": [],
   "source": [
    "df_actors['gross overall'] = df_by_actor_sum['domestic gross']\n",
    "df_actors.tail(15)"
   ]
  },
  {
   "cell_type": "code",
   "execution_count": null,
   "metadata": {},
   "outputs": [],
   "source": [
    "df_actors.to_pickle('data_actors.pkl')"
   ]
  },
  {
   "cell_type": "code",
   "execution_count": null,
   "metadata": {},
   "outputs": [],
   "source": [
    "df_actors.shape"
   ]
  },
  {
   "cell_type": "code",
   "execution_count": null,
   "metadata": {},
   "outputs": [],
   "source": [
    "df_converted_2[df_converted_2['runtime'] > 225]['actors_no_nan_2']"
   ]
  },
  {
   "cell_type": "code",
   "execution_count": null,
   "metadata": {},
   "outputs": [],
   "source": [
    "df_converted_4[df_converted_4['movie'] == '/movies/?id=nixon.htm']"
   ]
  },
  {
   "cell_type": "code",
   "execution_count": null,
   "metadata": {},
   "outputs": [],
   "source": []
  },
  {
   "cell_type": "code",
   "execution_count": null,
   "metadata": {},
   "outputs": [],
   "source": []
  },
  {
   "cell_type": "code",
   "execution_count": null,
   "metadata": {},
   "outputs": [],
   "source": []
  },
  {
   "cell_type": "code",
   "execution_count": null,
   "metadata": {},
   "outputs": [],
   "source": []
  },
  {
   "cell_type": "code",
   "execution_count": null,
   "metadata": {},
   "outputs": [],
   "source": []
  },
  {
   "cell_type": "code",
   "execution_count": null,
   "metadata": {},
   "outputs": [],
   "source": []
  },
  {
   "cell_type": "code",
   "execution_count": null,
   "metadata": {},
   "outputs": [],
   "source": []
  },
  {
   "cell_type": "code",
   "execution_count": null,
   "metadata": {},
   "outputs": [],
   "source": [
    "df_by_movie_mean['runtime'].hist(bins = 20)"
   ]
  },
  {
   "cell_type": "code",
   "execution_count": null,
   "metadata": {},
   "outputs": [],
   "source": [
    "df_by_movie_mean['top grosser'].hist(bins = 20)"
   ]
  },
  {
   "cell_type": "code",
   "execution_count": null,
   "metadata": {},
   "outputs": [],
   "source": [
    "df_by_movie_mean['count'].hist(bins = 20)"
   ]
  },
  {
   "cell_type": "code",
   "execution_count": null,
   "metadata": {},
   "outputs": [],
   "source": [
    "df_by_movie_mean['margin'].hist(bins = 100)"
   ]
  },
  {
   "cell_type": "code",
   "execution_count": null,
   "metadata": {},
   "outputs": [],
   "source": [
    "import numpy as np\n",
    "np.log(df_by_movie_mean['margin']).hist(bins = 100)"
   ]
  },
  {
   "cell_type": "code",
   "execution_count": null,
   "metadata": {},
   "outputs": [],
   "source": [
    "del df_by_movie_mean['count']"
   ]
  },
  {
   "cell_type": "code",
   "execution_count": null,
   "metadata": {},
   "outputs": [],
   "source": [
    "del df_by_movie_mean['$/runtime']"
   ]
  },
  {
   "cell_type": "code",
   "execution_count": null,
   "metadata": {},
   "outputs": [],
   "source": [
    "sns.heatmap(df_by_movie_mean.corr())"
   ]
  },
  {
   "cell_type": "code",
   "execution_count": null,
   "metadata": {},
   "outputs": [],
   "source": [
    "df_by_movie_mean"
   ]
  },
  {
   "cell_type": "code",
   "execution_count": null,
   "metadata": {},
   "outputs": [],
   "source": [
    "df_by_movie_mean"
   ]
  },
  {
   "cell_type": "code",
   "execution_count": null,
   "metadata": {},
   "outputs": [],
   "source": [
    "df_numeric = df_by_movie_mean._get_numeric_data()"
   ]
  },
  {
   "cell_type": "code",
   "execution_count": null,
   "metadata": {},
   "outputs": [],
   "source": [
    "print(df_by_movie_mean.shape)\n",
    "print(df_numeric.shape)"
   ]
  },
  {
   "cell_type": "code",
   "execution_count": null,
   "metadata": {},
   "outputs": [],
   "source": [
    "X = df_numeric.drop('budget', 1)\n",
    "y = df_numeric.budget"
   ]
  },
  {
   "cell_type": "code",
   "execution_count": null,
   "metadata": {
    "scrolled": true
   },
   "outputs": [],
   "source": [
    "df_numeric.to_pickle('data.pkl')"
   ]
  },
  {
   "cell_type": "code",
   "execution_count": null,
   "metadata": {},
   "outputs": [],
   "source": [
    "sns.heatmap(df_by_movie_mean.corr())"
   ]
  },
  {
   "cell_type": "code",
   "execution_count": null,
   "metadata": {},
   "outputs": [],
   "source": [
    "import matplotlib.pyplot as plt "
   ]
  },
  {
   "cell_type": "code",
   "execution_count": null,
   "metadata": {},
   "outputs": [],
   "source": [
    "plt.scatter(df_by_movie_mean['budget'], df_by_movie_mean['margin'])"
   ]
  },
  {
   "cell_type": "code",
   "execution_count": null,
   "metadata": {},
   "outputs": [],
   "source": [
    "df_converted_2['top grosser'].value_counts()"
   ]
  },
  {
   "cell_type": "code",
   "execution_count": null,
   "metadata": {},
   "outputs": [],
   "source": [
    "df_converted_2['count'].value_counts()"
   ]
  },
  {
   "cell_type": "code",
   "execution_count": null,
   "metadata": {},
   "outputs": [],
   "source": [
    "df_converted_2.shape"
   ]
  },
  {
   "cell_type": "code",
   "execution_count": null,
   "metadata": {},
   "outputs": [],
   "source": [
    "# run on actors_no_nan_2\n",
    "def top_grossers(a):\n",
    "    top_grossers = ['Alan Rickman', 'Amy Adams', 'Amy Poehler', 'Anna Kendrick', \n",
    "                    'Anne Hathaway', 'Bill Hader', 'Billy Burke', 'Bonnie Hunt', \n",
    "                    'Bradley Cooper', 'Bryce Dallas Howard', 'Cameron Diaz', \n",
    "                    'Chris Evans', 'Chris Hemsworth', 'Chris Pine', 'Chris Pratt', \n",
    "                    'Clark Gregg', 'Dakota Fanning', 'Diane Lane', 'Djimon Hounsou', \n",
    "                    'Don Cheadle', 'Donald Sutherland', 'Dwayne Johnson', 'Ed Helms', \n",
    "                    'Eddie Murphy', 'Elizabeth Banks', 'Famke Janssen', 'Gary Oldman', \n",
    "                    'Geoffrey Rush', 'Gwyneth Paltrow', 'Halle Berry', 'Harrison Ford', \n",
    "                    'Helena Bonham Carter', 'Hugh Jackman', 'Ian McKellen', 'Ian McShane', \n",
    "                    'James Franco', 'Jane Lynch', 'Jeff Goldblum', 'Jena Malone', \n",
    "                    'Jennifer Lawrence', 'Jeremy Renner', 'Joey King', 'John Cleese', \n",
    "                    'Johnny Depp', 'Jon Favreau', 'Jon Hamm', 'Jonah Hill', \n",
    "                    'Jonathan Pryce', 'Josh Duhamel', 'Josh Hutcherson', \n",
    "                    'Judy Greer', 'Ken Jeong', 'Kevin James', 'Kristen Stewart', \n",
    "                    'Kristen Wiig', 'Laurence Fishburne', 'Leonardo DiCaprio', \n",
    "                    'Marion Cotillard', 'Mark Ruffalo', 'Maya Rudolph', 'Michael Keaton', \n",
    "                    'Michael Sheen', 'Michelle Rodriguez', 'Mike Myers', 'Nicholas Hoult', \n",
    "                    'Patrick Stewart', 'Paul Bettany', 'Paul Walker', 'Ray Winstone', \n",
    "                    'Rob Riggle', 'Robert Downey', 'Samuel L. Jackson', \n",
    "                    'Scarlett Johansson', 'Shia LaBeouf', 'Simon Pegg', \n",
    "                    'Stanley Tucci', 'Stellan Skarsgard', 'Steve Carell', \n",
    "                    'Steve Coogan', 'Tobey Maguire', 'Tom Cruise', 'Tom Hanks', \n",
    "                    'Tom Hardy', 'Tommy Lee Jones', 'Topher Grace', 'Tyrese Gibson', \n",
    "                    'Vin Diesel', 'Warwick Davis', 'Will Arnett', 'Will Smith']\n",
    "    \n",
    "    if a in top_grossers:\n",
    "        return 1\n",
    "    else:\n",
    "        return 0"
   ]
  },
  {
   "cell_type": "code",
   "execution_count": null,
   "metadata": {
    "scrolled": false
   },
   "outputs": [],
   "source": [
    "df_converted_2['top grosser'] = df_converted_2['actors_no_nan_2'].apply(top_grossers)"
   ]
  },
  {
   "cell_type": "code",
   "execution_count": null,
   "metadata": {},
   "outputs": [],
   "source": [
    "df_converted_2.to_pickle('data_converted.pkl')"
   ]
  },
  {
   "cell_type": "code",
   "execution_count": null,
   "metadata": {},
   "outputs": [],
   "source": [
    "!ls -l"
   ]
  },
  {
   "cell_type": "code",
   "execution_count": null,
   "metadata": {},
   "outputs": [],
   "source": [
    "df_by_movie_sum = df_converted_2.groupby('movie').sum()"
   ]
  },
  {
   "cell_type": "code",
   "execution_count": null,
   "metadata": {},
   "outputs": [],
   "source": [
    "df_by_movie_sum['top grosser'].hist(bins = 20)"
   ]
  },
  {
   "cell_type": "code",
   "execution_count": null,
   "metadata": {},
   "outputs": [],
   "source": [
    "series_top_grossers = df_by_movie_sum['top grosser'].value_counts()"
   ]
  },
  {
   "cell_type": "code",
   "execution_count": null,
   "metadata": {},
   "outputs": [],
   "source": [
    "series_top_grossers"
   ]
  },
  {
   "cell_type": "code",
   "execution_count": null,
   "metadata": {},
   "outputs": [],
   "source": [
    "sum(series_top_grossers)"
   ]
  },
  {
   "cell_type": "markdown",
   "metadata": {},
   "source": [
    "# How to oversample??? "
   ]
  },
  {
   "cell_type": "code",
   "execution_count": null,
   "metadata": {},
   "outputs": [],
   "source": [
    "1464/2355  #62% movies without the top grossers"
   ]
  },
  {
   "cell_type": "code",
   "execution_count": null,
   "metadata": {},
   "outputs": [],
   "source": [
    "(1464+603)/2355 # 88% movies with 0 or 1 top grossers"
   ]
  },
  {
   "cell_type": "code",
   "execution_count": null,
   "metadata": {},
   "outputs": [],
   "source": [
    "df_by_movie_mean = df_converted_2.groupby('movie').mean()"
   ]
  },
  {
   "cell_type": "code",
   "execution_count": null,
   "metadata": {},
   "outputs": [],
   "source": [
    "np.log10(df_by_movie_mean['margin']).hist(bins = 100)"
   ]
  },
  {
   "cell_type": "code",
   "execution_count": null,
   "metadata": {},
   "outputs": [],
   "source": [
    "df_by_movie_mean['margin'].hist(bins = 100)"
   ]
  },
  {
   "cell_type": "code",
   "execution_count": null,
   "metadata": {},
   "outputs": [],
   "source": [
    "print(df_by_movie_mean['margin'].mean())\n",
    "print(df_by_movie_mean['margin'].median()) "
   ]
  },
  {
   "cell_type": "code",
   "execution_count": null,
   "metadata": {},
   "outputs": [],
   "source": [
    "df_by_movie_mean['top grosser']"
   ]
  },
  {
   "cell_type": "code",
   "execution_count": null,
   "metadata": {},
   "outputs": [],
   "source": [
    "df_by_movie_mean['top grosser'].hist(bins = 20)"
   ]
  },
  {
   "cell_type": "code",
   "execution_count": null,
   "metadata": {},
   "outputs": [],
   "source": [
    "df_by_movie_mean['$ actors'] = df_by_movie_sum['top grosser']"
   ]
  },
  {
   "cell_type": "code",
   "execution_count": null,
   "metadata": {},
   "outputs": [],
   "source": [
    "df_by_movie_mean = df_by_movie_mean.reset_index()"
   ]
  },
  {
   "cell_type": "code",
   "execution_count": null,
   "metadata": {},
   "outputs": [],
   "source": [
    "sns.heatmap(df_by_movie_mean.corr())"
   ]
  },
  {
   "cell_type": "code",
   "execution_count": null,
   "metadata": {},
   "outputs": [],
   "source": [
    "df_by_movie_mean.columns"
   ]
  },
  {
   "cell_type": "code",
   "execution_count": null,
   "metadata": {},
   "outputs": [],
   "source": [
    "def super_cast(n):\n",
    "    if n> 2:\n",
    "        return 1 \n",
    "    else:\n",
    "        return 0"
   ]
  },
  {
   "cell_type": "code",
   "execution_count": null,
   "metadata": {},
   "outputs": [],
   "source": [
    "df_by_movie_mean['super cast'] = df_by_movie_mean['$ actors'].apply(super_cast)"
   ]
  },
  {
   "cell_type": "code",
   "execution_count": null,
   "metadata": {},
   "outputs": [],
   "source": [
    "df_by_movie_mean"
   ]
  },
  {
   "cell_type": "code",
   "execution_count": null,
   "metadata": {},
   "outputs": [],
   "source": [
    "sns.heatmap(df_by_movie_mean.corr())"
   ]
  },
  {
   "cell_type": "code",
   "execution_count": null,
   "metadata": {},
   "outputs": [],
   "source": [
    "df_by_movie_mean.corr()"
   ]
  },
  {
   "cell_type": "code",
   "execution_count": null,
   "metadata": {},
   "outputs": [],
   "source": [
    "df_by_movie_mean.shape"
   ]
  },
  {
   "cell_type": "code",
   "execution_count": null,
   "metadata": {},
   "outputs": [],
   "source": [
    "del df_by_movie_mean['log margin']"
   ]
  },
  {
   "cell_type": "code",
   "execution_count": null,
   "metadata": {},
   "outputs": [],
   "source": [
    "df_by_movie_mean.columns"
   ]
  },
  {
   "cell_type": "code",
   "execution_count": null,
   "metadata": {},
   "outputs": [],
   "source": [
    "plt.scatter(df_by_movie_mean['$ actors'], df_by_movie_mean['margin'])"
   ]
  },
  {
   "cell_type": "code",
   "execution_count": null,
   "metadata": {},
   "outputs": [],
   "source": [
    "df_by_movie_mean[df_by_movie_mean['$ actors'] > 5]"
   ]
  },
  {
   "cell_type": "code",
   "execution_count": null,
   "metadata": {},
   "outputs": [],
   "source": [
    "df_by_actor = df_converted_2.groupby('actors_no_nan_2').sum()"
   ]
  },
  {
   "cell_type": "code",
   "execution_count": null,
   "metadata": {},
   "outputs": [],
   "source": [
    "df_by_actor = df_by_actor.reset_index()"
   ]
  },
  {
   "cell_type": "code",
   "execution_count": null,
   "metadata": {},
   "outputs": [],
   "source": [
    "df_by_actor[df_by_actor['actors_no_nan_2'] == 'Jr.']"
   ]
  },
  {
   "cell_type": "code",
   "execution_count": null,
   "metadata": {},
   "outputs": [],
   "source": [
    "df_by_actor = df_by_actor.drop(949)"
   ]
  },
  {
   "cell_type": "code",
   "execution_count": null,
   "metadata": {},
   "outputs": [],
   "source": [
    "df_by_actor.columns"
   ]
  },
  {
   "cell_type": "code",
   "execution_count": null,
   "metadata": {},
   "outputs": [],
   "source": [
    "df_by_actor['top grosser'].hist(bins = 20)"
   ]
  },
  {
   "cell_type": "code",
   "execution_count": null,
   "metadata": {},
   "outputs": [],
   "source": [
    "df_by_actor['count'].hist(bins = 100)"
   ]
  },
  {
   "cell_type": "code",
   "execution_count": null,
   "metadata": {},
   "outputs": [],
   "source": [
    "df_by_actor['avg gross per movie'] = df_by_actor['domestic gross']/df_by_actor['count']"
   ]
  },
  {
   "cell_type": "code",
   "execution_count": null,
   "metadata": {},
   "outputs": [],
   "source": [
    "df_by_actor['avg gross per movie'].hist(bins = 100)"
   ]
  },
  {
   "cell_type": "code",
   "execution_count": null,
   "metadata": {},
   "outputs": [],
   "source": [
    "plt.scatter(df_by_actor['avg gross per movie'],df_by_actor['count'])"
   ]
  },
  {
   "cell_type": "markdown",
   "metadata": {},
   "source": [
    "#### Add count =1 column so we can count how many movies an actor has made (total and by genre)"
   ]
  },
  {
   "cell_type": "code",
   "execution_count": null,
   "metadata": {},
   "outputs": [],
   "source": [
    "df_by_actor_mean = df_converted_2.groupby('actors_no_nan_2').mean()"
   ]
  },
  {
   "cell_type": "code",
   "execution_count": null,
   "metadata": {},
   "outputs": [],
   "source": [
    "df_by_actor.sort_values(by = 'count', ascending = False)"
   ]
  },
  {
   "cell_type": "code",
   "execution_count": null,
   "metadata": {},
   "outputs": [],
   "source": [
    "df_by_actor.columns"
   ]
  },
  {
   "cell_type": "code",
   "execution_count": null,
   "metadata": {},
   "outputs": [],
   "source": [
    "grossers = df_by_actor[(df_by_actor['count'] >= 10) & (df_by_actor['avg gross per movie'] >= 100000000)]\n",
    "#df_by_actor[df_by_actor['avg gross per movie'] >= 20000000]"
   ]
  },
  {
   "cell_type": "code",
   "execution_count": null,
   "metadata": {},
   "outputs": [],
   "source": [
    "top_grossers = list(grossers['actors_no_nan_2'])"
   ]
  },
  {
   "cell_type": "code",
   "execution_count": null,
   "metadata": {},
   "outputs": [],
   "source": [
    "print(top_grossers)"
   ]
  },
  {
   "cell_type": "code",
   "execution_count": null,
   "metadata": {},
   "outputs": [],
   "source": [
    "len(df_by_actor['actors_no_nan_2'])"
   ]
  },
  {
   "cell_type": "code",
   "execution_count": null,
   "metadata": {},
   "outputs": [],
   "source": [
    "len(top_grossers)"
   ]
  },
  {
   "cell_type": "code",
   "execution_count": null,
   "metadata": {},
   "outputs": [],
   "source": []
  },
  {
   "cell_type": "code",
   "execution_count": null,
   "metadata": {},
   "outputs": [],
   "source": [
    "# run on actors_no_nan_2\n",
    "def top_grossers(a):\n",
    "    top_grossers = ['Alan Rickman', 'Amy Adams', 'Amy Poehler', 'Anna Kendrick', \n",
    "                    'Anne Hathaway', 'Bill Hader', 'Billy Burke', 'Bonnie Hunt', \n",
    "                    'Bradley Cooper', 'Bryce Dallas Howard', 'Cameron Diaz', \n",
    "                    'Chris Evans', 'Chris Hemsworth', 'Chris Pine', 'Chris Pratt', \n",
    "                    'Clark Gregg', 'Dakota Fanning', 'Diane Lane', 'Djimon Hounsou', \n",
    "                    'Don Cheadle', 'Donald Sutherland', 'Dwayne Johnson', 'Ed Helms', \n",
    "                    'Eddie Murphy', 'Elizabeth Banks', 'Famke Janssen', 'Gary Oldman', \n",
    "                    'Geoffrey Rush', 'Gwyneth Paltrow', 'Halle Berry', 'Harrison Ford', \n",
    "                    'Helena Bonham Carter', 'Hugh Jackman', 'Ian McKellen', 'Ian McShane', \n",
    "                    'James Franco', 'Jane Lynch', 'Jeff Goldblum', 'Jena Malone', \n",
    "                    'Jennifer Lawrence', 'Jeremy Renner', 'Joey King', 'John Cleese', \n",
    "                    'Johnny Depp', 'Jon Favreau', 'Jon Hamm', 'Jonah Hill', \n",
    "                    'Jonathan Pryce', 'Josh Duhamel', 'Josh Hutcherson', \n",
    "                    'Judy Greer', 'Ken Jeong', 'Kevin James', 'Kristen Stewart', \n",
    "                    'Kristen Wiig', 'Laurence Fishburne', 'Leonardo DiCaprio', \n",
    "                    'Marion Cotillard', 'Mark Ruffalo', 'Maya Rudolph', 'Michael Keaton', \n",
    "                    'Michael Sheen', 'Michelle Rodriguez', 'Mike Myers', 'Nicholas Hoult', \n",
    "                    'Patrick Stewart', 'Paul Bettany', 'Paul Walker', 'Ray Winstone', \n",
    "                    'Rob Riggle', 'Robert Downey', 'Samuel L. Jackson', \n",
    "                    'Scarlett Johansson', 'Shia LaBeouf', 'Simon Pegg', \n",
    "                    'Stanley Tucci', 'Stellan Skarsgard', 'Steve Carell', \n",
    "                    'Steve Coogan', 'Tobey Maguire', 'Tom Cruise', 'Tom Hanks', \n",
    "                    'Tom Hardy', 'Tommy Lee Jones', 'Topher Grace', 'Tyrese Gibson', \n",
    "                    'Vin Diesel', 'Warwick Davis', 'Will Arnett', 'Will Smith']\n",
    "    \n",
    "    for i in top_grossers:\n",
    "        if i == a:\n",
    "            return 1\n",
    "        else:\n",
    "            return 0"
   ]
  },
  {
   "cell_type": "code",
   "execution_count": null,
   "metadata": {},
   "outputs": [],
   "source": []
  },
  {
   "cell_type": "code",
   "execution_count": null,
   "metadata": {},
   "outputs": [],
   "source": []
  },
  {
   "cell_type": "code",
   "execution_count": null,
   "metadata": {},
   "outputs": [],
   "source": [
    "df_by_actor_sum = df_converted_2.groupby('actors_no_nan_2').sum()"
   ]
  },
  {
   "cell_type": "code",
   "execution_count": null,
   "metadata": {},
   "outputs": [],
   "source": [
    "#df_by_actor_mean = df_by_actor_mean.drop('Jr.')\n",
    "df_by_actor_sum = df_by_actor_sum.drop('Jr.')"
   ]
  },
  {
   "cell_type": "code",
   "execution_count": null,
   "metadata": {},
   "outputs": [],
   "source": [
    "df_by_actor_mean['total movies'] = df_by_actor_sum['count']"
   ]
  },
  {
   "cell_type": "code",
   "execution_count": null,
   "metadata": {},
   "outputs": [],
   "source": [
    "df_by_actor_mean.sort_values(by = 'total movies', ascending = False)"
   ]
  },
  {
   "cell_type": "code",
   "execution_count": null,
   "metadata": {},
   "outputs": [],
   "source": [
    "sns.heatmap(df_by_actor_mean.corr())"
   ]
  },
  {
   "cell_type": "code",
   "execution_count": null,
   "metadata": {},
   "outputs": [],
   "source": [
    "df_by_actor_mean.sort_values(by='margin', ascending = False)"
   ]
  },
  {
   "cell_type": "code",
   "execution_count": null,
   "metadata": {},
   "outputs": [],
   "source": [
    "df_by_actor_mean[df_by_actor_mean['margin']>=1]['margin'].hist(bins = 100);"
   ]
  },
  {
   "cell_type": "code",
   "execution_count": null,
   "metadata": {},
   "outputs": [],
   "source": [
    "df_by_actor_mean[(df_by_actor_mean['margin']<=10) & (df_by_actor_mean['margin']>=1)]['margin'].hist(bins = 100);"
   ]
  },
  {
   "cell_type": "code",
   "execution_count": null,
   "metadata": {},
   "outputs": [],
   "source": [
    "df_by_actor_mean[df_by_actor_mean['margin']<1]['margin'].hist(bins = 100);"
   ]
  },
  {
   "cell_type": "code",
   "execution_count": null,
   "metadata": {},
   "outputs": [],
   "source": [
    "del df_converted_1['actors']"
   ]
  },
  {
   "cell_type": "code",
   "execution_count": null,
   "metadata": {},
   "outputs": [],
   "source": [
    "df_converted_1.shape"
   ]
  },
  {
   "cell_type": "code",
   "execution_count": null,
   "metadata": {},
   "outputs": [],
   "source": [
    "df_converted_1.drop_duplicates().shape"
   ]
  },
  {
   "cell_type": "code",
   "execution_count": null,
   "metadata": {},
   "outputs": [],
   "source": [
    "df_new = df_converted_1.drop_duplicates()"
   ]
  },
  {
   "cell_type": "code",
   "execution_count": null,
   "metadata": {},
   "outputs": [],
   "source": [
    "df_new['runtime'].hist(bins = 20)"
   ]
  },
  {
   "cell_type": "code",
   "execution_count": null,
   "metadata": {},
   "outputs": [],
   "source": [
    "import matplotlib.pyplot as plt\n",
    "plt.scatter(df_new['runtime'], df_new['budget'], c = 'y', edgecolor = 'b')"
   ]
  },
  {
   "cell_type": "code",
   "execution_count": null,
   "metadata": {},
   "outputs": [],
   "source": [
    "df_new.corr()"
   ]
  },
  {
   "cell_type": "code",
   "execution_count": null,
   "metadata": {},
   "outputs": [],
   "source": [
    "del df_new['log margin^2']"
   ]
  },
  {
   "cell_type": "code",
   "execution_count": null,
   "metadata": {},
   "outputs": [],
   "source": [
    "df_new['log margin'] = np.log10(df_new['margin'])"
   ]
  },
  {
   "cell_type": "code",
   "execution_count": null,
   "metadata": {},
   "outputs": [],
   "source": [
    "sns.heatmap(df_new.corr())"
   ]
  },
  {
   "cell_type": "code",
   "execution_count": null,
   "metadata": {},
   "outputs": [],
   "source": [
    "df_new.columns"
   ]
  },
  {
   "cell_type": "code",
   "execution_count": null,
   "metadata": {},
   "outputs": [],
   "source": [
    "plt.scatter(df_new['genre_horror'], df_new['log margin'])"
   ]
  },
  {
   "cell_type": "code",
   "execution_count": null,
   "metadata": {},
   "outputs": [],
   "source": [
    "#import seaborn as sns\n",
    "#sns.heatmap(expected.corr()) # correlation matrix "
   ]
  },
  {
   "cell_type": "code",
   "execution_count": null,
   "metadata": {},
   "outputs": [],
   "source": [
    "# movies with SLJ: value counts of distributors\n",
    "#expected[expected['actors_no_nan_2'] == 'Samuel L. Jackson']['distributor'].value_counts()"
   ]
  },
  {
   "cell_type": "code",
   "execution_count": null,
   "metadata": {},
   "outputs": [],
   "source": [
    "expected.columns"
   ]
  },
  {
   "cell_type": "code",
   "execution_count": null,
   "metadata": {},
   "outputs": [],
   "source": [
    "#del expected['1st weekend gross']\n",
    "#del expected['actors_no_nan']\n",
    "del expected['producers']\n",
    "del expected['directors']"
   ]
  },
  {
   "cell_type": "code",
   "execution_count": null,
   "metadata": {},
   "outputs": [],
   "source": [
    "expected.columns"
   ]
  },
  {
   "cell_type": "markdown",
   "metadata": {},
   "source": [
    "# FIX THIS; 6 PM tuesday "
   ]
  },
  {
   "cell_type": "code",
   "execution_count": null,
   "metadata": {},
   "outputs": [],
   "source": [
    "#def SLJ(a):\n",
    "#    for i in a:\n",
    "#        if 'Samuel L. Jackson' in i:  \n",
    "#            return 1\n",
    "#        else:\n",
    "#            return 0"
   ]
  },
  {
   "cell_type": "code",
   "execution_count": null,
   "metadata": {},
   "outputs": [],
   "source": [
    "def SLJ(a):\n",
    "    if 'Samuel L. Jackson' in a:\n",
    "        return 1\n",
    "    elif 'Samuel L. Jackson (Narrator)' in a:\n",
    "        return 1\n",
    "    elif 'Samuel L. Jackson (narrator)' in a:\n",
    "        return 1\n",
    "    elif 'Samuel L. Jackson (Himself)' in a:\n",
    "        return 1\n",
    "    else:\n",
    "        return 0\n",
    "    \n",
    "    for i in a:\n",
    "        if 'Samuel L. Jackson' in i:\n",
    "            return 1"
   ]
  },
  {
   "cell_type": "code",
   "execution_count": null,
   "metadata": {},
   "outputs": [],
   "source": [
    "#def top_actor(a):\n",
    "#    for i in top_actors:\n",
    "#        if i in a:\n",
    "#            return 1\n",
    "#        else:\n",
    "#            return 0\n",
    "#expected['top actors'] = expected['actors'].apply(top_actor)\n",
    "#expected['top actors']"
   ]
  },
  {
   "cell_type": "code",
   "execution_count": null,
   "metadata": {},
   "outputs": [],
   "source": [
    "#expected['top actors'] = expected['actors'].apply(top_actor)\n",
    "#expected['top actors']"
   ]
  },
  {
   "cell_type": "code",
   "execution_count": null,
   "metadata": {},
   "outputs": [],
   "source": [
    "expected['SLJ']  = expected['actors'].apply(SLJ)"
   ]
  },
  {
   "cell_type": "code",
   "execution_count": null,
   "metadata": {},
   "outputs": [],
   "source": [
    "expected.columns"
   ]
  },
  {
   "cell_type": "code",
   "execution_count": null,
   "metadata": {},
   "outputs": [],
   "source": [
    "del expected['actors']"
   ]
  },
  {
   "cell_type": "code",
   "execution_count": null,
   "metadata": {},
   "outputs": [],
   "source": [
    "expected.shape"
   ]
  },
  {
   "cell_type": "code",
   "execution_count": null,
   "metadata": {},
   "outputs": [],
   "source": [
    "expected.columns"
   ]
  },
  {
   "cell_type": "code",
   "execution_count": null,
   "metadata": {},
   "outputs": [],
   "source": [
    "#expected_action = expected[expected['genre_action'] == 1]\n",
    "\n",
    "#expected_action.shape\n",
    "\n",
    "#df_converted_action = expected_action.convert_objects(convert_dates = True, convert_numeric = True)"
   ]
  },
  {
   "cell_type": "code",
   "execution_count": null,
   "metadata": {
    "scrolled": true
   },
   "outputs": [],
   "source": [
    "df_converted = expected.convert_objects(convert_dates = True, convert_numeric = True)"
   ]
  },
  {
   "cell_type": "code",
   "execution_count": null,
   "metadata": {},
   "outputs": [],
   "source": [
    "#df_SLJ_action_effect = df_converted_action.groupby('SLJ')\n",
    "#df_SLJ_action_effect.mean()"
   ]
  },
  {
   "cell_type": "code",
   "execution_count": null,
   "metadata": {},
   "outputs": [],
   "source": [
    "#df_SLJ_action_effect.std()"
   ]
  },
  {
   "cell_type": "code",
   "execution_count": null,
   "metadata": {},
   "outputs": [],
   "source": [
    "#df_top_actor_effect = df_converted.groupby('top actors') #groupby object"
   ]
  },
  {
   "cell_type": "code",
   "execution_count": null,
   "metadata": {},
   "outputs": [],
   "source": [
    "#df_top_actor_effect.mean()"
   ]
  },
  {
   "cell_type": "code",
   "execution_count": null,
   "metadata": {},
   "outputs": [],
   "source": [
    "#df_SLJ_effect.mean()"
   ]
  },
  {
   "cell_type": "code",
   "execution_count": null,
   "metadata": {
    "scrolled": true
   },
   "outputs": [],
   "source": [
    "#df_top_actor_effect.std()\n",
    "#df_SLJ_effect.std()"
   ]
  },
  {
   "cell_type": "code",
   "execution_count": null,
   "metadata": {},
   "outputs": [],
   "source": [
    "sum(df_converted['budget'].value_counts())"
   ]
  },
  {
   "cell_type": "code",
   "execution_count": null,
   "metadata": {},
   "outputs": [],
   "source": [
    "#sum(df_converted_action['budget'].value_counts())"
   ]
  },
  {
   "cell_type": "code",
   "execution_count": null,
   "metadata": {},
   "outputs": [],
   "source": [
    "df_converted['budget'].value_counts()"
   ]
  },
  {
   "cell_type": "code",
   "execution_count": null,
   "metadata": {},
   "outputs": [],
   "source": [
    "#df_converted_action['budget'].value_counts()"
   ]
  },
  {
   "cell_type": "code",
   "execution_count": null,
   "metadata": {},
   "outputs": [],
   "source": [
    "df_converted.columns"
   ]
  },
  {
   "cell_type": "code",
   "execution_count": null,
   "metadata": {},
   "outputs": [],
   "source": [
    "#df_converted_action.columns"
   ]
  },
  {
   "cell_type": "code",
   "execution_count": null,
   "metadata": {},
   "outputs": [],
   "source": [
    "df_converted['Year'] = df_converted['release date'].map(lambda x: x.year)\n",
    "df_converted['Month'] = df_converted['release date'].map(lambda x: x.month)"
   ]
  },
  {
   "cell_type": "code",
   "execution_count": null,
   "metadata": {},
   "outputs": [],
   "source": [
    "#df_converted_action['Year'] = df_converted_action['release date'].map(lambda x: x.year)\n",
    "#df_converted_action['Month'] = df_converted_action['release date'].map(lambda x: x.month)"
   ]
  },
  {
   "cell_type": "code",
   "execution_count": null,
   "metadata": {},
   "outputs": [],
   "source": [
    "df_converted.columns"
   ]
  },
  {
   "cell_type": "code",
   "execution_count": null,
   "metadata": {},
   "outputs": [],
   "source": [
    "#df_converted_action.columns"
   ]
  },
  {
   "cell_type": "code",
   "execution_count": null,
   "metadata": {},
   "outputs": [],
   "source": [
    "print (sum((df_converted['budget'].value_counts())))\n",
    "print (len((df_converted['budget'].value_counts())))"
   ]
  },
  {
   "cell_type": "code",
   "execution_count": null,
   "metadata": {},
   "outputs": [],
   "source": [
    "#print (sum((df_converted_action['budget'].value_counts())))\n",
    "#print (len((df_converted_action['budget'].value_counts())))"
   ]
  },
  {
   "cell_type": "markdown",
   "metadata": {},
   "source": [
    "# i am here"
   ]
  },
  {
   "cell_type": "code",
   "execution_count": null,
   "metadata": {},
   "outputs": [],
   "source": [
    "df_converted['rating'].value_counts()"
   ]
  },
  {
   "cell_type": "code",
   "execution_count": null,
   "metadata": {},
   "outputs": [],
   "source": [
    "def rating_R(s):\n",
    "    if 'R' in s:\n",
    "        return 1\n",
    "    else:\n",
    "        return 0\n",
    "\n",
    "def rating_PG_13(s):\n",
    "    if 'PG-13' in s:\n",
    "        return 1\n",
    "    else:\n",
    "        return 0\n",
    "\n",
    "def rating_PG(s):\n",
    "    if 'PG' in s:\n",
    "        return 1\n",
    "    else:\n",
    "        return 0\n",
    "    \n",
    "def unrated(s):\n",
    "    if 'Unrated' in s:\n",
    "        return 1\n",
    "    else:\n",
    "        return 0\n",
    "\n",
    "def not_yet_rated(s):\n",
    "    if 'Not Yet Rated' in s:\n",
    "        return 1\n",
    "    else:\n",
    "        return 0\n",
    "\n",
    "def rating_G(s):\n",
    "    if 'G' in s:\n",
    "        return 1\n",
    "    else:\n",
    "        return 0\n",
    "\n",
    "def unknown(s):\n",
    "    if 'Unknown' in s:\n",
    "        return 1\n",
    "    else:\n",
    "        return 0\n",
    "\n",
    "def rating_NC_17(s):\n",
    "    if 'NC-17' in s:\n",
    "        return 1\n",
    "    else:\n",
    "        return 0"
   ]
  },
  {
   "cell_type": "code",
   "execution_count": null,
   "metadata": {},
   "outputs": [],
   "source": [
    "df_converted['rating R'] = df_converted['rating'].apply(rating_R)\n",
    "df_converted['rating PG13'] = df_converted['rating'].apply(rating_PG_13)\n",
    "df_converted['rating PG'] = df_converted['rating'].apply(rating_PG)\n",
    "df_converted['unrated'] = df_converted['rating'].apply(unrated)\n",
    "df_converted['not yet rated'] = df_converted['rating'].apply(not_yet_rated)\n",
    "df_converted['rating G'] = df_converted['rating'].apply(rating_G)\n",
    "df_converted['unknown'] = df_converted['rating'].apply(unknown)\n",
    "df_converted['rating NC17'] = df_converted['rating'].apply(rating_NC_17)"
   ]
  },
  {
   "cell_type": "code",
   "execution_count": null,
   "metadata": {},
   "outputs": [],
   "source": [
    "df_converted.shape"
   ]
  },
  {
   "cell_type": "code",
   "execution_count": null,
   "metadata": {},
   "outputs": [],
   "source": [
    "#df_converted_action.shape"
   ]
  },
  {
   "cell_type": "code",
   "execution_count": null,
   "metadata": {},
   "outputs": [],
   "source": [
    "df_converted.columns"
   ]
  },
  {
   "cell_type": "code",
   "execution_count": null,
   "metadata": {},
   "outputs": [],
   "source": [
    "df_converted['title'] = expected['title']"
   ]
  },
  {
   "cell_type": "code",
   "execution_count": null,
   "metadata": {},
   "outputs": [],
   "source": [
    "#df_converted_action['title'] = expected_action['title']"
   ]
  },
  {
   "cell_type": "code",
   "execution_count": null,
   "metadata": {},
   "outputs": [],
   "source": [
    "df_converted.shape"
   ]
  },
  {
   "cell_type": "code",
   "execution_count": null,
   "metadata": {},
   "outputs": [],
   "source": [
    "df_converted.columns"
   ]
  },
  {
   "cell_type": "code",
   "execution_count": null,
   "metadata": {},
   "outputs": [],
   "source": [
    "df_action = df_converted[df_converted['genre_action'] == 1]\n",
    "df_comedy = df_converted[df_converted['genre_comedy'] == 1]"
   ]
  },
  {
   "cell_type": "code",
   "execution_count": null,
   "metadata": {},
   "outputs": [],
   "source": [
    "df_action.groupby('distributor').mean().sort_values(by = 'domestic gross', ascending = False).reset_index()"
   ]
  },
  {
   "cell_type": "code",
   "execution_count": null,
   "metadata": {},
   "outputs": [],
   "source": [
    "df_comedy.groupby('distributor').mean().sort_values(by = 'domestic gross', ascending = False).reset_index()"
   ]
  },
  {
   "cell_type": "code",
   "execution_count": null,
   "metadata": {},
   "outputs": [],
   "source": [
    "df_converted = df_converted.drop_duplicates()"
   ]
  },
  {
   "cell_type": "code",
   "execution_count": null,
   "metadata": {},
   "outputs": [],
   "source": [
    "df_converted[df_converted['SLJ'] == 1]['domestic gross'].mean()"
   ]
  },
  {
   "cell_type": "code",
   "execution_count": null,
   "metadata": {},
   "outputs": [],
   "source": [
    "df_converted[df_converted['top actors'] == 1]['domestic gross'].mean()"
   ]
  },
  {
   "cell_type": "code",
   "execution_count": null,
   "metadata": {},
   "outputs": [],
   "source": [
    "df_converted[df_converted['SLJ'] == 1]['domestic gross'].median()"
   ]
  },
  {
   "cell_type": "code",
   "execution_count": null,
   "metadata": {},
   "outputs": [],
   "source": [
    "df_converted[df_converted['top actors'] == 1]['domestic gross'].median()"
   ]
  },
  {
   "cell_type": "code",
   "execution_count": null,
   "metadata": {},
   "outputs": [],
   "source": [
    "df_converted[df_converted['top actors'] == 0]['domestic gross'].mean()"
   ]
  },
  {
   "cell_type": "code",
   "execution_count": null,
   "metadata": {},
   "outputs": [],
   "source": [
    "df_converted[df_converted['top actors'] != 1]['domestic gross'].median()"
   ]
  },
  {
   "cell_type": "code",
   "execution_count": null,
   "metadata": {},
   "outputs": [],
   "source": [
    "import matplotlib.pyplot as plt\n",
    "%matplotlib inline"
   ]
  },
  {
   "cell_type": "code",
   "execution_count": null,
   "metadata": {
    "scrolled": true
   },
   "outputs": [],
   "source": [
    "plt.scatter(df_converted['top actors'], df_converted['domestic gross'])"
   ]
  },
  {
   "cell_type": "code",
   "execution_count": null,
   "metadata": {},
   "outputs": [],
   "source": [
    "df_sum_actor = df_converted.groupby('actors_no_nan_2', sort = False).sum()"
   ]
  },
  {
   "cell_type": "code",
   "execution_count": null,
   "metadata": {},
   "outputs": [],
   "source": [
    "df_sum_actor.shape"
   ]
  },
  {
   "cell_type": "code",
   "execution_count": null,
   "metadata": {},
   "outputs": [],
   "source": [
    "df_sum_actor = df_sum_actor.drop_duplicates()"
   ]
  },
  {
   "cell_type": "code",
   "execution_count": null,
   "metadata": {},
   "outputs": [],
   "source": [
    "df_sum_actor.shape"
   ]
  },
  {
   "cell_type": "code",
   "execution_count": null,
   "metadata": {},
   "outputs": [],
   "source": [
    "#df_sum_action_actor = df_converted_action.groupby('actors_no_nan_2', sort = False).sum()"
   ]
  },
  {
   "cell_type": "code",
   "execution_count": null,
   "metadata": {},
   "outputs": [],
   "source": [
    "df_sum_actor = df_sum_actor.reset_index()"
   ]
  },
  {
   "cell_type": "code",
   "execution_count": null,
   "metadata": {},
   "outputs": [],
   "source": [
    "#df_sum_action_actor = df_sum_action_actor.reset_index()"
   ]
  },
  {
   "cell_type": "code",
   "execution_count": null,
   "metadata": {},
   "outputs": [],
   "source": [
    "df_sum_actor.sort_values(by = 'count', ascending = False)"
   ]
  },
  {
   "cell_type": "code",
   "execution_count": null,
   "metadata": {},
   "outputs": [],
   "source": [
    "#df_sum_action_actor.sort_values(by = 'count', ascending = False)"
   ]
  },
  {
   "cell_type": "code",
   "execution_count": null,
   "metadata": {},
   "outputs": [],
   "source": [
    "df_sum_actor = df_sum_actor.drop(101)"
   ]
  },
  {
   "cell_type": "code",
   "execution_count": null,
   "metadata": {},
   "outputs": [],
   "source": [
    "#df_sum_action_actor = df_sum_action_actor.drop(17)"
   ]
  },
  {
   "cell_type": "code",
   "execution_count": null,
   "metadata": {},
   "outputs": [],
   "source": [
    "df_sum_actor.shape"
   ]
  },
  {
   "cell_type": "code",
   "execution_count": null,
   "metadata": {},
   "outputs": [],
   "source": [
    "#df_sum_action_actor.shape"
   ]
  },
  {
   "cell_type": "code",
   "execution_count": null,
   "metadata": {},
   "outputs": [],
   "source": [
    "df_actors_by_count = df_sum_actor.sort_values('count', ascending = False)\n",
    "\n",
    "df_actors_by_life_gross = df_sum_actor.sort_values('domestic gross', ascending = False)"
   ]
  },
  {
   "cell_type": "code",
   "execution_count": null,
   "metadata": {},
   "outputs": [],
   "source": [
    "#df_action_actors_by_count = df_sum_action_actor.sort_values('count', ascending = False)\n",
    "#df_action_actors_by_life_gross = df_sum_action_actor.sort_values('domestic gross', ascending = False)"
   ]
  },
  {
   "cell_type": "code",
   "execution_count": null,
   "metadata": {},
   "outputs": [],
   "source": [
    "df_actors_by_count = df_actors_by_count.reset_index()"
   ]
  },
  {
   "cell_type": "code",
   "execution_count": null,
   "metadata": {},
   "outputs": [],
   "source": [
    "df_actors_by_life_gross = df_actors_by_life_gross.reset_index()"
   ]
  },
  {
   "cell_type": "code",
   "execution_count": null,
   "metadata": {},
   "outputs": [],
   "source": [
    "#df_action_actors_by_count = df_action_actors_by_count.reset_index()"
   ]
  },
  {
   "cell_type": "code",
   "execution_count": null,
   "metadata": {},
   "outputs": [],
   "source": [
    "#df_actors_by_life_gross = df_actors_by_life_gross.reset_index()"
   ]
  },
  {
   "cell_type": "code",
   "execution_count": null,
   "metadata": {},
   "outputs": [],
   "source": [
    "#df_action_actors_by_life_gross = df_action_actors_by_life_gross.reset_index()"
   ]
  },
  {
   "cell_type": "code",
   "execution_count": null,
   "metadata": {},
   "outputs": [],
   "source": [
    "del df_actors_by_count['index']"
   ]
  },
  {
   "cell_type": "code",
   "execution_count": null,
   "metadata": {},
   "outputs": [],
   "source": [
    "df_actors_by_life_gross = df_actors_by_life_gross.reset_index()\n",
    "del df_actors_by_life_gross['index']\n",
    "del df_actors_by_life_gross['level_0']\n",
    "df_actors_by_life_gross"
   ]
  },
  {
   "cell_type": "code",
   "execution_count": null,
   "metadata": {},
   "outputs": [],
   "source": [
    "sns.heatmap(df_actors_by_life_gross.corr()) # correlation matrix "
   ]
  },
  {
   "cell_type": "code",
   "execution_count": null,
   "metadata": {},
   "outputs": [],
   "source": [
    "plt.scatter(df_actors_by_count['count'], df_actors_by_count['domestic gross'])"
   ]
  },
  {
   "cell_type": "code",
   "execution_count": null,
   "metadata": {},
   "outputs": [],
   "source": [
    "sns.heatmap(df_actors_by_count.corr()) # correlation matrix "
   ]
  },
  {
   "cell_type": "code",
   "execution_count": null,
   "metadata": {},
   "outputs": [],
   "source": [
    "sns.df_actors_by_life_gross.corr()"
   ]
  },
  {
   "cell_type": "code",
   "execution_count": null,
   "metadata": {},
   "outputs": [],
   "source": [
    "#del df_action_actors_by_count['index']"
   ]
  },
  {
   "cell_type": "code",
   "execution_count": null,
   "metadata": {},
   "outputs": [],
   "source": [
    "#del df_action_actors_by_life_gross['index']"
   ]
  },
  {
   "cell_type": "code",
   "execution_count": null,
   "metadata": {
    "scrolled": true
   },
   "outputs": [],
   "source": [
    "#df_action_actors_by_count.head(10)"
   ]
  },
  {
   "cell_type": "code",
   "execution_count": null,
   "metadata": {
    "scrolled": false
   },
   "outputs": [],
   "source": [
    "#df_action_actors_by_life_gross.head(10)"
   ]
  },
  {
   "cell_type": "code",
   "execution_count": null,
   "metadata": {},
   "outputs": [],
   "source": [
    "df_actors_by_count.head(10)"
   ]
  },
  {
   "cell_type": "code",
   "execution_count": null,
   "metadata": {},
   "outputs": [],
   "source": [
    "df_actors_by_life_gross.head(10)"
   ]
  },
  {
   "cell_type": "code",
   "execution_count": null,
   "metadata": {},
   "outputs": [],
   "source": [
    "df_top_20_actors = df_actors_by_life_gross.head(20)"
   ]
  },
  {
   "cell_type": "code",
   "execution_count": null,
   "metadata": {},
   "outputs": [],
   "source": [
    "df_top_20_actors_count = df_actors_by_count.head(20)"
   ]
  },
  {
   "cell_type": "code",
   "execution_count": null,
   "metadata": {},
   "outputs": [],
   "source": [
    "actors_top20 = list(df_top_20_actors['actors_no_nan_2'])\n",
    "actors_top20_count = list(df_top_20_actors_count['actors_no_nan_2'])"
   ]
  },
  {
   "cell_type": "code",
   "execution_count": null,
   "metadata": {},
   "outputs": [],
   "source": [
    "print(actors_top20)\n",
    "print('\\n')\n",
    "print(actors_top20_count)"
   ]
  },
  {
   "cell_type": "code",
   "execution_count": null,
   "metadata": {},
   "outputs": [],
   "source": [
    "top_actors = list(set(actors_top20_count + actors_top20))"
   ]
  },
  {
   "cell_type": "code",
   "execution_count": null,
   "metadata": {},
   "outputs": [],
   "source": [
    "len(top_actors)"
   ]
  },
  {
   "cell_type": "code",
   "execution_count": null,
   "metadata": {},
   "outputs": [],
   "source": [
    "for a in top_actors:\n",
    "    print(a)"
   ]
  },
  {
   "cell_type": "code",
   "execution_count": null,
   "metadata": {},
   "outputs": [],
   "source": [
    "df_sum_actor.columns"
   ]
  },
  {
   "cell_type": "code",
   "execution_count": null,
   "metadata": {},
   "outputs": [],
   "source": [
    "df_sum_actor[df_sum_actor['SLJ'] == 1].shape"
   ]
  },
  {
   "cell_type": "code",
   "execution_count": null,
   "metadata": {},
   "outputs": [],
   "source": [
    "df_sum_actor[df_sum_actor['SLJ'] == 2].shape"
   ]
  },
  {
   "cell_type": "code",
   "execution_count": null,
   "metadata": {},
   "outputs": [],
   "source": [
    "df_sum_actor[df_sum_actor['SLJ'] == 3].shape"
   ]
  },
  {
   "cell_type": "code",
   "execution_count": null,
   "metadata": {},
   "outputs": [],
   "source": [
    "df_sum_actor[df_sum_actor['SLJ'] == 4].shape"
   ]
  },
  {
   "cell_type": "code",
   "execution_count": null,
   "metadata": {},
   "outputs": [],
   "source": [
    "df_sum_actor[df_sum_actor['SLJ'] == 5].shape"
   ]
  },
  {
   "cell_type": "code",
   "execution_count": null,
   "metadata": {},
   "outputs": [],
   "source": [
    "df_sum_actor[df_sum_actor['SLJ'] >= 1].shape"
   ]
  },
  {
   "cell_type": "code",
   "execution_count": null,
   "metadata": {},
   "outputs": [],
   "source": []
  },
  {
   "cell_type": "code",
   "execution_count": null,
   "metadata": {},
   "outputs": [],
   "source": [
    "df_sum_action_SLJ = df_sum_action_actor[df_sum_action_actor['SLJ'] >= 1]"
   ]
  },
  {
   "cell_type": "code",
   "execution_count": null,
   "metadata": {},
   "outputs": [],
   "source": [
    "df_sum_action_no_SLJ = df_sum_action_actor[df_sum_action_actor['SLJ'] == 0]"
   ]
  },
  {
   "cell_type": "code",
   "execution_count": null,
   "metadata": {},
   "outputs": [],
   "source": [
    "df_sum_SLJ = df_sum_actor[df_sum_actor['SLJ'] >= 1]"
   ]
  },
  {
   "cell_type": "code",
   "execution_count": null,
   "metadata": {},
   "outputs": [],
   "source": [
    "df_sum_no_SLJ = df_sum_actor[df_sum_actor['SLJ'] == 0]"
   ]
  },
  {
   "cell_type": "code",
   "execution_count": null,
   "metadata": {},
   "outputs": [],
   "source": [
    "%matplotlib inline\n",
    "# distrib of sum of grosses of actors who are not in movies with SLJ\n",
    "df_sum_no_SLJ['domestic gross'].hist(bins = 20) \n",
    "# distrib of sum of grosses of actors who are in at least 1 movie with SLJ\n",
    "df_sum_SLJ['domestic gross'].hist(bins = 20);\n",
    "\n"
   ]
  },
  {
   "cell_type": "code",
   "execution_count": null,
   "metadata": {},
   "outputs": [],
   "source": [
    "%matplotlib inline\n",
    "# distrib of sum of grosses of actors who are not in movies with SLJ\n",
    "df_sum_action_no_SLJ['domestic gross'].hist(bins = 20) \n",
    "# distrib of sum of grosses of actors who are in at least 1 movie with SLJ\n",
    "df_sum_action_SLJ['domestic gross'].hist(bins = 20);"
   ]
  },
  {
   "cell_type": "code",
   "execution_count": null,
   "metadata": {},
   "outputs": [],
   "source": [
    "len(df_sum_action_no_SLJ['domestic gross'])"
   ]
  },
  {
   "cell_type": "code",
   "execution_count": null,
   "metadata": {},
   "outputs": [],
   "source": [
    "len(df_sum_action_SLJ['domestic gross'])"
   ]
  },
  {
   "cell_type": "code",
   "execution_count": null,
   "metadata": {},
   "outputs": [],
   "source": [
    "len(df_sum_no_SLJ['domestic gross'])"
   ]
  },
  {
   "cell_type": "code",
   "execution_count": null,
   "metadata": {},
   "outputs": [],
   "source": [
    "len(df_sum_SLJ['domestic gross'])"
   ]
  },
  {
   "cell_type": "code",
   "execution_count": null,
   "metadata": {},
   "outputs": [],
   "source": [
    "\n",
    "mean_no_SLJ = df_sum_no_SLJ['domestic gross'].mean()\n",
    "mean_SLJ = df_sum_SLJ['domestic gross'].mean()\n",
    "\n",
    "no_SLJ = df_sum_no_SLJ['domestic gross'].mean()*len(df_sum_no_SLJ['domestic gross'])\n",
    "all_SLJ = df_sum_SLJ['domestic gross'].mean()*len(df_sum_SLJ['domestic gross'])\n"
   ]
  },
  {
   "cell_type": "code",
   "execution_count": null,
   "metadata": {},
   "outputs": [],
   "source": [
    "mean_action_no_SLJ = df_sum_action_no_SLJ['domestic gross'].mean()\n",
    "mean_action_SLJ = df_sum_action_SLJ['domestic gross'].mean()\n",
    "\n",
    "action_no_SLJ = df_sum_action_no_SLJ['domestic gross'].mean()*len(df_sum_action_no_SLJ['domestic gross'])\n",
    "action_all_SLJ = df_sum_action_SLJ['domestic gross'].mean()*len(df_sum_action_SLJ['domestic gross'])\n"
   ]
  },
  {
   "cell_type": "code",
   "execution_count": null,
   "metadata": {},
   "outputs": [],
   "source": [
    "### Movies with Samuel L. Jackson: Domestic gross, 1990 onwards"
   ]
  },
  {
   "cell_type": "code",
   "execution_count": null,
   "metadata": {},
   "outputs": [],
   "source": [
    "mean_SLJ, mean_no_SLJ, mean_SLJ/mean_no_SLJ\n"
   ]
  },
  {
   "cell_type": "code",
   "execution_count": null,
   "metadata": {},
   "outputs": [],
   "source": [
    "### action movies w SLJ\n",
    "mean_action_SLJ, mean_action_no_SLJ, mean_action_SLJ/mean_action_no_SLJ"
   ]
  },
  {
   "cell_type": "code",
   "execution_count": null,
   "metadata": {},
   "outputs": [],
   "source": [
    "df_sum_SLJ.columns"
   ]
  },
  {
   "cell_type": "code",
   "execution_count": null,
   "metadata": {
    "scrolled": true
   },
   "outputs": [],
   "source": [
    "import matplotlib.pyplot as plt\n",
    "#plt.scatter(df_sum_actor['count'], df_sum_actor['domestic gross'], c = 'y', edgecolors = 'y')\n",
    "plt.scatter(df_sum_no_SLJ['count'], df_sum_no_SLJ['domestic gross'], c = 'b', edgecolors = 'b')\n",
    "plt.scatter(df_sum_SLJ['count'], df_sum_SLJ['domestic gross'], c = 'r', edgecolors = 'r')"
   ]
  },
  {
   "cell_type": "code",
   "execution_count": null,
   "metadata": {
    "scrolled": true
   },
   "outputs": [],
   "source": [
    "import matplotlib.pyplot as plt\n",
    "#plt.scatter(df_sum_actor['count'], df_sum_actor['domestic gross'], c = 'y', edgecolors = 'y')\n",
    "plt.scatter(df_sum_action_no_SLJ['count'], df_sum_action_no_SLJ['domestic gross'], c = 'b', edgecolors = 'b')\n",
    "plt.scatter(df_sum_action_SLJ['count'], df_sum_action_SLJ['domestic gross'], c = 'r', edgecolors = 'r')"
   ]
  },
  {
   "cell_type": "code",
   "execution_count": null,
   "metadata": {},
   "outputs": [],
   "source": [
    "plt.scatter(df_sum_actor['count'], df_sum_actor['widest release'], edgecolor = 'b')\n",
    "plt.scatter(df_sum_SLJ['count'], df_sum_SLJ['widest release'], c = 'y', edgecolor = 'y')"
   ]
  },
  {
   "cell_type": "code",
   "execution_count": null,
   "metadata": {},
   "outputs": [],
   "source": [
    "plt.scatter(df_sum_action_actor['count'], df_sum_action_actor['widest release'], edgecolor = 'b')\n",
    "plt.scatter(df_sum_action_SLJ['count'], df_sum_action_SLJ['widest release'], c = 'y', edgecolor = 'y')"
   ]
  },
  {
   "cell_type": "code",
   "execution_count": null,
   "metadata": {},
   "outputs": [],
   "source": [
    "df_sum_actor['money_per_movie'] = df_sum_actor['domestic gross']/df_sum_actor['count']\n",
    "df_sum_SLJ['money_per_movie'] = df_sum_SLJ['domestic gross']/df_sum_SLJ['count']"
   ]
  },
  {
   "cell_type": "code",
   "execution_count": null,
   "metadata": {},
   "outputs": [],
   "source": [
    "plt.scatter(df_sum_actor['count'], df_sum_actor['money_per_movie'], edgecolor = 'b')\n",
    "plt.scatter(df_sum_SLJ['count'], df_sum_SLJ['money_per_movie'], c = 'y', edgecolor = 'y')"
   ]
  },
  {
   "cell_type": "code",
   "execution_count": null,
   "metadata": {},
   "outputs": [],
   "source": [
    "#plt.scatter(df_sum_action_actor['count'], df_sum_action_actor['money_per_movie'], edgecolor = 'b')\n",
    "#plt.scatter(df_sum_action_SLJ['count'], df_sum_action_SLJ['money_per_movie'], c = 'y', edgecolor = 'y')"
   ]
  },
  {
   "cell_type": "code",
   "execution_count": null,
   "metadata": {},
   "outputs": [],
   "source": [
    "df_sum_actor.shape"
   ]
  },
  {
   "cell_type": "code",
   "execution_count": null,
   "metadata": {},
   "outputs": [],
   "source": [
    "df_sum_actor.sort_values('domestic gross', ascending = False)"
   ]
  },
  {
   "cell_type": "code",
   "execution_count": null,
   "metadata": {},
   "outputs": [],
   "source": [
    "df_sum_SLJ.sort_values('domestic gross', ascending = False)"
   ]
  },
  {
   "cell_type": "code",
   "execution_count": null,
   "metadata": {},
   "outputs": [],
   "source": [
    "df_sum_SLJ.shape"
   ]
  },
  {
   "cell_type": "code",
   "execution_count": null,
   "metadata": {},
   "outputs": [],
   "source": [
    "df_sum_no_SLJ.shape"
   ]
  },
  {
   "cell_type": "code",
   "execution_count": null,
   "metadata": {},
   "outputs": [],
   "source": [
    "df_sum_actor.sort_values(by = 'widest release' , ascending = False)"
   ]
  },
  {
   "cell_type": "code",
   "execution_count": null,
   "metadata": {},
   "outputs": [],
   "source": [
    "df_year = df_converted.groupby('Year').mean().reset_index()\n"
   ]
  },
  {
   "cell_type": "code",
   "execution_count": null,
   "metadata": {},
   "outputs": [],
   "source": [
    "df_year.columns"
   ]
  },
  {
   "cell_type": "code",
   "execution_count": null,
   "metadata": {},
   "outputs": [],
   "source": [
    "plt.plot(df_year['Year'], df_year['budget'])\n"
   ]
  },
  {
   "cell_type": "code",
   "execution_count": null,
   "metadata": {},
   "outputs": [],
   "source": [
    "plt.plot(df_year['Year'], df_year['Month'])\n"
   ]
  },
  {
   "cell_type": "code",
   "execution_count": null,
   "metadata": {},
   "outputs": [],
   "source": [
    "plt.plot(df_year['Year'], df_year['domestic gross'])\n"
   ]
  },
  {
   "cell_type": "code",
   "execution_count": null,
   "metadata": {},
   "outputs": [],
   "source": [
    "plt.plot(df_year['budget'], df_year['domestic gross'])"
   ]
  },
  {
   "cell_type": "code",
   "execution_count": null,
   "metadata": {},
   "outputs": [],
   "source": [
    "df_widest = df_sum_actor.sort_values(by = 'widest release' , ascending = False)"
   ]
  },
  {
   "cell_type": "code",
   "execution_count": null,
   "metadata": {},
   "outputs": [],
   "source": []
  },
  {
   "cell_type": "code",
   "execution_count": null,
   "metadata": {},
   "outputs": [],
   "source": [
    "df_actors_by_count = df_sum_actor.sort_values('count', ascending = False)\n",
    "\n",
    "df_actors_by_life_gross = df_sum_actor.sort_values('domestic gross', ascending = False)"
   ]
  },
  {
   "cell_type": "code",
   "execution_count": null,
   "metadata": {},
   "outputs": [],
   "source": [
    "df_actors_by_life_gross.head(10)"
   ]
  },
  {
   "cell_type": "code",
   "execution_count": null,
   "metadata": {},
   "outputs": [],
   "source": [
    "df_action_actors_by_life_gross = df_sum_action_actor.sort_values('domestic gross', ascending = False)"
   ]
  },
  {
   "cell_type": "code",
   "execution_count": null,
   "metadata": {},
   "outputs": [],
   "source": [
    "df_action_actors_by_life_gross.head(10)"
   ]
  },
  {
   "cell_type": "code",
   "execution_count": null,
   "metadata": {},
   "outputs": [],
   "source": []
  },
  {
   "cell_type": "code",
   "execution_count": null,
   "metadata": {},
   "outputs": [],
   "source": [
    "df_sum_actor['money_per_theater'] = df_sum_actor['domestic gross']/df_sum_actor['widest release']"
   ]
  },
  {
   "cell_type": "code",
   "execution_count": null,
   "metadata": {},
   "outputs": [],
   "source": [
    "df_sum_actor.sort_values(by = 'money_per_theater', ascending = False)"
   ]
  },
  {
   "cell_type": "code",
   "execution_count": null,
   "metadata": {},
   "outputs": [],
   "source": [
    "plt.scatter(df_sum_actor['count'], df_sum_actor['money_per_theater'])"
   ]
  },
  {
   "cell_type": "code",
   "execution_count": null,
   "metadata": {},
   "outputs": [],
   "source": [
    "df_sum_actor.head()"
   ]
  },
  {
   "cell_type": "code",
   "execution_count": null,
   "metadata": {},
   "outputs": [],
   "source": [
    "df_sum_actor['avg_cost_movie'] = df_sum_actor['budget']/df_sum_actor['count']\n",
    "df_sum_actor['avg_dom_gross_movie'] = df_sum_actor['domestic gross']/df_sum_actor['count']\n"
   ]
  },
  {
   "cell_type": "code",
   "execution_count": null,
   "metadata": {},
   "outputs": [],
   "source": [
    "plt.scatter(df_sum_actor['avg_cost_movie'], df_sum_actor['avg_dom_gross_movie'])"
   ]
  },
  {
   "cell_type": "code",
   "execution_count": null,
   "metadata": {
    "scrolled": true
   },
   "outputs": [],
   "source": [
    "df_sum_actor['avg_cost_movie'].hist(bins = 100)"
   ]
  },
  {
   "cell_type": "code",
   "execution_count": null,
   "metadata": {},
   "outputs": [],
   "source": [
    "df_sum_actor['avg_dom_gross_movie'].hist(bins = 100)"
   ]
  },
  {
   "cell_type": "code",
   "execution_count": null,
   "metadata": {},
   "outputs": [],
   "source": [
    "df_sum_actor[df_sum_actor['avg_dom_gross_movie'] >= 100000000]['avg_dom_gross_movie'].hist(bins = 20)"
   ]
  },
  {
   "cell_type": "code",
   "execution_count": null,
   "metadata": {},
   "outputs": [],
   "source": [
    "df_sum_actor['avg_cost_movie'].hist(bins = 50)\n",
    "df_sum_actor[df_sum_actor['avg_dom_gross_movie'] >= 100000000]['avg_cost_movie'].hist(bins = 50)"
   ]
  },
  {
   "cell_type": "code",
   "execution_count": null,
   "metadata": {},
   "outputs": [],
   "source": [
    "plt.scatter(df_sum_actor['avg_cost_movie'], df_sum_actor['avg_dom_gross_movie'], c = 'r')\n",
    "plt.scatter(df_sum_actor[df_sum_actor['avg_dom_gross_movie'] >= 100000000]['avg_cost_movie'], df_sum_actor[df_sum_actor['avg_dom_gross_movie'] >= 100000000]['avg_dom_gross_movie'])\n",
    "plt.xlabel('Avg cost movie')\n",
    "plt.ylabel('Avg domestic gross movie')"
   ]
  },
  {
   "cell_type": "code",
   "execution_count": null,
   "metadata": {},
   "outputs": [],
   "source": [
    "df_sum_actor['domestic gross'].hist(bins= 100)"
   ]
  },
  {
   "cell_type": "code",
   "execution_count": null,
   "metadata": {},
   "outputs": [],
   "source": [
    "df_sum_actor"
   ]
  },
  {
   "cell_type": "code",
   "execution_count": null,
   "metadata": {},
   "outputs": [],
   "source": [
    "df_sum_actor.sort_values(by = 'money_per_movie' , ascending = False)"
   ]
  },
  {
   "cell_type": "code",
   "execution_count": null,
   "metadata": {},
   "outputs": [],
   "source": [
    "df_sum_actor.dropna().sort_values(by = 'count', ascending = False)"
   ]
  },
  {
   "cell_type": "code",
   "execution_count": null,
   "metadata": {},
   "outputs": [],
   "source": []
  },
  {
   "cell_type": "code",
   "execution_count": null,
   "metadata": {},
   "outputs": [],
   "source": [
    "# /movies/?id=punchline.htm"
   ]
  },
  {
   "cell_type": "code",
   "execution_count": null,
   "metadata": {},
   "outputs": [],
   "source": [
    "df.to_pickle('movies_1_v2.pkl')"
   ]
  },
  {
   "cell_type": "code",
   "execution_count": null,
   "metadata": {},
   "outputs": [],
   "source": [
    "df.shape"
   ]
  },
  {
   "cell_type": "code",
   "execution_count": null,
   "metadata": {},
   "outputs": [],
   "source": [
    "dict_2 = movie_scraper(all_movies[11924:])"
   ]
  },
  {
   "cell_type": "code",
   "execution_count": null,
   "metadata": {},
   "outputs": [],
   "source": [
    "df2 = pd.DataFrame(dict_2)"
   ]
  },
  {
   "cell_type": "code",
   "execution_count": null,
   "metadata": {},
   "outputs": [],
   "source": [
    "df2 = df2.transpose()\n",
    "df2.columns = ['movie', 'genre','release date', 'distributor', 'runtime', 'rating', 'budget', 'domestic gross', 'actors', '1st weekend gross', 'widest release', 'producers', 'directors']\n",
    "df2['title'] = df2.index\n",
    "df2.index = range(len(df2))"
   ]
  },
  {
   "cell_type": "code",
   "execution_count": null,
   "metadata": {},
   "outputs": [],
   "source": [
    "df2.to_pickle('movies_2.pkl')\n"
   ]
  },
  {
   "cell_type": "markdown",
   "metadata": {},
   "source": [
    "## Miscellaneous"
   ]
  },
  {
   "cell_type": "code",
   "execution_count": null,
   "metadata": {},
   "outputs": [],
   "source": [
    "def get_genres(soup):\n",
    "    \"\"\" returns all genres from specific movie page at boxofficemojo.com\"\"\"\n",
    "    genres_list = []\n",
    "    try:\n",
    "        genres = soup.find(id=\"body\").find(text=re.compile(\"Genres\"))\n",
    "        genres = genres.findParent().findNextSibling().find_all('tr')\n",
    "        genre_count = 0\n",
    "        for genre in genres:\n",
    "            if genre_count > 0:\n",
    "                genres_list.append(genre.td.font.a.text)\n",
    "            genre_count += 1\n",
    "    except LookupError:\n",
    "        try:\n",
    "            genres = soup.find(id=\"body\").find(text=re.compile(\"Genre\"))\n",
    "            genres = genres.findNextSibling().text\n",
    "            genres_list.append(genres)\n",
    "        except:\n",
    "            genres_list.append(\"N/A\")\n",
    "    return genres_list\n",
    "\n",
    "\n",
    "def get_title(soup):\n",
    "    \"\"\"returns title from specific movie page at boxofficemojo.com\"\"\"\n",
    "    try:\n",
    "        title = soup.find(\"title\").text.rsplit('(', 1)[0].strip()\n",
    "    except LookupError:\n",
    "        title = \"N/A\"\n",
    "    return title\n",
    "\n",
    "\n",
    "def get_release_date(soup):\n",
    "    \"\"\"returns datetime value of release date from specific movie\n",
    "    page at boxofficemojo.com\n",
    "    \"\"\"\n",
    "    try:\n",
    "        date = soup.find(id=\"body\").find(text=re.compile(\"Release Date\"))\n",
    "        date = date.findNextSibling().text\n",
    "        date = datetime.strptime(date, \"%B %d, %Y\")\n",
    "        return date\n",
    "    except LookupError:\n",
    "        return \"N/A\"\n",
    "\n",
    "\n",
    "def get_distributor(soup):\n",
    "    \"\"\"returns movie distributor from specific movie page at boxofficemojo.com\"\"\"\n",
    "    try:\n",
    "        distributor = soup.find(id=\"body\").find(text=re.compile(\"Distributor\"))\n",
    "        distributor = distributor.findNextSibling().text\n",
    "        return distributor\n",
    "    except LookupError:\n",
    "        return \"N/A\"\n",
    "\n",
    "\n",
    "def get_rating(soup):\n",
    "    \"\"\"returns MPAA Rating from specific movie page at boxofficemojo.com\"\"\"\n",
    "    try:\n",
    "        rating = soup.find(id=\"body\").find(text=re.compile(\"MPAA Rating\"))\n",
    "        rating = rating.findNextSibling().text\n",
    "        return rating\n",
    "    except LookupError:\n",
    "        return \"N/A\"\n",
    "\n",
    "\n",
    "def get_runtime(soup):\n",
    "    \"\"\"returns integer value of runtime from specific movie page at boxofficemojo.com\"\"\"\n",
    "    try:\n",
    "        runtime = soup.find(id=\"body\").find(text=re.compile(\"Runtime\"))\n",
    "        runtime = runtime.findNextSibling().text\n",
    "        time_splits = runtime.split(\"hrs.\")\n",
    "        try:\n",
    "            hrs = int(time_splits[0]) * 60\n",
    "        except LookupError:\n",
    "            hrs = 0\n",
    "        mins = int(time_splits[1].split(\" min.\")[0].strip())\n",
    "        total = hrs + mins\n",
    "        return total\n",
    "    except LookupError:\n",
    "        return \"N/A\"\n",
    "\n",
    "\n",
    "def get_budget(soup):\n",
    "    \"\"\"returns movie budget from specific movie page at boxofficemojo.com\"\"\"\n",
    "    try:\n",
    "        budget = soup.find(id=\"body\").find(text=re.compile(\"Production Budget\"))\n",
    "        budget = budget.findNextSibling().text\n",
    "        if budget != \"N/A\":\n",
    "            budget = int(budget.split(\"million\")[0].split(\"$\")[1].strip()) * 1000000\n",
    "        return budget\n",
    "    except LookupError:\n",
    "        return \"N/A\"\n",
    "\n",
    "\n",
    "def get_domestic_gross(soup):\n",
    "    \"\"\"returns integer value of domestic gross from specific movie page at boxofficemojo.com\"\"\"\n",
    "    try:\n",
    "        gross = soup.find(id=\"body\").find(text=re.compile(\"Domestic Total Gross: \"))\n",
    "        gross = gross.findNextSibling().text\n",
    "        gross = int(gross.replace(\"$\", \"\").replace(\",\", \"\"))\n",
    "        return gross\n",
    "    except LookupError:\n",
    "        try:\n",
    "            gross = soup.find(id=\"body\").find(tex=re.compile(\"Domestic:\"))\n",
    "            gross = gross.findParent().findNextSibling().text\n",
    "            return gross\n",
    "        except:\n",
    "            return \"N/A\"\n",
    "        \n",
    "        \n",
    "def get_movie_value_next(soup, field_name):\n",
    "    '''Grab a value from boxofficemojo HTML\n",
    "    \n",
    "    Takes a string attribute of a movie on the page and\n",
    "    returns the string in the next sibling object\n",
    "    (the value for that attribute)\n",
    "    or None if nothing is found.\n",
    "    '''\n",
    "    obj = soup.find(text=re.compile(field_name))\n",
    "    \n",
    "    if obj:\n",
    "        return obj.next.text\n",
    "    else:\n",
    "        return None\n",
    "\n",
    "def get_actors(soup):\n",
    "    actor = get_movie_value_next(soup,'Actor')\n",
    "    v = re.sub('([a-z()])([A-Z])', '\\g<1>, \\g<2>', actor)\n",
    "    actors = re.sub('[(*\\']','', v)\n",
    "    actors = actors.split(\",\")\n",
    "    return actors\n",
    "\n",
    "\n",
    "def money_to_int(moneystring):\n",
    "    moneystring = moneystring.replace('$', '').replace(',', '')\n",
    "    return int(moneystring)\n",
    "\n",
    "def get_opening_weekend(soup):\n",
    "    opening_weekend_gross = get_movie_value_next(soup,'Opening Weekend')\n",
    "    opening_weekend_gross = money_to_int(opening_weekend_gross)\n",
    "    return opening_weekend_gross\n",
    "    \n",
    "    \n",
    "def scrape_movie_data(movie_list, start=0, end=20000):\n",
    "    \"\"\"returns dictionary of movies and relevant data from boxofficemojo.com:\n",
    "    genres(as a list), release date, distributor, runtime, MPAA rating,\n",
    "    budget, gross domestic revenue\n",
    "    \"\"\"\n",
    "    movie_data_list = {}\n",
    "    counter = 0\n",
    "    for movie in movie_list:\n",
    "        try:\n",
    "            if start < counter < end and counter < len(movie_list):\n",
    "                url = \"http://www.boxofficemojo.com/\" + movie\n",
    "                \n",
    "                response = requests.get(url)\n",
    "                time.sleep(0.1)\n",
    "                page = response.text\n",
    "                soup = BeautifulSoup(page, \"lxml\")\n",
    "                print(movie)\n",
    "                movie_data_list[get_title(soup)] = [get_genres(soup), get_release_date(soup), \n",
    "                                                    get_distributor(soup), get_runtime(soup), \n",
    "                                                    get_rating(soup), get_budget(soup), \n",
    "                                                    get_domestic_gross(soup), get_actors(soup), \n",
    "                                                    get_opening_weekend(soup)]\n",
    "                \n",
    "            counter += 1\n",
    "        except: #(Exception, e):\n",
    "            pass\n",
    "\n",
    "    return movie_data_list\n",
    "\n",
    "\n",
    "#def main():\n",
    "#    pass\n",
    "\n",
    "#if __name__ == \"__main__\":\n",
    "#    main()"
   ]
  },
  {
   "cell_type": "code",
   "execution_count": null,
   "metadata": {},
   "outputs": [],
   "source": [
    "movie_data_subset = scrape_movie_data(all_movies_subset, start=0, end=20000)"
   ]
  },
  {
   "cell_type": "code",
   "execution_count": null,
   "metadata": {},
   "outputs": [],
   "source": [
    "movie_data_subset"
   ]
  },
  {
   "cell_type": "code",
   "execution_count": null,
   "metadata": {},
   "outputs": [],
   "source": [
    "df = pd.DataFrame(movie_data_subset)"
   ]
  },
  {
   "cell_type": "code",
   "execution_count": null,
   "metadata": {},
   "outputs": [],
   "source": [
    "df = df.transpose()"
   ]
  },
  {
   "cell_type": "code",
   "execution_count": null,
   "metadata": {},
   "outputs": [],
   "source": [
    "movies_list_A = []\n",
    "url = 'http://www.boxofficemojo.com/movies/alphabetical.htm?letter=A&page=1'\n",
    "response = requests.get(url)\n",
    "page = response.text\n",
    "soup = BeautifulSoup(page, 'lxml')\n",
    "rows = soup.find(id = 'body').find('table').find('table').find_all('table')[1].find_all(\"tr\")\n",
    "if len(rows) > 1:\n",
    "    counter = 1\n",
    "    for row in rows:\n",
    "    # skip index row\n",
    "        if counter > 1:\n",
    "            link = row.td.font.a['href']\n",
    "            # don't add duplicates\n",
    "            if link not in movies_list:\n",
    "                movies_list_A.append(link)\n",
    "\n",
    "        counter += 1"
   ]
  },
  {
   "cell_type": "code",
   "execution_count": null,
   "metadata": {},
   "outputs": [],
   "source": [
    "def movie_actors(soup):\n",
    "    try:\n",
    "        actor = get_movie_value_next_next(soup,'Actor')\n",
    "        v = re.sub('([a-z()])([A-Z])', '\\g<1>, \\g<2>', actor)\n",
    "        if \"*\" in v:\n",
    "            actors = v.split('*')\n",
    "        else:\n",
    "            actors = re.sub('[(*\\']','', v)\n",
    "            actors = actors.split(\",\")\n",
    "        #if \"*\" in actors:\n",
    "        #    actors =  actors.split('*')\n",
    "\n",
    "    except TypeError:\n",
    "        actors = float('NaN')\n",
    "    return actors"
   ]
  },
  {
   "cell_type": "code",
   "execution_count": null,
   "metadata": {},
   "outputs": [],
   "source": [
    "def get_movie_value_next_next(soup, field_name):\n",
    "    '''Grab a value from boxofficemojo HTML\n",
    "    \n",
    "    Takes a string attribute of a movie on the page and\n",
    "    returns the string in the next sibling object\n",
    "    (the value for that attribute)\n",
    "    or None if nothing is found.\n",
    "    '''\n",
    "    obj = soup.find(text=re.compile(field_name))\n",
    "    \n",
    "    if obj:\n",
    "        return obj.next.next.text\n",
    "    else:\n",
    "        return None"
   ]
  },
  {
   "cell_type": "code",
   "execution_count": null,
   "metadata": {},
   "outputs": [],
   "source": [
    "def get_movie_value_next(soup, field_name):\n",
    "    '''Grab a value from boxofficemojo HTML\n",
    "    \n",
    "    Takes a string attribute of a movie on the page and\n",
    "    returns the string in the next sibling object\n",
    "    (the value for that attribute)\n",
    "    or None if nothing is found.\n",
    "    '''\n",
    "    obj = soup.find(text=re.compile(field_name))\n",
    "    if not obj: \n",
    "        return None\n",
    "    # this works for most of the values\n",
    "    next_sibling = obj.findNextSibling()\n",
    "    if next_sibling:\n",
    "        return next_sibling.text # RETURN TEXT OF NEXT SIBLING\n",
    "    else:\n",
    "        return None"
   ]
  },
  {
   "cell_type": "code",
   "execution_count": null,
   "metadata": {},
   "outputs": [],
   "source": [
    "def release_date(soup):\n",
    "    try:\n",
    "        raw_release_date = get_movie_value(soup,'Release Date')\n",
    "        if raw_release_date != 'TBD' and raw_release_date != 'N/A' and raw_release_date.split()[0] != 'Spring' and raw_release_date.split()[0] != 'Summer' and raw_release_date.split()[0] != 'Fall' and raw_release_date.split()[0] != 'Winter' :\n",
    "            release_date = to_date(raw_release_date)\n",
    "        else:\n",
    "            release_date = float('NaN')\n",
    "    except AttributeError:\n",
    "        release_date = float('NaN')\n",
    "    return release_date"
   ]
  },
  {
   "cell_type": "code",
   "execution_count": null,
   "metadata": {},
   "outputs": [],
   "source": []
  },
  {
   "cell_type": "code",
   "execution_count": null,
   "metadata": {},
   "outputs": [],
   "source": [
    "!pwd"
   ]
  },
  {
   "cell_type": "code",
   "execution_count": null,
   "metadata": {},
   "outputs": [],
   "source": [
    "def get_actors(soup):\n",
    "    actor = get_movie_value_next(soup,'Actor')\n",
    "    v = re.sub('([a-z()])([A-Z])', '\\g<1>, \\g<2>', actor)\n",
    "    v = v.replace('(, Voice)','')\n",
    "    actors = re.sub('[(*\\']','', v)\n",
    "    actors = actors.split(\",\")\n",
    "    return actors"
   ]
  },
  {
   "cell_type": "code",
   "execution_count": null,
   "metadata": {},
   "outputs": [],
   "source": [
    "def movie_actors(soup):\n",
    "    try:\n",
    "        actor = get_movie_value_next_next(soup,'Actor')\n",
    "        v = re.sub('([a-z()])([A-Z])', '\\g<1>, \\g<2>', actor)\n",
    "        if \"*\" in v:\n",
    "            actors = v.split('*')\n",
    "        else:\n",
    "            actors = re.sub('[(*\\']','', v)\n",
    "            actors = actors.split(\",\")\n",
    "        #if \"*\" in actors:\n",
    "        #    actors =  actors.split('*')\n",
    "\n",
    "    except TypeError:\n",
    "        actors = float('NaN')\n",
    "    return actors"
   ]
  },
  {
   "cell_type": "code",
   "execution_count": null,
   "metadata": {},
   "outputs": [],
   "source": []
  },
  {
   "cell_type": "code",
   "execution_count": null,
   "metadata": {},
   "outputs": [],
   "source": [
    "#url = 'http://www.boxofficemojo.com/movies/?id=disney2016.htm'\n",
    "url = 'http://www.boxofficemojo.com/movies/?id=ghostbusters2016.htm'\n",
    "response = requests.get(url)\n",
    "page = response.text\n",
    "soup = BeautifulSoup(page, \"lxml\")"
   ]
  },
  {
   "cell_type": "code",
   "execution_count": null,
   "metadata": {},
   "outputs": [],
   "source": [
    "get_movie_value_next_next(soup, 'Actor')"
   ]
  },
  {
   "cell_type": "code",
   "execution_count": null,
   "metadata": {},
   "outputs": [],
   "source": [
    "actor = get_movie_value_next_next(soup,'Actor')"
   ]
  },
  {
   "cell_type": "code",
   "execution_count": null,
   "metadata": {},
   "outputs": [],
   "source": [
    "actor"
   ]
  },
  {
   "cell_type": "code",
   "execution_count": null,
   "metadata": {},
   "outputs": [],
   "source": [
    "def movie_actors(soup): # still doesn't deal well with McPeople\n",
    "    try:\n",
    "        actor = get_movie_value_next_next(soup,'Actor') # try get_movie_value_next if it doesnt work \n",
    "        actor = actor.replace('*','')\n",
    "        v = re.sub('([a-z()])([A-Z])', '\\g<1>,\\g<2>', actor)\n",
    "        v = v.replace(' (,Voice)','')\n",
    "        v = v.replace(' (,Cameo)','')\n",
    "        actors = re.sub('[(*\\']','', v)\n",
    "        actors = actors.split(',')\n",
    "        #if \"*\" in v:\n",
    "        #    actors = v.split('*')\n",
    "        #else:\n",
    "        #    actors = re.sub('[(*\\']','', v)\n",
    "        #    actors = actors.split(\",\")\n",
    "\n",
    "    except TypeError:\n",
    "        actors = float('NaN')\n",
    "    return actors"
   ]
  },
  {
   "cell_type": "code",
   "execution_count": null,
   "metadata": {},
   "outputs": [],
   "source": [
    "# startswith()\n",
    "# Mc, De, van, Mac, Du, Le"
   ]
  },
  {
   "cell_type": "code",
   "execution_count": null,
   "metadata": {},
   "outputs": [],
   "source": [
    "print (movie_actors(soup))"
   ]
  },
  {
   "cell_type": "code",
   "execution_count": null,
   "metadata": {},
   "outputs": [],
   "source": [
    "actor = get_movie_value_next_next(soup, 'Actor')"
   ]
  },
  {
   "cell_type": "code",
   "execution_count": null,
   "metadata": {},
   "outputs": [],
   "source": [
    "actor = actor.replace('*','')"
   ]
  },
  {
   "cell_type": "code",
   "execution_count": null,
   "metadata": {},
   "outputs": [],
   "source": [
    "actor"
   ]
  },
  {
   "cell_type": "code",
   "execution_count": null,
   "metadata": {},
   "outputs": [],
   "source": [
    "s = actor.replace('(Cameo)','')"
   ]
  },
  {
   "cell_type": "code",
   "execution_count": null,
   "metadata": {},
   "outputs": [],
   "source": [
    "v = re.sub('([a-z()])([A-Z])', '\\g<1>, \\g<2>', actor)"
   ]
  },
  {
   "cell_type": "code",
   "execution_count": null,
   "metadata": {},
   "outputs": [],
   "source": [
    "v"
   ]
  },
  {
   "cell_type": "code",
   "execution_count": null,
   "metadata": {},
   "outputs": [],
   "source": []
  },
  {
   "cell_type": "code",
   "execution_count": null,
   "metadata": {},
   "outputs": [],
   "source": []
  },
  {
   "cell_type": "code",
   "execution_count": null,
   "metadata": {},
   "outputs": [],
   "source": [
    "#url = 'http://www.boxofficemojo.com/movies/?id=disney2016.htm'\n",
    "#url = 'http://www.boxofficemojo.com/movies/?id=ghostbusters2016.htm'\n",
    "#url = \"http://www.boxofficemojo.com/movies/?id=13goingon30.htm\"\n",
    "url = \"http://www.boxofficemojo.com/movies/?id=9dot99.htm\"\n",
    "response = requests.get(url)\n",
    "page = response.text\n",
    "soup = BeautifulSoup(page, \"lxml\")"
   ]
  },
  {
   "cell_type": "code",
   "execution_count": null,
   "metadata": {},
   "outputs": [],
   "source": [
    "def get_movie_value_next_next(soup, field_name):\n",
    "    '''Grab a value from boxofficemojo HTML\n",
    "    \n",
    "    Takes a string attribute of a movie on the page and\n",
    "    returns the string in the next sibling object\n",
    "    (the value for that attribute)\n",
    "    or None if nothing is found.\n",
    "    '''\n",
    "    \n",
    "    for br in soup.findAll('br'):\n",
    "        br.replace_with('\\n')\n",
    "    \n",
    "    obj = soup.find(text=re.compile(field_name))\n",
    "    \n",
    "    if obj:\n",
    "        return obj.next.next.text \n",
    "    else:\n",
    "        return None"
   ]
  },
  {
   "cell_type": "code",
   "execution_count": null,
   "metadata": {},
   "outputs": [],
   "source": [
    "actor = get_movie_value_next_next(soup, 'Actor')"
   ]
  },
  {
   "cell_type": "code",
   "execution_count": null,
   "metadata": {},
   "outputs": [],
   "source": [
    "actor.replace('*','').replace(' (Cameo)','').replace('(Voice)','').replace('\\n',', ')"
   ]
  },
  {
   "cell_type": "code",
   "execution_count": null,
   "metadata": {},
   "outputs": [],
   "source": [
    "def movie_actors(soup): # still doesn't deal well with McPersons, DeVitos, DaSouzas, etc. \n",
    "    try:\n",
    "        actor = get_movie_value_next_next(soup,'Actor') # try get_movie_value_next if it doesnt work \n",
    "        if str(actor) != 'None':\n",
    "            actors = actor.replace('*','').replace(' (Cameo)','').replace('(Voice)','').replace('\\n',', ')\n",
    "            actors = actors.split(\", \")\n",
    "            #v = v.replace('(Voice)','')\n",
    "            #v = v.replace('(Cameo)', '')\n",
    "            #v = v.replace('\\n','')\n",
    "            #if \"*\" in v:\n",
    "            #    actors = v.split('*')\n",
    "            #else:\n",
    "            #    actors = re.sub('[(*\\']','', v)\n",
    "            return actors\n",
    "\n",
    "    except TypeError:\n",
    "        #actors = float('NaN')\n",
    "        return actors"
   ]
  },
  {
   "cell_type": "code",
   "execution_count": null,
   "metadata": {},
   "outputs": [],
   "source": [
    "def movie_actors(soup): # still doesn't deal well with McPersons, DeVitos, DaSouzas, etc. \n",
    "    try:\n",
    "        actor = get_movie_value_next_next(soup,'Actor') # try get_movie_value_next if it doesnt work \n",
    "        if str(actor) != 'None':\n",
    "            actors = actor.replace('*','').replace(' (Cameo)','').replace('(Voice)','').replace('\\n',', ')\n",
    "            actors = actors.split(\", \")\n",
    "            return actors\n",
    "\n",
    "    except TypeError:\n",
    "        return actors"
   ]
  },
  {
   "cell_type": "code",
   "execution_count": null,
   "metadata": {},
   "outputs": [],
   "source": [
    "print(movie_actors(soup))"
   ]
  },
  {
   "cell_type": "code",
   "execution_count": null,
   "metadata": {},
   "outputs": [],
   "source": [
    "opening_weekend_gross(soup)"
   ]
  },
  {
   "cell_type": "code",
   "execution_count": null,
   "metadata": {},
   "outputs": [],
   "source": [
    "#fix this here. ARGH!\n",
    "#def money_to_int_2(moneystring):\n",
    "#    if moneystring != 'N/A':\n",
    "#        moneystring = moneystring.replace('$', '').replace('.','').replace(',','').replace(' million', '000000')\n",
    "#        return int(moneystring)\n",
    "\n",
    "#def money_to_int_2(moneystring):\n",
    "#    if moneystring != 'N/A':\n",
    "#        moneystring = moneystring.replace('$','').replace(',','')\n",
    "#        if 'million' in moneystring:\n",
    "#            moneystring.replace('million','')\n",
    "#            return float(moneystring)*1000000\n",
    "#        else:\n",
    "#            return float(moneystring)"
   ]
  },
  {
   "cell_type": "code",
   "execution_count": null,
   "metadata": {},
   "outputs": [],
   "source": [
    "#def get_movie_value_next_next(soup, field_name):\n",
    "#    '''Grab a value from boxofficemojo HTML\n",
    "#    \n",
    "#    Takes a string attribute of a movie on the page and\n",
    "#    returns the string in the next sibling object\n",
    "#    (the value for that attribute)\n",
    "#    or None if nothing is found.\n",
    "#    '''\n",
    "#    obj = soup.find(text=re.compile(field_name))\n",
    "#    \n",
    "#    if obj:\n",
    "#        return obj.next.next.text\n",
    "#    else:\n",
    "#        return None\n",
    "\n",
    "def get_movie_value_next_next(soup, field_name):\n",
    "    '''Grab a value from boxofficemojo HTML\n",
    "    \n",
    "    Takes a string attribute of a movie on the page and\n",
    "    returns the string in the next sibling object\n",
    "    (the value for that attribute)\n",
    "    or None if nothing is found.\n",
    "    '''\n",
    "    \n",
    "    for br in soup.findAll('br'):\n",
    "        br.replace_with('\\n')\n",
    "    \n",
    "    obj = soup.find(text=re.compile(field_name))\n",
    "    \n",
    "    if obj:\n",
    "        return obj.next.next.text \n",
    "    else:\n",
    "        return None"
   ]
  },
  {
   "cell_type": "code",
   "execution_count": null,
   "metadata": {},
   "outputs": [],
   "source": [
    "#def movie_actors(soup):\n",
    "#    try:\n",
    "#        actor = get_movie_value_next(soup,'Actor')\n",
    "#        v = re.sub('([a-z()])([A-Z])', '\\g<1>, \\g<2>', actor)\n",
    "#        actors = re.sub('[(*\\']','', v)\n",
    "#        actors = actors.split(\",\") \n",
    "#    except TypeError:\n",
    "#        actors = float('NaN')\n",
    "#\n",
    "#    return actors\n",
    "\n",
    "#def movie_actors(soup):\n",
    "#    try:\n",
    "#        actor = get_movie_value_next(soup,'Actor')\n",
    "#        if '*' in actor:\n",
    "#            actors =  actor.split('*')\n",
    "#        else:\n",
    "#            v = re.sub('([a-z()])([A-Z])', '\\g<1>, \\g<2>', actor)\n",
    "#            actors = re.sub('[(*\\']','', v)\n",
    "#            actors = actors.split(\",\") \n",
    "#    except TypeError:\n",
    "#        actors = float('NaN')\n",
    "#    return actors\n",
    "\n",
    "#def movie_actors(soup): # still doesn't deal well with McPersons, DeVitos, DaSouzas, etc. \n",
    "#    try:\n",
    "#        actor = get_movie_value_next_next(soup,'Actor') # try get_movie_value_next if it doesnt work \n",
    "#        v = re.sub('([a-z()])([A-Z])', '\\g<1>, \\g<2>', actor)\n",
    "#        v = v.replace('(, Voice)','')\n",
    "#        v = v.replace('(, Cameo)', '')\n",
    "#        if \"*\" in v:\n",
    "#            actors = v.split('*')\n",
    "#        else:\n",
    "#            actors = re.sub('[(*\\']','', v)\n",
    "#            actors = actors.split(\",\")\n",
    "#\n",
    "#    except TypeError:\n",
    "#        actors = float('NaN')\n",
    "#    return actors\n",
    "\n",
    "#def movie_actors(soup): # still doesn't deal well with McPersons, DeVitos, DaSouzas, etc. \n",
    "#    try:\n",
    "#        actor = get_movie_value_next_next(soup,'Actor') # try get_movie_value_next if it doesnt work \n",
    "#        actors = actor.replace('*','').replace(' (Cameo)','').replace('(Voice)','').replace('\\n',', ')\n",
    "#        #v = v.replace('(Voice)','')\n",
    "#        #v = v.replace('(Cameo)', '')\n",
    "#        #v = v.replace('\\n','')\n",
    "#        #if \"*\" in v:\n",
    "#        #    actors = v.split('*')\n",
    "#        #else:\n",
    "#        #    actors = re.sub('[(*\\']','', v)\n",
    "#        actors = actors.split(\", \")\n",
    "#\n",
    "#    except TypeError:\n",
    "#        actors = float('NaN')\n",
    "#    return actors\n"
   ]
  },
  {
   "cell_type": "code",
   "execution_count": null,
   "metadata": {},
   "outputs": [],
   "source": []
  }
 ],
 "metadata": {
  "anaconda-cloud": {},
  "kernelspec": {
   "display_name": "Python 3",
   "language": "python",
   "name": "python3"
  },
  "language_info": {
   "codemirror_mode": {
    "name": "ipython",
    "version": 3
   },
   "file_extension": ".py",
   "mimetype": "text/x-python",
   "name": "python",
   "nbconvert_exporter": "python",
   "pygments_lexer": "ipython3",
   "version": "3.6.5"
  }
 },
 "nbformat": 4,
 "nbformat_minor": 1
}
