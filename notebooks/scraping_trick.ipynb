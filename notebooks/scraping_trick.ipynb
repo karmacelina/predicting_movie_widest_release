{
 "cells": [
  {
   "cell_type": "code",
   "execution_count": 2,
   "metadata": {
    "collapsed": false
   },
   "outputs": [],
   "source": [
    "import pandas as pd \n",
    "import html5lib "
   ]
  },
  {
   "cell_type": "code",
   "execution_count": 3,
   "metadata": {
    "collapsed": true
   },
   "outputs": [],
   "source": [
    "#url = \"http://www.boxofficemojo.com/people/chart/?view=Actor&id=harrisonford.htm\"\n",
    "#url = \"http://www.boxofficemojo.com/people/chart/?id=paulgiamatti.htm\"\n",
    "#url = 'http://www.boxofficemojo.com/people/chart/?id=stellanskarsgard.htm'\n",
    "#url ='http://www.boxofficemojo.com/people/chart/?id=elizabethbanks.htm'\n",
    "#url = \"http://www.boxofficemojo.com/people/chart/?id=camerondiaz.htm\"\n",
    "#url = \"http://www.boxofficemojo.com/people/chart/?id=juliannemoore.htm\"\n",
    "#url =\"http://www.boxofficemojo.com/people/chart/?id=stanleytucci.htm\"\n",
    "url = \"http://www.boxofficemojo.com/people/chart/?id=samuelljackson.htm\""
   ]
  },
  {
   "cell_type": "code",
   "execution_count": 4,
   "metadata": {
    "collapsed": true
   },
   "outputs": [],
   "source": [
    "#url = \"http://www.boxofficemojo.com/alltime/weekends/\""
   ]
  },
  {
   "cell_type": "code",
   "execution_count": 5,
   "metadata": {
    "collapsed": false
   },
   "outputs": [],
   "source": [
    "df = pd.read_html(url)"
   ]
  },
  {
   "cell_type": "code",
   "execution_count": 6,
   "metadata": {
    "collapsed": false,
    "scrolled": true
   },
   "outputs": [],
   "source": [
    "df = df[1]"
   ]
  },
  {
   "cell_type": "code",
   "execution_count": 7,
   "metadata": {
    "collapsed": false
   },
   "outputs": [],
   "source": [
    "df = df.drop([0])"
   ]
  },
  {
   "cell_type": "code",
   "execution_count": 8,
   "metadata": {
    "collapsed": true
   },
   "outputs": [],
   "source": [
    "df.columns = ['date','title','studio','lifetime_gross','widest release', 'opening_gross','opening release', 'rank']"
   ]
  },
  {
   "cell_type": "code",
   "execution_count": 9,
   "metadata": {
    "collapsed": false
   },
   "outputs": [
    {
     "data": {
      "text/html": [
       "<div>\n",
       "<table border=\"1\" class=\"dataframe\">\n",
       "  <thead>\n",
       "    <tr style=\"text-align: right;\">\n",
       "      <th></th>\n",
       "      <th>date</th>\n",
       "      <th>title</th>\n",
       "      <th>studio</th>\n",
       "      <th>lifetime_gross</th>\n",
       "      <th>widest release</th>\n",
       "      <th>opening_gross</th>\n",
       "      <th>opening release</th>\n",
       "      <th>rank</th>\n",
       "    </tr>\n",
       "  </thead>\n",
       "  <tbody>\n",
       "    <tr>\n",
       "      <th>97</th>\n",
       "      <td>6/30/89</td>\n",
       "      <td>Do the Right Thing</td>\n",
       "      <td>Uni.</td>\n",
       "      <td>$27,545,445</td>\n",
       "      <td>534</td>\n",
       "      <td>$3,563,535</td>\n",
       "      <td>353</td>\n",
       "      <td>-</td>\n",
       "    </tr>\n",
       "    <tr>\n",
       "      <th>98</th>\n",
       "      <td>6/29/88</td>\n",
       "      <td>Coming to America</td>\n",
       "      <td>Par.</td>\n",
       "      <td>$128,152,301</td>\n",
       "      <td>2064</td>\n",
       "      <td>$21,404,420</td>\n",
       "      <td>2064</td>\n",
       "      <td>-</td>\n",
       "    </tr>\n",
       "    <tr>\n",
       "      <th>99</th>\n",
       "      <td>2/12/88</td>\n",
       "      <td>School Daze</td>\n",
       "      <td>Col.</td>\n",
       "      <td>$14,545,844</td>\n",
       "      <td>224</td>\n",
       "      <td>$1,802,656</td>\n",
       "      <td>220</td>\n",
       "      <td>-</td>\n",
       "    </tr>\n",
       "    <tr>\n",
       "      <th>100</th>\n",
       "      <td>12/18/87</td>\n",
       "      <td>Eddie Murphy Raw</td>\n",
       "      <td>Par.</td>\n",
       "      <td>$50,504,655</td>\n",
       "      <td>1494</td>\n",
       "      <td>$9,077,324</td>\n",
       "      <td>1391</td>\n",
       "      <td>-</td>\n",
       "    </tr>\n",
       "    <tr>\n",
       "      <th>101</th>\n",
       "      <td>11/20/81</td>\n",
       "      <td>Ragtime</td>\n",
       "      <td>Par.</td>\n",
       "      <td>$11,099,118</td>\n",
       "      <td>447</td>\n",
       "      <td>$151,351</td>\n",
       "      <td>5</td>\n",
       "      <td>-</td>\n",
       "    </tr>\n",
       "  </tbody>\n",
       "</table>\n",
       "</div>"
      ],
      "text/plain": [
       "         date               title studio lifetime_gross widest release  \\\n",
       "97    6/30/89  Do the Right Thing   Uni.    $27,545,445            534   \n",
       "98    6/29/88   Coming to America   Par.   $128,152,301           2064   \n",
       "99    2/12/88         School Daze   Col.    $14,545,844            224   \n",
       "100  12/18/87    Eddie Murphy Raw   Par.    $50,504,655           1494   \n",
       "101  11/20/81             Ragtime   Par.    $11,099,118            447   \n",
       "\n",
       "    opening_gross opening release rank  \n",
       "97     $3,563,535             353    -  \n",
       "98    $21,404,420            2064    -  \n",
       "99     $1,802,656             220    -  \n",
       "100    $9,077,324            1391    -  \n",
       "101      $151,351               5    -  "
      ]
     },
     "execution_count": 9,
     "metadata": {},
     "output_type": "execute_result"
    }
   ],
   "source": [
    "df.tail()"
   ]
  },
  {
   "cell_type": "code",
   "execution_count": 10,
   "metadata": {
    "collapsed": false
   },
   "outputs": [],
   "source": [
    "df['open_gross'] = df['opening_gross'].astype(str).apply(lambda x: x.strip('$'))\n",
    "df['life_gross'] = df['lifetime_gross'].astype(str).apply(lambda x: x.strip('$'))"
   ]
  },
  {
   "cell_type": "code",
   "execution_count": 11,
   "metadata": {
    "collapsed": false
   },
   "outputs": [],
   "source": [
    "df['opengross'] = df['open_gross'].apply(lambda x:x.replace(',',''))\n",
    "df['lifetimegross'] = df['life_gross'].apply(lambda x:x.replace(',',''))"
   ]
  },
  {
   "cell_type": "code",
   "execution_count": 12,
   "metadata": {
    "collapsed": false
   },
   "outputs": [],
   "source": [
    "del df['lifetime_gross']\n",
    "del df['opening_gross']"
   ]
  },
  {
   "cell_type": "code",
   "execution_count": 13,
   "metadata": {
    "collapsed": false
   },
   "outputs": [],
   "source": [
    "df_life = df[df['lifetimegross'] != 'n/a']['lifetimegross']"
   ]
  },
  {
   "cell_type": "code",
   "execution_count": 14,
   "metadata": {
    "collapsed": true
   },
   "outputs": [],
   "source": [
    "df_life = df_life.astype(float)"
   ]
  },
  {
   "cell_type": "code",
   "execution_count": 16,
   "metadata": {
    "collapsed": false
   },
   "outputs": [],
   "source": [
    "#df['lifetimegross'] = df['lifetimegross'].astype(float)"
   ]
  },
  {
   "cell_type": "code",
   "execution_count": 18,
   "metadata": {
    "collapsed": false
   },
   "outputs": [],
   "source": [
    "#sum(df['lifetimegross'])"
   ]
  },
  {
   "cell_type": "code",
   "execution_count": 19,
   "metadata": {
    "collapsed": false
   },
   "outputs": [
    {
     "data": {
      "text/plain": [
       "7299897504.0"
      ]
     },
     "execution_count": 19,
     "metadata": {},
     "output_type": "execute_result"
    }
   ],
   "source": [
    "sum(df_life)"
   ]
  },
  {
   "cell_type": "code",
   "execution_count": null,
   "metadata": {
    "collapsed": true
   },
   "outputs": [],
   "source": []
  },
  {
   "cell_type": "code",
   "execution_count": null,
   "metadata": {
    "collapsed": true
   },
   "outputs": [],
   "source": []
  },
  {
   "cell_type": "code",
   "execution_count": null,
   "metadata": {
    "collapsed": true
   },
   "outputs": [],
   "source": []
  },
  {
   "cell_type": "code",
   "execution_count": null,
   "metadata": {
    "collapsed": true
   },
   "outputs": [],
   "source": [
    "sum = 0\n",
    "count = 0\n",
    "for i in range(len(df['lifetimegross'])):\n",
    "    try:\n",
    "        sum += int(df['lifetimegross'][i])\n",
    "        count +=1\n",
    "    except:\n",
    "        continue\n",
    "    "
   ]
  },
  {
   "cell_type": "code",
   "execution_count": null,
   "metadata": {
    "collapsed": false
   },
   "outputs": [],
   "source": [
    "sum, count"
   ]
  },
  {
   "cell_type": "code",
   "execution_count": null,
   "metadata": {
    "collapsed": true
   },
   "outputs": [],
   "source": [
    "df['date']"
   ]
  },
  {
   "cell_type": "code",
   "execution_count": null,
   "metadata": {
    "collapsed": false
   },
   "outputs": [],
   "source": [
    "import copy\n",
    "df_copy = df.copy()"
   ]
  },
  {
   "cell_type": "code",
   "execution_count": null,
   "metadata": {
    "collapsed": false
   },
   "outputs": [],
   "source": [
    "df_copy.head()"
   ]
  },
  {
   "cell_type": "code",
   "execution_count": null,
   "metadata": {
    "collapsed": true
   },
   "outputs": [],
   "source": [
    "del df_copy['lifetime_gross']\n",
    "del df_copy['opening_gross']"
   ]
  },
  {
   "cell_type": "code",
   "execution_count": null,
   "metadata": {
    "collapsed": false
   },
   "outputs": [],
   "source": [
    "df_copy['datetime'] = pd.to_datetime(df_copy['date'])"
   ]
  },
  {
   "cell_type": "code",
   "execution_count": null,
   "metadata": {
    "collapsed": false
   },
   "outputs": [],
   "source": [
    "df_copy.head()"
   ]
  },
  {
   "cell_type": "code",
   "execution_count": null,
   "metadata": {
    "collapsed": false
   },
   "outputs": [],
   "source": [
    "df_by_releasedate = df_copy.sort_values(by='datetime')"
   ]
  },
  {
   "cell_type": "code",
   "execution_count": null,
   "metadata": {
    "collapsed": false
   },
   "outputs": [],
   "source": [
    "df_by_releasedate.head()"
   ]
  },
  {
   "cell_type": "code",
   "execution_count": null,
   "metadata": {
    "collapsed": false
   },
   "outputs": [],
   "source": [
    "import matplotlib.pyplot as plt\n",
    "%matplotlib inline "
   ]
  },
  {
   "cell_type": "code",
   "execution_count": null,
   "metadata": {
    "collapsed": false
   },
   "outputs": [],
   "source": [
    "df_by_releasedate.head()"
   ]
  },
  {
   "cell_type": "code",
   "execution_count": null,
   "metadata": {
    "collapsed": false
   },
   "outputs": [],
   "source": [
    "D = df_by_releasedate[df_by_releasedate['lifetimegross'] != 'n/a']"
   ]
  },
  {
   "cell_type": "code",
   "execution_count": null,
   "metadata": {
    "collapsed": true
   },
   "outputs": [],
   "source": []
  }
 ],
 "metadata": {
  "anaconda-cloud": {},
  "kernelspec": {
   "display_name": "Python [Root]",
   "language": "python",
   "name": "Python [Root]"
  },
  "language_info": {
   "codemirror_mode": {
    "name": "ipython",
    "version": 2
   },
   "file_extension": ".py",
   "mimetype": "text/x-python",
   "name": "python",
   "nbconvert_exporter": "python",
   "pygments_lexer": "ipython2",
   "version": "2.7.12"
  }
 },
 "nbformat": 4,
 "nbformat_minor": 0
}
