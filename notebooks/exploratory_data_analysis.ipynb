{
 "cells": [
  {
   "cell_type": "code",
   "execution_count": 1,
   "metadata": {
    "collapsed": true
   },
   "outputs": [],
   "source": [
    "import pandas as pd \n",
    "\n",
    "df1 = pd.read_pickle('movies_1_v2.pkl')"
   ]
  },
  {
   "cell_type": "code",
   "execution_count": 2,
   "metadata": {
    "collapsed": true
   },
   "outputs": [],
   "source": [
    "df2 = pd.read_pickle('movies_2.pkl')"
   ]
  },
  {
   "cell_type": "code",
   "execution_count": 3,
   "metadata": {
    "collapsed": true
   },
   "outputs": [],
   "source": [
    "df = pd.concat([df1, df2])"
   ]
  },
  {
   "cell_type": "code",
   "execution_count": null,
   "metadata": {
    "collapsed": true
   },
   "outputs": [],
   "source": [
    "#def unnest(df, col, reset_index=False):\n",
    "#    import pandas as pd\n",
    "#    col_flat = pd.DataFrame([[i, x] \n",
    "#                       for i, y in df[col].apply(list).iteritems() \n",
    "#                           for x in y], columns=['I', col])\n",
    "#    col_flat = col_flat.set_index('I')\n",
    "#    df = df.drop(col, 1)\n",
    "#    df = df.merge(col_flat, left_index=True, right_index=True)\n",
    "#    if reset_index:\n",
    "#        df = df.reset_index(drop=True)\n",
    "#    return df"
   ]
  },
  {
   "cell_type": "code",
   "execution_count": null,
   "metadata": {
    "collapsed": false
   },
   "outputs": [],
   "source": [
    "#expected = unnest(df, 'actors')"
   ]
  },
  {
   "cell_type": "code",
   "execution_count": null,
   "metadata": {
    "collapsed": false
   },
   "outputs": [],
   "source": [
    "#expected[expected['title'] == 'Road to Perdition']"
   ]
  },
  {
   "cell_type": "code",
   "execution_count": 4,
   "metadata": {
    "collapsed": false
   },
   "outputs": [],
   "source": [
    "df3 = df.copy()"
   ]
  },
  {
   "cell_type": "code",
   "execution_count": 5,
   "metadata": {
    "collapsed": false
   },
   "outputs": [],
   "source": [
    "del df3['actors']"
   ]
  },
  {
   "cell_type": "code",
   "execution_count": 6,
   "metadata": {
    "collapsed": true
   },
   "outputs": [
    {
     "data": {
      "text/html": [
       "<div>\n",
       "<table border=\"1\" class=\"dataframe\">\n",
       "  <thead>\n",
       "    <tr style=\"text-align: right;\">\n",
       "      <th></th>\n",
       "      <th>movie</th>\n",
       "      <th>genre</th>\n",
       "      <th>release date</th>\n",
       "      <th>distributor</th>\n",
       "      <th>runtime</th>\n",
       "      <th>rating</th>\n",
       "      <th>budget</th>\n",
       "      <th>domestic gross</th>\n",
       "      <th>1st weekend gross</th>\n",
       "      <th>widest release</th>\n",
       "      <th>producers</th>\n",
       "      <th>directors</th>\n",
       "      <th>title</th>\n",
       "    </tr>\n",
       "  </thead>\n",
       "  <tbody>\n",
       "    <tr>\n",
       "      <th>0</th>\n",
       "      <td>/movies/?id=horrorifc.htm</td>\n",
       "      <td>Horror</td>\n",
       "      <td>2015-11-20 00:00:00</td>\n",
       "      <td>IFC</td>\n",
       "      <td>90</td>\n",
       "      <td>Unknown</td>\n",
       "      <td>None</td>\n",
       "      <td>NaN</td>\n",
       "      <td>NaN</td>\n",
       "      <td>NaN</td>\n",
       "      <td>NaN</td>\n",
       "      <td>NaN</td>\n",
       "      <td>#Horror</td>\n",
       "    </tr>\n",
       "    <tr>\n",
       "      <th>1</th>\n",
       "      <td>/movies/?id=9dot99.htm</td>\n",
       "      <td>Animation</td>\n",
       "      <td>2008-12-12 00:00:00</td>\n",
       "      <td>Regent Releasing</td>\n",
       "      <td>78</td>\n",
       "      <td>R</td>\n",
       "      <td>None</td>\n",
       "      <td>52384</td>\n",
       "      <td>NaN</td>\n",
       "      <td>4</td>\n",
       "      <td>NaN</td>\n",
       "      <td>NaN</td>\n",
       "      <td>$9.99</td>\n",
       "    </tr>\n",
       "    <tr>\n",
       "      <th>2</th>\n",
       "      <td>/movies/?id=supercapitalist.htm</td>\n",
       "      <td>Thriller</td>\n",
       "      <td>2012-08-10 00:00:00</td>\n",
       "      <td>Truly Indie</td>\n",
       "      <td>96</td>\n",
       "      <td>Unrated</td>\n",
       "      <td>None</td>\n",
       "      <td>15919</td>\n",
       "      <td>NaN</td>\n",
       "      <td>1</td>\n",
       "      <td>NaN</td>\n",
       "      <td>NaN</td>\n",
       "      <td>$upercapitalist</td>\n",
       "    </tr>\n",
       "    <tr>\n",
       "      <th>3</th>\n",
       "      <td>/movies/?id=untitled.htm</td>\n",
       "      <td>Comedy</td>\n",
       "      <td>2009-10-23 00:00:00</td>\n",
       "      <td>Samuel Goldwyn</td>\n",
       "      <td>96</td>\n",
       "      <td>R</td>\n",
       "      <td>None</td>\n",
       "      <td>230600</td>\n",
       "      <td>NaN</td>\n",
       "      <td>25</td>\n",
       "      <td>NaN</td>\n",
       "      <td>NaN</td>\n",
       "      <td></td>\n",
       "    </tr>\n",
       "    <tr>\n",
       "      <th>4</th>\n",
       "      <td>/movies/?id=andjusticeforall.htm</td>\n",
       "      <td>Drama</td>\n",
       "      <td>1979-10-19 00:00:00</td>\n",
       "      <td>Columbia</td>\n",
       "      <td>119</td>\n",
       "      <td>R</td>\n",
       "      <td>None</td>\n",
       "      <td>33300000</td>\n",
       "      <td>NaN</td>\n",
       "      <td>NaN</td>\n",
       "      <td>NaN</td>\n",
       "      <td>NaN</td>\n",
       "      <td>...And Justice for All</td>\n",
       "    </tr>\n",
       "  </tbody>\n",
       "</table>\n",
       "</div>"
      ],
      "text/plain": [
       "                              movie      genre         release date  \\\n",
       "0         /movies/?id=horrorifc.htm     Horror  2015-11-20 00:00:00   \n",
       "1            /movies/?id=9dot99.htm  Animation  2008-12-12 00:00:00   \n",
       "2   /movies/?id=supercapitalist.htm   Thriller  2012-08-10 00:00:00   \n",
       "3          /movies/?id=untitled.htm     Comedy  2009-10-23 00:00:00   \n",
       "4  /movies/?id=andjusticeforall.htm      Drama  1979-10-19 00:00:00   \n",
       "\n",
       "        distributor runtime   rating budget domestic gross 1st weekend gross  \\\n",
       "0               IFC      90  Unknown   None            NaN               NaN   \n",
       "1  Regent Releasing      78        R   None          52384               NaN   \n",
       "2       Truly Indie      96  Unrated   None          15919               NaN   \n",
       "3    Samuel Goldwyn      96        R   None         230600               NaN   \n",
       "4          Columbia     119        R   None       33300000               NaN   \n",
       "\n",
       "  widest release producers directors                   title  \n",
       "0            NaN       NaN       NaN                 #Horror  \n",
       "1              4       NaN       NaN                   $9.99  \n",
       "2              1       NaN       NaN         $upercapitalist  \n",
       "3             25       NaN       NaN                          \n",
       "4            NaN       NaN       NaN  ...And Justice for All  "
      ]
     },
     "execution_count": 6,
     "metadata": {},
     "output_type": "execute_result"
    }
   ],
   "source": [
    "df3.head()"
   ]
  },
  {
   "cell_type": "code",
   "execution_count": 7,
   "metadata": {
    "collapsed": false,
    "scrolled": true
   },
   "outputs": [
    {
     "data": {
      "text/html": [
       "<div>\n",
       "<table border=\"1\" class=\"dataframe\">\n",
       "  <thead>\n",
       "    <tr style=\"text-align: right;\">\n",
       "      <th></th>\n",
       "      <th>movie</th>\n",
       "      <th>genre</th>\n",
       "      <th>release date</th>\n",
       "      <th>distributor</th>\n",
       "      <th>runtime</th>\n",
       "      <th>rating</th>\n",
       "      <th>budget</th>\n",
       "      <th>domestic gross</th>\n",
       "      <th>1st weekend gross</th>\n",
       "      <th>widest release</th>\n",
       "      <th>producers</th>\n",
       "      <th>directors</th>\n",
       "      <th>title</th>\n",
       "    </tr>\n",
       "  </thead>\n",
       "  <tbody>\n",
       "    <tr>\n",
       "      <th>count</th>\n",
       "      <td>16451</td>\n",
       "      <td>16446</td>\n",
       "      <td>16170</td>\n",
       "      <td>16446</td>\n",
       "      <td>15550</td>\n",
       "      <td>16446</td>\n",
       "      <td>3001</td>\n",
       "      <td>13385</td>\n",
       "      <td>0.0</td>\n",
       "      <td>13475</td>\n",
       "      <td>0.0</td>\n",
       "      <td>0.0</td>\n",
       "      <td>16451</td>\n",
       "    </tr>\n",
       "    <tr>\n",
       "      <th>unique</th>\n",
       "      <td>15910</td>\n",
       "      <td>66</td>\n",
       "      <td>4000</td>\n",
       "      <td>1086</td>\n",
       "      <td>199</td>\n",
       "      <td>12</td>\n",
       "      <td>223</td>\n",
       "      <td>12787</td>\n",
       "      <td>0.0</td>\n",
       "      <td>2943</td>\n",
       "      <td>0.0</td>\n",
       "      <td>0.0</td>\n",
       "      <td>15909</td>\n",
       "    </tr>\n",
       "    <tr>\n",
       "      <th>top</th>\n",
       "      <td>/movies/?id=ridethehighcountry.htm</td>\n",
       "      <td>Unknown</td>\n",
       "      <td>2016-03-11 00:00:00</td>\n",
       "      <td>Warner Bros.</td>\n",
       "      <td>90</td>\n",
       "      <td>R</td>\n",
       "      <td>20000000</td>\n",
       "      <td>9600</td>\n",
       "      <td>NaN</td>\n",
       "      <td>1</td>\n",
       "      <td>NaN</td>\n",
       "      <td>NaN</td>\n",
       "      <td>Rabbit-Proof Fence</td>\n",
       "    </tr>\n",
       "    <tr>\n",
       "      <th>freq</th>\n",
       "      <td>2</td>\n",
       "      <td>2281</td>\n",
       "      <td>27</td>\n",
       "      <td>970</td>\n",
       "      <td>760</td>\n",
       "      <td>5802</td>\n",
       "      <td>123</td>\n",
       "      <td>4</td>\n",
       "      <td>NaN</td>\n",
       "      <td>1090</td>\n",
       "      <td>NaN</td>\n",
       "      <td>NaN</td>\n",
       "      <td>2</td>\n",
       "    </tr>\n",
       "  </tbody>\n",
       "</table>\n",
       "</div>"
      ],
      "text/plain": [
       "                                     movie    genre         release date  \\\n",
       "count                                16451    16446                16170   \n",
       "unique                               15910       66                 4000   \n",
       "top     /movies/?id=ridethehighcountry.htm  Unknown  2016-03-11 00:00:00   \n",
       "freq                                     2     2281                   27   \n",
       "\n",
       "         distributor  runtime rating    budget  domestic gross  \\\n",
       "count          16446    15550  16446      3001           13385   \n",
       "unique          1086      199     12       223           12787   \n",
       "top     Warner Bros.       90      R  20000000            9600   \n",
       "freq             970      760   5802       123               4   \n",
       "\n",
       "        1st weekend gross  widest release  producers  directors  \\\n",
       "count                 0.0           13475        0.0        0.0   \n",
       "unique                0.0            2943        0.0        0.0   \n",
       "top                   NaN               1        NaN        NaN   \n",
       "freq                  NaN            1090        NaN        NaN   \n",
       "\n",
       "                     title  \n",
       "count                16451  \n",
       "unique               15909  \n",
       "top     Rabbit-Proof Fence  \n",
       "freq                     2  "
      ]
     },
     "execution_count": 7,
     "metadata": {},
     "output_type": "execute_result"
    }
   ],
   "source": [
    "df3.describe()"
   ]
  },
  {
   "cell_type": "code",
   "execution_count": 8,
   "metadata": {
    "collapsed": false
   },
   "outputs": [],
   "source": [
    "del df3['producers']\n",
    "del df3['directors']"
   ]
  },
  {
   "cell_type": "code",
   "execution_count": 9,
   "metadata": {
    "collapsed": true
   },
   "outputs": [],
   "source": [
    "del df3['1st weekend gross']"
   ]
  },
  {
   "cell_type": "code",
   "execution_count": 10,
   "metadata": {
    "collapsed": true
   },
   "outputs": [
    {
     "data": {
      "text/html": [
       "<div>\n",
       "<table border=\"1\" class=\"dataframe\">\n",
       "  <thead>\n",
       "    <tr style=\"text-align: right;\">\n",
       "      <th></th>\n",
       "      <th>movie</th>\n",
       "      <th>genre</th>\n",
       "      <th>release date</th>\n",
       "      <th>distributor</th>\n",
       "      <th>runtime</th>\n",
       "      <th>rating</th>\n",
       "      <th>budget</th>\n",
       "      <th>domestic gross</th>\n",
       "      <th>widest release</th>\n",
       "      <th>title</th>\n",
       "    </tr>\n",
       "  </thead>\n",
       "  <tbody>\n",
       "    <tr>\n",
       "      <th>count</th>\n",
       "      <td>16451</td>\n",
       "      <td>16446</td>\n",
       "      <td>16170</td>\n",
       "      <td>16446</td>\n",
       "      <td>15550</td>\n",
       "      <td>16446</td>\n",
       "      <td>3001</td>\n",
       "      <td>13385</td>\n",
       "      <td>13475</td>\n",
       "      <td>16451</td>\n",
       "    </tr>\n",
       "    <tr>\n",
       "      <th>unique</th>\n",
       "      <td>15910</td>\n",
       "      <td>66</td>\n",
       "      <td>4000</td>\n",
       "      <td>1086</td>\n",
       "      <td>199</td>\n",
       "      <td>12</td>\n",
       "      <td>223</td>\n",
       "      <td>12787</td>\n",
       "      <td>2943</td>\n",
       "      <td>15909</td>\n",
       "    </tr>\n",
       "    <tr>\n",
       "      <th>top</th>\n",
       "      <td>/movies/?id=ridethehighcountry.htm</td>\n",
       "      <td>Unknown</td>\n",
       "      <td>2016-03-11 00:00:00</td>\n",
       "      <td>Warner Bros.</td>\n",
       "      <td>90</td>\n",
       "      <td>R</td>\n",
       "      <td>20000000</td>\n",
       "      <td>9600</td>\n",
       "      <td>1</td>\n",
       "      <td>Rabbit-Proof Fence</td>\n",
       "    </tr>\n",
       "    <tr>\n",
       "      <th>freq</th>\n",
       "      <td>2</td>\n",
       "      <td>2281</td>\n",
       "      <td>27</td>\n",
       "      <td>970</td>\n",
       "      <td>760</td>\n",
       "      <td>5802</td>\n",
       "      <td>123</td>\n",
       "      <td>4</td>\n",
       "      <td>1090</td>\n",
       "      <td>2</td>\n",
       "    </tr>\n",
       "  </tbody>\n",
       "</table>\n",
       "</div>"
      ],
      "text/plain": [
       "                                     movie    genre         release date  \\\n",
       "count                                16451    16446                16170   \n",
       "unique                               15910       66                 4000   \n",
       "top     /movies/?id=ridethehighcountry.htm  Unknown  2016-03-11 00:00:00   \n",
       "freq                                     2     2281                   27   \n",
       "\n",
       "         distributor  runtime rating    budget  domestic gross  \\\n",
       "count          16446    15550  16446      3001           13385   \n",
       "unique          1086      199     12       223           12787   \n",
       "top     Warner Bros.       90      R  20000000            9600   \n",
       "freq             970      760   5802       123               4   \n",
       "\n",
       "        widest release               title  \n",
       "count            13475               16451  \n",
       "unique            2943               15909  \n",
       "top                  1  Rabbit-Proof Fence  \n",
       "freq              1090                   2  "
      ]
     },
     "execution_count": 10,
     "metadata": {},
     "output_type": "execute_result"
    }
   ],
   "source": [
    "df3.describe()"
   ]
  },
  {
   "cell_type": "code",
   "execution_count": 11,
   "metadata": {
    "collapsed": true
   },
   "outputs": [
    {
     "data": {
      "text/html": [
       "<div>\n",
       "<table border=\"1\" class=\"dataframe\">\n",
       "  <thead>\n",
       "    <tr style=\"text-align: right;\">\n",
       "      <th></th>\n",
       "      <th>movie</th>\n",
       "      <th>genre</th>\n",
       "      <th>release date</th>\n",
       "      <th>distributor</th>\n",
       "      <th>runtime</th>\n",
       "      <th>rating</th>\n",
       "      <th>budget</th>\n",
       "      <th>domestic gross</th>\n",
       "      <th>widest release</th>\n",
       "      <th>title</th>\n",
       "    </tr>\n",
       "  </thead>\n",
       "  <tbody>\n",
       "    <tr>\n",
       "      <th>0</th>\n",
       "      <td>/movies/?id=horrorifc.htm</td>\n",
       "      <td>Horror</td>\n",
       "      <td>2015-11-20 00:00:00</td>\n",
       "      <td>IFC</td>\n",
       "      <td>90</td>\n",
       "      <td>Unknown</td>\n",
       "      <td>None</td>\n",
       "      <td>NaN</td>\n",
       "      <td>NaN</td>\n",
       "      <td>#Horror</td>\n",
       "    </tr>\n",
       "    <tr>\n",
       "      <th>1</th>\n",
       "      <td>/movies/?id=9dot99.htm</td>\n",
       "      <td>Animation</td>\n",
       "      <td>2008-12-12 00:00:00</td>\n",
       "      <td>Regent Releasing</td>\n",
       "      <td>78</td>\n",
       "      <td>R</td>\n",
       "      <td>None</td>\n",
       "      <td>52384</td>\n",
       "      <td>4</td>\n",
       "      <td>$9.99</td>\n",
       "    </tr>\n",
       "    <tr>\n",
       "      <th>2</th>\n",
       "      <td>/movies/?id=supercapitalist.htm</td>\n",
       "      <td>Thriller</td>\n",
       "      <td>2012-08-10 00:00:00</td>\n",
       "      <td>Truly Indie</td>\n",
       "      <td>96</td>\n",
       "      <td>Unrated</td>\n",
       "      <td>None</td>\n",
       "      <td>15919</td>\n",
       "      <td>1</td>\n",
       "      <td>$upercapitalist</td>\n",
       "    </tr>\n",
       "    <tr>\n",
       "      <th>3</th>\n",
       "      <td>/movies/?id=untitled.htm</td>\n",
       "      <td>Comedy</td>\n",
       "      <td>2009-10-23 00:00:00</td>\n",
       "      <td>Samuel Goldwyn</td>\n",
       "      <td>96</td>\n",
       "      <td>R</td>\n",
       "      <td>None</td>\n",
       "      <td>230600</td>\n",
       "      <td>25</td>\n",
       "      <td></td>\n",
       "    </tr>\n",
       "    <tr>\n",
       "      <th>4</th>\n",
       "      <td>/movies/?id=andjusticeforall.htm</td>\n",
       "      <td>Drama</td>\n",
       "      <td>1979-10-19 00:00:00</td>\n",
       "      <td>Columbia</td>\n",
       "      <td>119</td>\n",
       "      <td>R</td>\n",
       "      <td>None</td>\n",
       "      <td>33300000</td>\n",
       "      <td>NaN</td>\n",
       "      <td>...And Justice for All</td>\n",
       "    </tr>\n",
       "    <tr>\n",
       "      <th>5</th>\n",
       "      <td>/movies/?id=1mileabove.htm</td>\n",
       "      <td>Foreign</td>\n",
       "      <td>2013-06-07 00:00:00</td>\n",
       "      <td>Asia Releasing</td>\n",
       "      <td>87</td>\n",
       "      <td>Not Yet Rated</td>\n",
       "      <td>None</td>\n",
       "      <td>NaN</td>\n",
       "      <td>NaN</td>\n",
       "      <td>1 Mile Above</td>\n",
       "    </tr>\n",
       "    <tr>\n",
       "      <th>6</th>\n",
       "      <td>/movies/?id=1plus1.htm</td>\n",
       "      <td>Unknown</td>\n",
       "      <td>2003-03-28 00:00:00</td>\n",
       "      <td>Eros</td>\n",
       "      <td>None</td>\n",
       "      <td>Unrated</td>\n",
       "      <td>None</td>\n",
       "      <td>NaN</td>\n",
       "      <td>18</td>\n",
       "      <td>1+1=11</td>\n",
       "    </tr>\n",
       "    <tr>\n",
       "      <th>7</th>\n",
       "      <td>/movies/?id=1000rupeenote.htm</td>\n",
       "      <td>Drama</td>\n",
       "      <td>2016-09-23 00:00:00</td>\n",
       "      <td>Kino Lorber</td>\n",
       "      <td>89</td>\n",
       "      <td>Unrated</td>\n",
       "      <td>None</td>\n",
       "      <td>NaN</td>\n",
       "      <td>1</td>\n",
       "      <td>1,000 Rupee Note</td>\n",
       "    </tr>\n",
       "    <tr>\n",
       "      <th>8</th>\n",
       "      <td>/movies/?id=1000times.htm</td>\n",
       "      <td>Foreign</td>\n",
       "      <td>2014-10-24 00:00:00</td>\n",
       "      <td>Film Movement</td>\n",
       "      <td>117</td>\n",
       "      <td>Unrated</td>\n",
       "      <td>None</td>\n",
       "      <td>53895</td>\n",
       "      <td>24</td>\n",
       "      <td>1,000 Times Good Night</td>\n",
       "    </tr>\n",
       "    <tr>\n",
       "      <th>9</th>\n",
       "      <td>/movies/?id=10.htm</td>\n",
       "      <td>Romantic Comedy</td>\n",
       "      <td>1979-10-05 00:00:00</td>\n",
       "      <td>Warner Bros.</td>\n",
       "      <td>121</td>\n",
       "      <td>R</td>\n",
       "      <td>None</td>\n",
       "      <td>74865517</td>\n",
       "      <td>NaN</td>\n",
       "      <td>10</td>\n",
       "    </tr>\n",
       "    <tr>\n",
       "      <th>10</th>\n",
       "      <td>/movies/?id=badrobot2016.htm</td>\n",
       "      <td>Thriller</td>\n",
       "      <td>2016-03-11 00:00:00</td>\n",
       "      <td>Paramount</td>\n",
       "      <td>105</td>\n",
       "      <td>PG-13</td>\n",
       "      <td>None</td>\n",
       "      <td>72082998</td>\n",
       "      <td>3427</td>\n",
       "      <td>10 Cloverfield Lane</td>\n",
       "    </tr>\n",
       "    <tr>\n",
       "      <th>11</th>\n",
       "      <td>/movies/?id=10daysinamadhouse.htm</td>\n",
       "      <td>Drama</td>\n",
       "      <td>2015-11-11 00:00:00</td>\n",
       "      <td>Cafe Pictures</td>\n",
       "      <td>111</td>\n",
       "      <td>Unrated</td>\n",
       "      <td>None</td>\n",
       "      <td>14616</td>\n",
       "      <td>10</td>\n",
       "      <td>10 Days in a Madhouse</td>\n",
       "    </tr>\n",
       "    <tr>\n",
       "      <th>12</th>\n",
       "      <td>/movies/?id=10itemsorless.htm</td>\n",
       "      <td>Comedy</td>\n",
       "      <td>2006-12-01 00:00:00</td>\n",
       "      <td>ThinkFilm</td>\n",
       "      <td>82</td>\n",
       "      <td>R</td>\n",
       "      <td>None</td>\n",
       "      <td>83291</td>\n",
       "      <td>15</td>\n",
       "      <td>10 Items or Less</td>\n",
       "    </tr>\n",
       "    <tr>\n",
       "      <th>13</th>\n",
       "      <td>/movies/?id=10questionsforthedalailama.htm</td>\n",
       "      <td>Documentary</td>\n",
       "      <td>2007-04-27 00:00:00</td>\n",
       "      <td>Monterey Media, Inc.</td>\n",
       "      <td>89</td>\n",
       "      <td>Unrated</td>\n",
       "      <td>None</td>\n",
       "      <td>224546</td>\n",
       "      <td>11</td>\n",
       "      <td>10 Questions for the Dalai Lama</td>\n",
       "    </tr>\n",
       "    <tr>\n",
       "      <th>14</th>\n",
       "      <td>/movies/?id=10rules.htm</td>\n",
       "      <td>Comedy</td>\n",
       "      <td>2014-04-04 00:00:00</td>\n",
       "      <td>Screen Media</td>\n",
       "      <td>94</td>\n",
       "      <td>R</td>\n",
       "      <td>None</td>\n",
       "      <td>NaN</td>\n",
       "      <td>NaN</td>\n",
       "      <td>10 Rules for Sleeping Around</td>\n",
       "    </tr>\n",
       "    <tr>\n",
       "      <th>15</th>\n",
       "      <td>/movies/?id=10thingsihateaboutyou.htm</td>\n",
       "      <td>Romantic Comedy</td>\n",
       "      <td>1999-03-31 00:00:00</td>\n",
       "      <td>Buena Vista</td>\n",
       "      <td>97</td>\n",
       "      <td>PG-13</td>\n",
       "      <td>30000000</td>\n",
       "      <td>38178166</td>\n",
       "      <td>2311</td>\n",
       "      <td>10 Things I Hate About You</td>\n",
       "    </tr>\n",
       "    <tr>\n",
       "      <th>16</th>\n",
       "      <td>/movies/?id=10tomidnight.htm</td>\n",
       "      <td>Unknown</td>\n",
       "      <td>1983-03-11 00:00:00</td>\n",
       "      <td>MGM</td>\n",
       "      <td>103</td>\n",
       "      <td>R</td>\n",
       "      <td>None</td>\n",
       "      <td>7175592</td>\n",
       "      <td>595</td>\n",
       "      <td>10 to Midnight</td>\n",
       "    </tr>\n",
       "    <tr>\n",
       "      <th>17</th>\n",
       "      <td>/movies/?id=10years.htm</td>\n",
       "      <td>Comedy / Drama</td>\n",
       "      <td>2012-09-14 00:00:00</td>\n",
       "      <td>Anchor Bay Films</td>\n",
       "      <td>100</td>\n",
       "      <td>PG-13</td>\n",
       "      <td>None</td>\n",
       "      <td>203373</td>\n",
       "      <td>63</td>\n",
       "      <td>10 Years</td>\n",
       "    </tr>\n",
       "    <tr>\n",
       "      <th>18</th>\n",
       "      <td>/movies/?id=10000bc.htm</td>\n",
       "      <td>Period Adventure</td>\n",
       "      <td>2008-03-07 00:00:00</td>\n",
       "      <td>Warner Bros.</td>\n",
       "      <td>109</td>\n",
       "      <td>PG-13</td>\n",
       "      <td>105000000</td>\n",
       "      <td>94784201</td>\n",
       "      <td>3454</td>\n",
       "      <td>10,000 B.C.</td>\n",
       "    </tr>\n",
       "    <tr>\n",
       "      <th>19</th>\n",
       "      <td>/movies/?id=10000km.htm</td>\n",
       "      <td>Comedy / Drama</td>\n",
       "      <td>2015-07-10 00:00:00</td>\n",
       "      <td>Broad Green Pictures</td>\n",
       "      <td>99</td>\n",
       "      <td>R</td>\n",
       "      <td>None</td>\n",
       "      <td>12423</td>\n",
       "      <td>11</td>\n",
       "      <td>10,000 Km</td>\n",
       "    </tr>\n",
       "    <tr>\n",
       "      <th>20</th>\n",
       "      <td>/movies/?id=100bloodyacres.htm</td>\n",
       "      <td>Horror Comedy</td>\n",
       "      <td>2013-06-28 00:00:00</td>\n",
       "      <td>Doppelganger Releasing</td>\n",
       "      <td>None</td>\n",
       "      <td>Unrated</td>\n",
       "      <td>None</td>\n",
       "      <td>NaN</td>\n",
       "      <td>13</td>\n",
       "      <td>100 Bloody Acres</td>\n",
       "    </tr>\n",
       "    <tr>\n",
       "      <th>21</th>\n",
       "      <td>/movies/?id=100yearoldman.htm</td>\n",
       "      <td>Foreign</td>\n",
       "      <td>2015-05-01 00:00:00</td>\n",
       "      <td>Music Box Films</td>\n",
       "      <td>114</td>\n",
       "      <td>R</td>\n",
       "      <td>None</td>\n",
       "      <td>944193</td>\n",
       "      <td>76</td>\n",
       "      <td>The 100-Year Old Man Who Climbed Out the Windo...</td>\n",
       "    </tr>\n",
       "    <tr>\n",
       "      <th>22</th>\n",
       "      <td>/movies/?id=1001grams.htm</td>\n",
       "      <td>Drama</td>\n",
       "      <td>2015-05-08 00:00:00</td>\n",
       "      <td>Kino Lorber</td>\n",
       "      <td>93</td>\n",
       "      <td>Unrated</td>\n",
       "      <td>None</td>\n",
       "      <td>10983</td>\n",
       "      <td>1</td>\n",
       "      <td>1001 Grams</td>\n",
       "    </tr>\n",
       "    <tr>\n",
       "      <th>23</th>\n",
       "      <td>/movies/?id=101dalmatians91.htm</td>\n",
       "      <td>Animation</td>\n",
       "      <td>1991-07-12 00:00:00</td>\n",
       "      <td>Buena Vista</td>\n",
       "      <td>79</td>\n",
       "      <td>G</td>\n",
       "      <td>None</td>\n",
       "      <td>60830285</td>\n",
       "      <td>1825</td>\n",
       "      <td>101 Dalmatians</td>\n",
       "    </tr>\n",
       "    <tr>\n",
       "      <th>24</th>\n",
       "      <td>/movies/?id=101reykjavik.htm</td>\n",
       "      <td>Unknown</td>\n",
       "      <td>2001-07-27 00:00:00</td>\n",
       "      <td>Menemsha</td>\n",
       "      <td>100</td>\n",
       "      <td>Unrated</td>\n",
       "      <td>None</td>\n",
       "      <td>126404</td>\n",
       "      <td>2</td>\n",
       "      <td>101 Reykjavik</td>\n",
       "    </tr>\n",
       "    <tr>\n",
       "      <th>25</th>\n",
       "      <td>/movies/?id=102dalmatians.htm</td>\n",
       "      <td>Family Comedy</td>\n",
       "      <td>2000-11-22 00:00:00</td>\n",
       "      <td>Buena Vista</td>\n",
       "      <td>104</td>\n",
       "      <td>G</td>\n",
       "      <td>85000000</td>\n",
       "      <td>66957026</td>\n",
       "      <td>2704</td>\n",
       "      <td>102 Dalmatians</td>\n",
       "    </tr>\n",
       "    <tr>\n",
       "      <th>26</th>\n",
       "      <td>/movies/?id=10thandwolf.htm</td>\n",
       "      <td>Crime Drama</td>\n",
       "      <td>2006-08-18 00:00:00</td>\n",
       "      <td>ThinkFilm</td>\n",
       "      <td>110</td>\n",
       "      <td>R</td>\n",
       "      <td>8000000</td>\n",
       "      <td>54702</td>\n",
       "      <td>6</td>\n",
       "      <td>10th &amp; Wolf</td>\n",
       "    </tr>\n",
       "    <tr>\n",
       "      <th>27</th>\n",
       "      <td>/movies/?id=11flowers.htm</td>\n",
       "      <td>Foreign</td>\n",
       "      <td>2013-02-22 00:00:00</td>\n",
       "      <td>First Run</td>\n",
       "      <td>110</td>\n",
       "      <td>Unrated</td>\n",
       "      <td>None</td>\n",
       "      <td>9213</td>\n",
       "      <td>2</td>\n",
       "      <td>11 Flowers</td>\n",
       "    </tr>\n",
       "    <tr>\n",
       "      <th>28</th>\n",
       "      <td>/movies/?id=111111.htm</td>\n",
       "      <td>Horror</td>\n",
       "      <td>2011-11-11 00:00:00</td>\n",
       "      <td>Rocket Releasing</td>\n",
       "      <td>82</td>\n",
       "      <td>PG-13</td>\n",
       "      <td>None</td>\n",
       "      <td>32771</td>\n",
       "      <td>17</td>\n",
       "      <td>11-11-11</td>\n",
       "    </tr>\n",
       "    <tr>\n",
       "      <th>29</th>\n",
       "      <td>/movies/?id=11thhour15.htm</td>\n",
       "      <td>Drama</td>\n",
       "      <td>2015-06-12 00:00:00</td>\n",
       "      <td>Brainstorm Media</td>\n",
       "      <td>97</td>\n",
       "      <td>Unrated</td>\n",
       "      <td>None</td>\n",
       "      <td>NaN</td>\n",
       "      <td>NaN</td>\n",
       "      <td>11th Hour</td>\n",
       "    </tr>\n",
       "    <tr>\n",
       "      <th>...</th>\n",
       "      <td>...</td>\n",
       "      <td>...</td>\n",
       "      <td>...</td>\n",
       "      <td>...</td>\n",
       "      <td>...</td>\n",
       "      <td>...</td>\n",
       "      <td>...</td>\n",
       "      <td>...</td>\n",
       "      <td>...</td>\n",
       "      <td>...</td>\n",
       "    </tr>\n",
       "    <tr>\n",
       "      <th>4514</th>\n",
       "      <td>/movies/?id=zerophilia.htm</td>\n",
       "      <td>Comedy</td>\n",
       "      <td>2006-10-13 00:00:00</td>\n",
       "      <td>Microangelo Entertainment</td>\n",
       "      <td>90</td>\n",
       "      <td>Unrated</td>\n",
       "      <td>None</td>\n",
       "      <td>7763</td>\n",
       "      <td>2</td>\n",
       "      <td>Zerophilia</td>\n",
       "    </tr>\n",
       "    <tr>\n",
       "      <th>4515</th>\n",
       "      <td>/movies/?id=zeusandroxanne.htm</td>\n",
       "      <td>Family</td>\n",
       "      <td>1997-01-24 00:00:00</td>\n",
       "      <td>MGM</td>\n",
       "      <td>98</td>\n",
       "      <td>PG</td>\n",
       "      <td>None</td>\n",
       "      <td>7233324</td>\n",
       "      <td>1745</td>\n",
       "      <td>Zeus and Roxanne</td>\n",
       "    </tr>\n",
       "    <tr>\n",
       "      <th>4516</th>\n",
       "      <td>/movies/?id=zhouyustrain.htm</td>\n",
       "      <td>Foreign</td>\n",
       "      <td>2004-07-16 00:00:00</td>\n",
       "      <td>Sony Classics</td>\n",
       "      <td>97</td>\n",
       "      <td>PG-13</td>\n",
       "      <td>None</td>\n",
       "      <td>NaN</td>\n",
       "      <td>12</td>\n",
       "      <td>Zhou Yu's Train</td>\n",
       "    </tr>\n",
       "    <tr>\n",
       "      <th>4517</th>\n",
       "      <td>/movies/?id=ziggystardus02.htm</td>\n",
       "      <td>Unknown</td>\n",
       "      <td>2002-07-10 00:00:00</td>\n",
       "      <td>Cowboy</td>\n",
       "      <td>90</td>\n",
       "      <td>PG</td>\n",
       "      <td>None</td>\n",
       "      <td>162547</td>\n",
       "      <td>5</td>\n",
       "      <td>Ziggy Stardust</td>\n",
       "    </tr>\n",
       "    <tr>\n",
       "      <th>4518</th>\n",
       "      <td>/movies/?id=zigzag.htm</td>\n",
       "      <td>Drama</td>\n",
       "      <td>2002-06-21 00:00:00</td>\n",
       "      <td>Silver Nitrate</td>\n",
       "      <td>101</td>\n",
       "      <td>R</td>\n",
       "      <td>None</td>\n",
       "      <td>2418</td>\n",
       "      <td>1</td>\n",
       "      <td>ZigZag</td>\n",
       "    </tr>\n",
       "    <tr>\n",
       "      <th>4519</th>\n",
       "      <td>/movies/?id=zinda.htm</td>\n",
       "      <td>Foreign</td>\n",
       "      <td>2006-01-13 00:00:00</td>\n",
       "      <td>Eros</td>\n",
       "      <td>114</td>\n",
       "      <td>Unrated</td>\n",
       "      <td>None</td>\n",
       "      <td>332491</td>\n",
       "      <td>38</td>\n",
       "      <td>Zinda</td>\n",
       "    </tr>\n",
       "    <tr>\n",
       "      <th>4520</th>\n",
       "      <td>/movies/?id=zindagi.htm</td>\n",
       "      <td>Foreign</td>\n",
       "      <td>2011-07-15 00:00:00</td>\n",
       "      <td>Eros</td>\n",
       "      <td>155</td>\n",
       "      <td>Unrated</td>\n",
       "      <td>None</td>\n",
       "      <td>3108485</td>\n",
       "      <td>100</td>\n",
       "      <td>Zindagi Na Milegi Dobara</td>\n",
       "    </tr>\n",
       "    <tr>\n",
       "      <th>4521</th>\n",
       "      <td>/movies/?id=zindagirocks.htm</td>\n",
       "      <td>Foreign</td>\n",
       "      <td>2006-10-06 00:00:00</td>\n",
       "      <td>Eros</td>\n",
       "      <td>None</td>\n",
       "      <td>Unrated</td>\n",
       "      <td>None</td>\n",
       "      <td>10172</td>\n",
       "      <td>10</td>\n",
       "      <td>Zindagi Rocks</td>\n",
       "    </tr>\n",
       "    <tr>\n",
       "      <th>4522</th>\n",
       "      <td>/movies/?id=zizek.htm</td>\n",
       "      <td>Documentary</td>\n",
       "      <td>2005-11-18 00:00:00</td>\n",
       "      <td>Zeitgeist</td>\n",
       "      <td>71</td>\n",
       "      <td>Unrated</td>\n",
       "      <td>None</td>\n",
       "      <td>20177</td>\n",
       "      <td>1</td>\n",
       "      <td>Zizek!</td>\n",
       "    </tr>\n",
       "    <tr>\n",
       "      <th>4523</th>\n",
       "      <td>/movies/?id=zodiac.htm</td>\n",
       "      <td>Thriller</td>\n",
       "      <td>2006-03-17 00:00:00</td>\n",
       "      <td>ThinkFilm</td>\n",
       "      <td>92</td>\n",
       "      <td>R</td>\n",
       "      <td>None</td>\n",
       "      <td>45148</td>\n",
       "      <td>10</td>\n",
       "      <td>The Zodiac</td>\n",
       "    </tr>\n",
       "    <tr>\n",
       "      <th>4524</th>\n",
       "      <td>/movies/?id=zodiac07.htm</td>\n",
       "      <td>Thriller</td>\n",
       "      <td>2007-03-02 00:00:00</td>\n",
       "      <td>Paramount</td>\n",
       "      <td>156</td>\n",
       "      <td>R</td>\n",
       "      <td>65000000</td>\n",
       "      <td>33080084</td>\n",
       "      <td>2379</td>\n",
       "      <td>Zodiac</td>\n",
       "    </tr>\n",
       "    <tr>\n",
       "      <th>4525</th>\n",
       "      <td>/movies/?id=zokkomon.htm</td>\n",
       "      <td>Foreign</td>\n",
       "      <td>2011-04-22 00:00:00</td>\n",
       "      <td>UTV Communications</td>\n",
       "      <td>109</td>\n",
       "      <td>PG</td>\n",
       "      <td>None</td>\n",
       "      <td>2815</td>\n",
       "      <td>24</td>\n",
       "      <td>Zokkomon</td>\n",
       "    </tr>\n",
       "    <tr>\n",
       "      <th>4526</th>\n",
       "      <td>/movies/?id=zombeavers.htm</td>\n",
       "      <td>Horror Comedy</td>\n",
       "      <td>2015-03-20 00:00:00</td>\n",
       "      <td>Freestyle Releasing</td>\n",
       "      <td>76</td>\n",
       "      <td>R</td>\n",
       "      <td>None</td>\n",
       "      <td>14947</td>\n",
       "      <td>11</td>\n",
       "      <td>Zombeavers</td>\n",
       "    </tr>\n",
       "    <tr>\n",
       "      <th>4527</th>\n",
       "      <td>/movies/?id=zombiedawn.htm</td>\n",
       "      <td>Foreign / Horror</td>\n",
       "      <td>2012-04-20 00:00:00</td>\n",
       "      <td>Eagle One Media/iFN</td>\n",
       "      <td>83</td>\n",
       "      <td>R</td>\n",
       "      <td>None</td>\n",
       "      <td>NaN</td>\n",
       "      <td>NaN</td>\n",
       "      <td>Zombie Dawn</td>\n",
       "    </tr>\n",
       "    <tr>\n",
       "      <th>4528</th>\n",
       "      <td>/movies/?id=zombiehigh.htm</td>\n",
       "      <td>Unknown</td>\n",
       "      <td>1987-10-02 00:00:00</td>\n",
       "      <td>Palisades Ent.</td>\n",
       "      <td>93</td>\n",
       "      <td>R</td>\n",
       "      <td>None</td>\n",
       "      <td>21905</td>\n",
       "      <td>25</td>\n",
       "      <td>Zombie High</td>\n",
       "    </tr>\n",
       "    <tr>\n",
       "      <th>4529</th>\n",
       "      <td>/movies/?id=azombieinvasion.htm</td>\n",
       "      <td>Horror</td>\n",
       "      <td>2013-12-12 00:00:00</td>\n",
       "      <td>AfterLight</td>\n",
       "      <td>None</td>\n",
       "      <td>Unrated</td>\n",
       "      <td>None</td>\n",
       "      <td>1170</td>\n",
       "      <td>1</td>\n",
       "      <td>A Zombie Invasion</td>\n",
       "    </tr>\n",
       "    <tr>\n",
       "      <th>4530</th>\n",
       "      <td>/movies/?id=zombieland.htm</td>\n",
       "      <td>Horror Comedy</td>\n",
       "      <td>2009-10-02 00:00:00</td>\n",
       "      <td>Sony / Columbia</td>\n",
       "      <td>81</td>\n",
       "      <td>R</td>\n",
       "      <td>236000000</td>\n",
       "      <td>75590286</td>\n",
       "      <td>3171</td>\n",
       "      <td>Zombieland</td>\n",
       "    </tr>\n",
       "    <tr>\n",
       "      <th>4531</th>\n",
       "      <td>/movies/?id=zoo.htm</td>\n",
       "      <td>Documentary</td>\n",
       "      <td>2007-04-25 00:00:00</td>\n",
       "      <td>ThinkFilm</td>\n",
       "      <td>76</td>\n",
       "      <td>Unrated</td>\n",
       "      <td>None</td>\n",
       "      <td>69770</td>\n",
       "      <td>5</td>\n",
       "      <td>Zoo</td>\n",
       "    </tr>\n",
       "    <tr>\n",
       "      <th>4532</th>\n",
       "      <td>/movies/?id=zookeeper.htm</td>\n",
       "      <td>Comedy</td>\n",
       "      <td>2011-07-08 00:00:00</td>\n",
       "      <td>Sony / Columbia</td>\n",
       "      <td>104</td>\n",
       "      <td>PG</td>\n",
       "      <td>80000000</td>\n",
       "      <td>80360843</td>\n",
       "      <td>3482</td>\n",
       "      <td>Zookeeper</td>\n",
       "    </tr>\n",
       "    <tr>\n",
       "      <th>4533</th>\n",
       "      <td>/movies/?id=zookeeperswife.htm</td>\n",
       "      <td>Drama</td>\n",
       "      <td>2017-03-31 00:00:00</td>\n",
       "      <td>Focus Features</td>\n",
       "      <td>None</td>\n",
       "      <td>Unknown</td>\n",
       "      <td>None</td>\n",
       "      <td>NaN</td>\n",
       "      <td>NaN</td>\n",
       "      <td>The Zookeeper's Wife</td>\n",
       "    </tr>\n",
       "    <tr>\n",
       "      <th>4534</th>\n",
       "      <td>/movies/?id=zoolander.htm</td>\n",
       "      <td>Comedy</td>\n",
       "      <td>2001-09-28 00:00:00</td>\n",
       "      <td>Paramount</td>\n",
       "      <td>89</td>\n",
       "      <td>PG-13</td>\n",
       "      <td>28000000</td>\n",
       "      <td>45172250</td>\n",
       "      <td>2522</td>\n",
       "      <td>Zoolander</td>\n",
       "    </tr>\n",
       "    <tr>\n",
       "      <th>4535</th>\n",
       "      <td>/movies/?id=zoolander2.htm</td>\n",
       "      <td>Comedy</td>\n",
       "      <td>2016-02-12 00:00:00</td>\n",
       "      <td>Paramount</td>\n",
       "      <td>100</td>\n",
       "      <td>PG-13</td>\n",
       "      <td>None</td>\n",
       "      <td>28848693</td>\n",
       "      <td>3418</td>\n",
       "      <td>Zoolander 2</td>\n",
       "    </tr>\n",
       "    <tr>\n",
       "      <th>4536</th>\n",
       "      <td>/movies/?id=zoom.htm</td>\n",
       "      <td>Family Adventure</td>\n",
       "      <td>2006-08-11 00:00:00</td>\n",
       "      <td>Sony (Revolution)</td>\n",
       "      <td>83</td>\n",
       "      <td>PG</td>\n",
       "      <td>None</td>\n",
       "      <td>11989328</td>\n",
       "      <td>2501</td>\n",
       "      <td>Zoom</td>\n",
       "    </tr>\n",
       "    <tr>\n",
       "      <th>4537</th>\n",
       "      <td>/movies/?id=zootsuit.htm</td>\n",
       "      <td>Unknown</td>\n",
       "      <td>1981-10-02 00:00:00</td>\n",
       "      <td>Universal</td>\n",
       "      <td>103</td>\n",
       "      <td>R</td>\n",
       "      <td>None</td>\n",
       "      <td>3256082</td>\n",
       "      <td>NaN</td>\n",
       "      <td>Zoot Suit</td>\n",
       "    </tr>\n",
       "    <tr>\n",
       "      <th>4538</th>\n",
       "      <td>/movies/?id=disney2016.htm</td>\n",
       "      <td>Animation</td>\n",
       "      <td>2016-03-04 00:00:00</td>\n",
       "      <td>Buena Vista</td>\n",
       "      <td>108</td>\n",
       "      <td>PG</td>\n",
       "      <td>None</td>\n",
       "      <td>341268248</td>\n",
       "      <td>3959</td>\n",
       "      <td>Zootopia</td>\n",
       "    </tr>\n",
       "    <tr>\n",
       "      <th>4539</th>\n",
       "      <td>/movies/?id=zorrothegayblade.htm</td>\n",
       "      <td>Action Comedy</td>\n",
       "      <td>1981-07-17 00:00:00</td>\n",
       "      <td>Fox</td>\n",
       "      <td>93</td>\n",
       "      <td>PG</td>\n",
       "      <td>None</td>\n",
       "      <td>NaN</td>\n",
       "      <td>NaN</td>\n",
       "      <td>Zorro, the Gay Blade</td>\n",
       "    </tr>\n",
       "    <tr>\n",
       "      <th>4540</th>\n",
       "      <td>/movies/?id=zuwarriors.htm</td>\n",
       "      <td>Foreign</td>\n",
       "      <td>NaN</td>\n",
       "      <td>Miramax</td>\n",
       "      <td>80</td>\n",
       "      <td>PG-13</td>\n",
       "      <td>None</td>\n",
       "      <td>NaN</td>\n",
       "      <td>NaN</td>\n",
       "      <td>Zu Warriors  - Box Office Mojo</td>\n",
       "    </tr>\n",
       "    <tr>\n",
       "      <th>4541</th>\n",
       "      <td>/movies/?id=zulu.htm</td>\n",
       "      <td>War</td>\n",
       "      <td>1964-06-17 00:00:00</td>\n",
       "      <td>Embassy</td>\n",
       "      <td>138</td>\n",
       "      <td>Unrated</td>\n",
       "      <td>None</td>\n",
       "      <td>NaN</td>\n",
       "      <td>NaN</td>\n",
       "      <td>Zulu</td>\n",
       "    </tr>\n",
       "    <tr>\n",
       "      <th>4542</th>\n",
       "      <td>/movies/?id=zuludawn.htm</td>\n",
       "      <td>War</td>\n",
       "      <td>1979-12-14 00:00:00</td>\n",
       "      <td>American Cinema</td>\n",
       "      <td>98</td>\n",
       "      <td>PG</td>\n",
       "      <td>None</td>\n",
       "      <td>NaN</td>\n",
       "      <td>NaN</td>\n",
       "      <td>Zulu Dawn</td>\n",
       "    </tr>\n",
       "    <tr>\n",
       "      <th>4543</th>\n",
       "      <td>/movies/?id=zusandzo.htm</td>\n",
       "      <td>Foreign</td>\n",
       "      <td>2003-02-07 00:00:00</td>\n",
       "      <td>Lifesize</td>\n",
       "      <td>106</td>\n",
       "      <td>Unrated</td>\n",
       "      <td>None</td>\n",
       "      <td>49468</td>\n",
       "      <td>4</td>\n",
       "      <td>Zus &amp; Zo</td>\n",
       "    </tr>\n",
       "  </tbody>\n",
       "</table>\n",
       "<p>15910 rows × 10 columns</p>\n",
       "</div>"
      ],
      "text/plain": [
       "                                           movie             genre  \\\n",
       "0                      /movies/?id=horrorifc.htm            Horror   \n",
       "1                         /movies/?id=9dot99.htm         Animation   \n",
       "2                /movies/?id=supercapitalist.htm          Thriller   \n",
       "3                       /movies/?id=untitled.htm            Comedy   \n",
       "4               /movies/?id=andjusticeforall.htm             Drama   \n",
       "5                     /movies/?id=1mileabove.htm           Foreign   \n",
       "6                         /movies/?id=1plus1.htm           Unknown   \n",
       "7                  /movies/?id=1000rupeenote.htm             Drama   \n",
       "8                      /movies/?id=1000times.htm           Foreign   \n",
       "9                             /movies/?id=10.htm   Romantic Comedy   \n",
       "10                  /movies/?id=badrobot2016.htm          Thriller   \n",
       "11             /movies/?id=10daysinamadhouse.htm             Drama   \n",
       "12                 /movies/?id=10itemsorless.htm            Comedy   \n",
       "13    /movies/?id=10questionsforthedalailama.htm       Documentary   \n",
       "14                       /movies/?id=10rules.htm            Comedy   \n",
       "15         /movies/?id=10thingsihateaboutyou.htm   Romantic Comedy   \n",
       "16                  /movies/?id=10tomidnight.htm           Unknown   \n",
       "17                       /movies/?id=10years.htm    Comedy / Drama   \n",
       "18                       /movies/?id=10000bc.htm  Period Adventure   \n",
       "19                       /movies/?id=10000km.htm    Comedy / Drama   \n",
       "20                /movies/?id=100bloodyacres.htm     Horror Comedy   \n",
       "21                 /movies/?id=100yearoldman.htm           Foreign   \n",
       "22                     /movies/?id=1001grams.htm             Drama   \n",
       "23               /movies/?id=101dalmatians91.htm         Animation   \n",
       "24                  /movies/?id=101reykjavik.htm           Unknown   \n",
       "25                 /movies/?id=102dalmatians.htm     Family Comedy   \n",
       "26                   /movies/?id=10thandwolf.htm       Crime Drama   \n",
       "27                     /movies/?id=11flowers.htm           Foreign   \n",
       "28                        /movies/?id=111111.htm            Horror   \n",
       "29                    /movies/?id=11thhour15.htm             Drama   \n",
       "...                                          ...               ...   \n",
       "4514                  /movies/?id=zerophilia.htm            Comedy   \n",
       "4515              /movies/?id=zeusandroxanne.htm            Family   \n",
       "4516                /movies/?id=zhouyustrain.htm           Foreign   \n",
       "4517              /movies/?id=ziggystardus02.htm           Unknown   \n",
       "4518                      /movies/?id=zigzag.htm             Drama   \n",
       "4519                       /movies/?id=zinda.htm           Foreign   \n",
       "4520                     /movies/?id=zindagi.htm           Foreign   \n",
       "4521                /movies/?id=zindagirocks.htm           Foreign   \n",
       "4522                       /movies/?id=zizek.htm       Documentary   \n",
       "4523                      /movies/?id=zodiac.htm          Thriller   \n",
       "4524                    /movies/?id=zodiac07.htm          Thriller   \n",
       "4525                    /movies/?id=zokkomon.htm           Foreign   \n",
       "4526                  /movies/?id=zombeavers.htm     Horror Comedy   \n",
       "4527                  /movies/?id=zombiedawn.htm  Foreign / Horror   \n",
       "4528                  /movies/?id=zombiehigh.htm           Unknown   \n",
       "4529             /movies/?id=azombieinvasion.htm            Horror   \n",
       "4530                  /movies/?id=zombieland.htm     Horror Comedy   \n",
       "4531                         /movies/?id=zoo.htm       Documentary   \n",
       "4532                   /movies/?id=zookeeper.htm            Comedy   \n",
       "4533              /movies/?id=zookeeperswife.htm             Drama   \n",
       "4534                   /movies/?id=zoolander.htm            Comedy   \n",
       "4535                  /movies/?id=zoolander2.htm            Comedy   \n",
       "4536                        /movies/?id=zoom.htm  Family Adventure   \n",
       "4537                    /movies/?id=zootsuit.htm           Unknown   \n",
       "4538                  /movies/?id=disney2016.htm         Animation   \n",
       "4539            /movies/?id=zorrothegayblade.htm     Action Comedy   \n",
       "4540                  /movies/?id=zuwarriors.htm           Foreign   \n",
       "4541                        /movies/?id=zulu.htm               War   \n",
       "4542                    /movies/?id=zuludawn.htm               War   \n",
       "4543                    /movies/?id=zusandzo.htm           Foreign   \n",
       "\n",
       "             release date                distributor runtime         rating  \\\n",
       "0     2015-11-20 00:00:00                        IFC      90        Unknown   \n",
       "1     2008-12-12 00:00:00           Regent Releasing      78              R   \n",
       "2     2012-08-10 00:00:00                Truly Indie      96        Unrated   \n",
       "3     2009-10-23 00:00:00             Samuel Goldwyn      96              R   \n",
       "4     1979-10-19 00:00:00                   Columbia     119              R   \n",
       "5     2013-06-07 00:00:00             Asia Releasing      87  Not Yet Rated   \n",
       "6     2003-03-28 00:00:00                       Eros    None        Unrated   \n",
       "7     2016-09-23 00:00:00                Kino Lorber      89        Unrated   \n",
       "8     2014-10-24 00:00:00              Film Movement     117        Unrated   \n",
       "9     1979-10-05 00:00:00               Warner Bros.     121              R   \n",
       "10    2016-03-11 00:00:00                  Paramount     105          PG-13   \n",
       "11    2015-11-11 00:00:00              Cafe Pictures     111        Unrated   \n",
       "12    2006-12-01 00:00:00                  ThinkFilm      82              R   \n",
       "13    2007-04-27 00:00:00       Monterey Media, Inc.      89        Unrated   \n",
       "14    2014-04-04 00:00:00               Screen Media      94              R   \n",
       "15    1999-03-31 00:00:00                Buena Vista      97          PG-13   \n",
       "16    1983-03-11 00:00:00                        MGM     103              R   \n",
       "17    2012-09-14 00:00:00           Anchor Bay Films     100          PG-13   \n",
       "18    2008-03-07 00:00:00               Warner Bros.     109          PG-13   \n",
       "19    2015-07-10 00:00:00       Broad Green Pictures      99              R   \n",
       "20    2013-06-28 00:00:00     Doppelganger Releasing    None        Unrated   \n",
       "21    2015-05-01 00:00:00            Music Box Films     114              R   \n",
       "22    2015-05-08 00:00:00                Kino Lorber      93        Unrated   \n",
       "23    1991-07-12 00:00:00                Buena Vista      79              G   \n",
       "24    2001-07-27 00:00:00                   Menemsha     100        Unrated   \n",
       "25    2000-11-22 00:00:00                Buena Vista     104              G   \n",
       "26    2006-08-18 00:00:00                  ThinkFilm     110              R   \n",
       "27    2013-02-22 00:00:00                  First Run     110        Unrated   \n",
       "28    2011-11-11 00:00:00           Rocket Releasing      82          PG-13   \n",
       "29    2015-06-12 00:00:00           Brainstorm Media      97        Unrated   \n",
       "...                   ...                        ...     ...            ...   \n",
       "4514  2006-10-13 00:00:00  Microangelo Entertainment      90        Unrated   \n",
       "4515  1997-01-24 00:00:00                        MGM      98             PG   \n",
       "4516  2004-07-16 00:00:00              Sony Classics      97          PG-13   \n",
       "4517  2002-07-10 00:00:00                     Cowboy      90             PG   \n",
       "4518  2002-06-21 00:00:00             Silver Nitrate     101              R   \n",
       "4519  2006-01-13 00:00:00                       Eros     114        Unrated   \n",
       "4520  2011-07-15 00:00:00                       Eros     155        Unrated   \n",
       "4521  2006-10-06 00:00:00                       Eros    None        Unrated   \n",
       "4522  2005-11-18 00:00:00                  Zeitgeist      71        Unrated   \n",
       "4523  2006-03-17 00:00:00                  ThinkFilm      92              R   \n",
       "4524  2007-03-02 00:00:00                  Paramount     156              R   \n",
       "4525  2011-04-22 00:00:00         UTV Communications     109             PG   \n",
       "4526  2015-03-20 00:00:00        Freestyle Releasing      76              R   \n",
       "4527  2012-04-20 00:00:00        Eagle One Media/iFN      83              R   \n",
       "4528  1987-10-02 00:00:00             Palisades Ent.      93              R   \n",
       "4529  2013-12-12 00:00:00                 AfterLight    None        Unrated   \n",
       "4530  2009-10-02 00:00:00            Sony / Columbia      81              R   \n",
       "4531  2007-04-25 00:00:00                  ThinkFilm      76        Unrated   \n",
       "4532  2011-07-08 00:00:00            Sony / Columbia     104             PG   \n",
       "4533  2017-03-31 00:00:00             Focus Features    None        Unknown   \n",
       "4534  2001-09-28 00:00:00                  Paramount      89          PG-13   \n",
       "4535  2016-02-12 00:00:00                  Paramount     100          PG-13   \n",
       "4536  2006-08-11 00:00:00          Sony (Revolution)      83             PG   \n",
       "4537  1981-10-02 00:00:00                  Universal     103              R   \n",
       "4538  2016-03-04 00:00:00                Buena Vista     108             PG   \n",
       "4539  1981-07-17 00:00:00                        Fox      93             PG   \n",
       "4540                  NaN                    Miramax      80          PG-13   \n",
       "4541  1964-06-17 00:00:00                    Embassy     138        Unrated   \n",
       "4542  1979-12-14 00:00:00            American Cinema      98             PG   \n",
       "4543  2003-02-07 00:00:00                   Lifesize     106        Unrated   \n",
       "\n",
       "         budget domestic gross widest release  \\\n",
       "0          None            NaN            NaN   \n",
       "1          None          52384              4   \n",
       "2          None          15919              1   \n",
       "3          None         230600             25   \n",
       "4          None       33300000            NaN   \n",
       "5          None            NaN            NaN   \n",
       "6          None            NaN             18   \n",
       "7          None            NaN              1   \n",
       "8          None          53895             24   \n",
       "9          None       74865517            NaN   \n",
       "10         None       72082998           3427   \n",
       "11         None          14616             10   \n",
       "12         None          83291             15   \n",
       "13         None         224546             11   \n",
       "14         None            NaN            NaN   \n",
       "15     30000000       38178166           2311   \n",
       "16         None        7175592            595   \n",
       "17         None         203373             63   \n",
       "18    105000000       94784201           3454   \n",
       "19         None          12423             11   \n",
       "20         None            NaN             13   \n",
       "21         None         944193             76   \n",
       "22         None          10983              1   \n",
       "23         None       60830285           1825   \n",
       "24         None         126404              2   \n",
       "25     85000000       66957026           2704   \n",
       "26      8000000          54702              6   \n",
       "27         None           9213              2   \n",
       "28         None          32771             17   \n",
       "29         None            NaN            NaN   \n",
       "...         ...            ...            ...   \n",
       "4514       None           7763              2   \n",
       "4515       None        7233324           1745   \n",
       "4516       None            NaN             12   \n",
       "4517       None         162547              5   \n",
       "4518       None           2418              1   \n",
       "4519       None         332491             38   \n",
       "4520       None        3108485            100   \n",
       "4521       None          10172             10   \n",
       "4522       None          20177              1   \n",
       "4523       None          45148             10   \n",
       "4524   65000000       33080084           2379   \n",
       "4525       None           2815             24   \n",
       "4526       None          14947             11   \n",
       "4527       None            NaN            NaN   \n",
       "4528       None          21905             25   \n",
       "4529       None           1170              1   \n",
       "4530  236000000       75590286           3171   \n",
       "4531       None          69770              5   \n",
       "4532   80000000       80360843           3482   \n",
       "4533       None            NaN            NaN   \n",
       "4534   28000000       45172250           2522   \n",
       "4535       None       28848693           3418   \n",
       "4536       None       11989328           2501   \n",
       "4537       None        3256082            NaN   \n",
       "4538       None      341268248           3959   \n",
       "4539       None            NaN            NaN   \n",
       "4540       None            NaN            NaN   \n",
       "4541       None            NaN            NaN   \n",
       "4542       None            NaN            NaN   \n",
       "4543       None          49468              4   \n",
       "\n",
       "                                                  title  \n",
       "0                                               #Horror  \n",
       "1                                                 $9.99  \n",
       "2                                       $upercapitalist  \n",
       "3                                                        \n",
       "4                                ...And Justice for All  \n",
       "5                                          1 Mile Above  \n",
       "6                                                1+1=11  \n",
       "7                                      1,000 Rupee Note  \n",
       "8                                1,000 Times Good Night  \n",
       "9                                                    10  \n",
       "10                                  10 Cloverfield Lane  \n",
       "11                                10 Days in a Madhouse  \n",
       "12                                     10 Items or Less  \n",
       "13                      10 Questions for the Dalai Lama  \n",
       "14                         10 Rules for Sleeping Around  \n",
       "15                           10 Things I Hate About You  \n",
       "16                                       10 to Midnight  \n",
       "17                                             10 Years  \n",
       "18                                          10,000 B.C.  \n",
       "19                                            10,000 Km  \n",
       "20                                     100 Bloody Acres  \n",
       "21    The 100-Year Old Man Who Climbed Out the Windo...  \n",
       "22                                           1001 Grams  \n",
       "23                                       101 Dalmatians  \n",
       "24                                        101 Reykjavik  \n",
       "25                                       102 Dalmatians  \n",
       "26                                          10th & Wolf  \n",
       "27                                           11 Flowers  \n",
       "28                                             11-11-11  \n",
       "29                                            11th Hour  \n",
       "...                                                 ...  \n",
       "4514                                         Zerophilia  \n",
       "4515                                   Zeus and Roxanne  \n",
       "4516                                    Zhou Yu's Train  \n",
       "4517                                     Ziggy Stardust  \n",
       "4518                                             ZigZag  \n",
       "4519                                              Zinda  \n",
       "4520                           Zindagi Na Milegi Dobara  \n",
       "4521                                      Zindagi Rocks  \n",
       "4522                                             Zizek!  \n",
       "4523                                         The Zodiac  \n",
       "4524                                             Zodiac  \n",
       "4525                                           Zokkomon  \n",
       "4526                                         Zombeavers  \n",
       "4527                                        Zombie Dawn  \n",
       "4528                                        Zombie High  \n",
       "4529                                  A Zombie Invasion  \n",
       "4530                                         Zombieland  \n",
       "4531                                                Zoo  \n",
       "4532                                          Zookeeper  \n",
       "4533                               The Zookeeper's Wife  \n",
       "4534                                          Zoolander  \n",
       "4535                                        Zoolander 2  \n",
       "4536                                               Zoom  \n",
       "4537                                          Zoot Suit  \n",
       "4538                                           Zootopia  \n",
       "4539                               Zorro, the Gay Blade  \n",
       "4540                     Zu Warriors  - Box Office Mojo  \n",
       "4541                                               Zulu  \n",
       "4542                                          Zulu Dawn  \n",
       "4543                                           Zus & Zo  \n",
       "\n",
       "[15910 rows x 10 columns]"
      ]
     },
     "execution_count": 11,
     "metadata": {},
     "output_type": "execute_result"
    }
   ],
   "source": [
    "df3.drop_duplicates()"
   ]
  },
  {
   "cell_type": "code",
   "execution_count": 12,
   "metadata": {
    "collapsed": true
   },
   "outputs": [],
   "source": [
    "df4 = df3.drop_duplicates()"
   ]
  },
  {
   "cell_type": "code",
   "execution_count": 13,
   "metadata": {
    "collapsed": false
   },
   "outputs": [],
   "source": [
    "df5 = df4[df4['title'] != 'Box Office Mojo - Movie Index, A-Z']"
   ]
  },
  {
   "cell_type": "code",
   "execution_count": 14,
   "metadata": {
    "collapsed": true
   },
   "outputs": [
    {
     "data": {
      "text/html": [
       "<div>\n",
       "<table border=\"1\" class=\"dataframe\">\n",
       "  <thead>\n",
       "    <tr style=\"text-align: right;\">\n",
       "      <th></th>\n",
       "      <th>movie</th>\n",
       "      <th>genre</th>\n",
       "      <th>release date</th>\n",
       "      <th>distributor</th>\n",
       "      <th>runtime</th>\n",
       "      <th>rating</th>\n",
       "      <th>budget</th>\n",
       "      <th>domestic gross</th>\n",
       "      <th>widest release</th>\n",
       "      <th>title</th>\n",
       "    </tr>\n",
       "  </thead>\n",
       "  <tbody>\n",
       "    <tr>\n",
       "      <th>count</th>\n",
       "      <td>15908</td>\n",
       "      <td>15905</td>\n",
       "      <td>15638</td>\n",
       "      <td>15905</td>\n",
       "      <td>15040</td>\n",
       "      <td>15905</td>\n",
       "      <td>2903</td>\n",
       "      <td>12952</td>\n",
       "      <td>13035</td>\n",
       "      <td>15908</td>\n",
       "    </tr>\n",
       "    <tr>\n",
       "      <th>unique</th>\n",
       "      <td>15908</td>\n",
       "      <td>66</td>\n",
       "      <td>4000</td>\n",
       "      <td>1086</td>\n",
       "      <td>199</td>\n",
       "      <td>12</td>\n",
       "      <td>223</td>\n",
       "      <td>12787</td>\n",
       "      <td>2943</td>\n",
       "      <td>15908</td>\n",
       "    </tr>\n",
       "    <tr>\n",
       "      <th>top</th>\n",
       "      <td>/movies/?id=gladiatorsofrome.htm</td>\n",
       "      <td>Unknown</td>\n",
       "      <td>2013-09-06 00:00:00</td>\n",
       "      <td>Warner Bros.</td>\n",
       "      <td>90</td>\n",
       "      <td>R</td>\n",
       "      <td>30000000</td>\n",
       "      <td>14000000</td>\n",
       "      <td>1</td>\n",
       "      <td>The Old Fashioned Way</td>\n",
       "    </tr>\n",
       "    <tr>\n",
       "      <th>freq</th>\n",
       "      <td>1</td>\n",
       "      <td>2202</td>\n",
       "      <td>24</td>\n",
       "      <td>942</td>\n",
       "      <td>737</td>\n",
       "      <td>5599</td>\n",
       "      <td>119</td>\n",
       "      <td>4</td>\n",
       "      <td>1049</td>\n",
       "      <td>1</td>\n",
       "    </tr>\n",
       "  </tbody>\n",
       "</table>\n",
       "</div>"
      ],
      "text/plain": [
       "                                   movie    genre         release date  \\\n",
       "count                              15908    15905                15638   \n",
       "unique                             15908       66                 4000   \n",
       "top     /movies/?id=gladiatorsofrome.htm  Unknown  2013-09-06 00:00:00   \n",
       "freq                                   1     2202                   24   \n",
       "\n",
       "         distributor  runtime rating    budget  domestic gross  \\\n",
       "count          15905    15040  15905      2903           12952   \n",
       "unique          1086      199     12       223           12787   \n",
       "top     Warner Bros.       90      R  30000000        14000000   \n",
       "freq             942      737   5599       119               4   \n",
       "\n",
       "        widest release                  title  \n",
       "count            13035                  15908  \n",
       "unique            2943                  15908  \n",
       "top                  1  The Old Fashioned Way  \n",
       "freq              1049                      1  "
      ]
     },
     "execution_count": 14,
     "metadata": {},
     "output_type": "execute_result"
    }
   ],
   "source": [
    "df5.describe()"
   ]
  },
  {
   "cell_type": "code",
   "execution_count": 15,
   "metadata": {
    "collapsed": true
   },
   "outputs": [],
   "source": [
    "import matplotlib.pyplot as plt\n",
    "%matplotlib inline"
   ]
  },
  {
   "cell_type": "code",
   "execution_count": 16,
   "metadata": {
    "collapsed": false,
    "scrolled": true
   },
   "outputs": [
    {
     "data": {
      "text/plain": [
       "<matplotlib.axes._subplots.AxesSubplot at 0x116772128>"
      ]
     },
     "execution_count": 16,
     "metadata": {},
     "output_type": "execute_result"
    },
    {
     "data": {
      "image/png": "[encoded data removed]",
      "text/plain": [
       "<matplotlib.figure.Figure at 0x111ba70f0>"
      ]
     },
     "metadata": {},
     "output_type": "display_data"
    }
   ],
   "source": [
    "df5['runtime'].hist(bins = 50)"
   ]
  },
  {
   "cell_type": "code",
   "execution_count": 17,
   "metadata": {
    "collapsed": false
   },
   "outputs": [
    {
     "data": {
      "text/plain": [
       "66.0"
      ]
     },
     "execution_count": 17,
     "metadata": {},
     "output_type": "execute_result"
    }
   ],
   "source": [
    "df5['widest release'].median()"
   ]
  },
  {
   "cell_type": "code",
   "execution_count": 18,
   "metadata": {
    "collapsed": false
   },
   "outputs": [
    {
     "data": {
      "text/plain": [
       "767.30241657077102"
      ]
     },
     "execution_count": 18,
     "metadata": {},
     "output_type": "execute_result"
    }
   ],
   "source": [
    "df5['widest release'].mean()"
   ]
  },
  {
   "cell_type": "code",
   "execution_count": 19,
   "metadata": {
    "collapsed": false
   },
   "outputs": [
    {
     "data": {
      "text/plain": [
       "<matplotlib.axes._subplots.AxesSubplot at 0x111ba7860>"
      ]
     },
     "execution_count": 19,
     "metadata": {},
     "output_type": "execute_result"
    },
    {
     "data": {
      "image/png": "[encoded data removed]",
      "text/plain": [
       "<matplotlib.figure.Figure at 0x118c4d978>"
      ]
     },
     "metadata": {},
     "output_type": "display_data"
    }
   ],
   "source": [
    "df5['widest release'].hist(bins = 100)"
   ]
  },
  {
   "cell_type": "code",
   "execution_count": 20,
   "metadata": {
    "collapsed": false
   },
   "outputs": [
    {
     "data": {
      "text/plain": [
       "<matplotlib.collections.PathCollection at 0x11989cd30>"
      ]
     },
     "execution_count": 20,
     "metadata": {},
     "output_type": "execute_result"
    },
    {
     "data": {
      "image/png": "[encoded data removed]",
      "text/plain": [
       "<matplotlib.figure.Figure at 0x11979c710>"
      ]
     },
     "metadata": {},
     "output_type": "display_data"
    }
   ],
   "source": [
    "plt.scatter(df5['widest release'], df5['runtime'])"
   ]
  },
  {
   "cell_type": "code",
   "execution_count": 21,
   "metadata": {
    "collapsed": false
   },
   "outputs": [
    {
     "data": {
      "text/plain": [
       "<matplotlib.axes._subplots.AxesSubplot at 0x11949c3c8>"
      ]
     },
     "execution_count": 21,
     "metadata": {},
     "output_type": "execute_result"
    },
    {
     "data": {
      "image/png": "[encoded data removed]",
      "text/plain": [
       "<matplotlib.figure.Figure at 0x1198bb6d8>"
      ]
     },
     "metadata": {},
     "output_type": "display_data"
    }
   ],
   "source": [
    "df5['domestic gross'].hist(bins = 100)"
   ]
  },
  {
   "cell_type": "code",
   "execution_count": 22,
   "metadata": {
    "collapsed": false
   },
   "outputs": [
    {
     "data": {
      "text/plain": [
       "<matplotlib.collections.PathCollection at 0x119d5da20>"
      ]
     },
     "execution_count": 22,
     "metadata": {},
     "output_type": "execute_result"
    },
    {
     "data": {
      "image/png": "[encoded data removed]",
      "text/plain": [
       "<matplotlib.figure.Figure at 0x119c8a550>"
      ]
     },
     "metadata": {},
     "output_type": "display_data"
    }
   ],
   "source": [
    "plt.scatter(df5['widest release'], df5['domestic gross'])"
   ]
  },
  {
   "cell_type": "code",
   "execution_count": 31,
   "metadata": {
    "collapsed": false
   },
   "outputs": [
    {
     "data": {
      "text/plain": [
       "100.0"
      ]
     },
     "execution_count": 31,
     "metadata": {},
     "output_type": "execute_result"
    }
   ],
   "source": [
    "df['runtime'].median()"
   ]
  },
  {
   "cell_type": "code",
   "execution_count": 28,
   "metadata": {
    "collapsed": false
   },
   "outputs": [
    {
     "data": {
      "text/plain": [
       "125.0"
      ]
     },
     "execution_count": 28,
     "metadata": {},
     "output_type": "execute_result"
    }
   ],
   "source": [
    "df6['runtime'].median()"
   ]
  },
  {
   "cell_type": "code",
   "execution_count": 32,
   "metadata": {
    "collapsed": false
   },
   "outputs": [
    {
     "data": {
      "text/plain": [
       "103.83594855305466"
      ]
     },
     "execution_count": 32,
     "metadata": {},
     "output_type": "execute_result"
    }
   ],
   "source": [
    "df['runtime'].mean()"
   ]
  },
  {
   "cell_type": "code",
   "execution_count": 33,
   "metadata": {
    "collapsed": false
   },
   "outputs": [
    {
     "data": {
      "text/plain": [
       "123.51063829787235"
      ]
     },
     "execution_count": 33,
     "metadata": {},
     "output_type": "execute_result"
    }
   ],
   "source": [
    "df6['runtime'].mean()"
   ]
  },
  {
   "cell_type": "code",
   "execution_count": 38,
   "metadata": {
    "collapsed": false
   },
   "outputs": [
    {
     "data": {
      "text/plain": [
       "<matplotlib.axes._subplots.AxesSubplot at 0x11a5bf9e8>"
      ]
     },
     "execution_count": 38,
     "metadata": {},
     "output_type": "execute_result"
    },
    {
     "data": {
      "image/png": "[encoded data removed]",
      "text/plain": [
       "<matplotlib.figure.Figure at 0x11b4fc198>"
      ]
     },
     "metadata": {},
     "output_type": "display_data"
    }
   ],
   "source": [
    "df['runtime'].hist(bins = 100)\n",
    "#df6['runtime'].hist(bins = 100, color = 'r')"
   ]
  },
  {
   "cell_type": "code",
   "execution_count": 39,
   "metadata": {
    "collapsed": false
   },
   "outputs": [
    {
     "data": {
      "text/plain": [
       "<matplotlib.axes._subplots.AxesSubplot at 0x11b548630>"
      ]
     },
     "execution_count": 39,
     "metadata": {},
     "output_type": "execute_result"
    },
    {
     "data": {
      "image/png": "[encoded data removed]",
      "text/plain": [
       "<matplotlib.figure.Figure at 0x11b6ca358>"
      ]
     },
     "metadata": {},
     "output_type": "display_data"
    }
   ],
   "source": [
    "df['domestic gross'].hist(bins = 100)"
   ]
  },
  {
   "cell_type": "code",
   "execution_count": 42,
   "metadata": {
    "collapsed": false
   },
   "outputs": [
    {
     "data": {
      "text/plain": [
       "<matplotlib.axes._subplots.AxesSubplot at 0x11bf13c88>"
      ]
     },
     "execution_count": 42,
     "metadata": {},
     "output_type": "execute_result"
    },
    {
     "data": {
      "image/png": "[encoded data removed]",
      "text/plain": [
       "<matplotlib.figure.Figure at 0x11bde0c18>"
      ]
     },
     "metadata": {},
     "output_type": "display_data"
    }
   ],
   "source": [
    "df6['domestic gross'].hist(bins = 100)"
   ]
  },
  {
   "cell_type": "code",
   "execution_count": 44,
   "metadata": {
    "collapsed": false
   },
   "outputs": [
    {
     "data": {
      "image/png": "[encoded data removed]",
      "text/plain": [
       "<matplotlib.figure.Figure at 0x11c62da90>"
      ]
     },
     "metadata": {},
     "output_type": "display_data"
    }
   ],
   "source": [
    "plt.scatter(df6['runtime'], df6['domestic gross']);"
   ]
  },
  {
   "cell_type": "code",
   "execution_count": 45,
   "metadata": {
    "collapsed": false
   },
   "outputs": [
    {
     "data": {
      "text/plain": [
       "<matplotlib.collections.PathCollection at 0x11c882438>"
      ]
     },
     "execution_count": 45,
     "metadata": {},
     "output_type": "execute_result"
    },
    {
     "data": {
      "image/png": "[encoded data removed]",
      "text/plain": [
       "<matplotlib.figure.Figure at 0x11c76b588>"
      ]
     },
     "metadata": {},
     "output_type": "display_data"
    }
   ],
   "source": [
    "plt.scatter(df6['domestic gross'], df6['budget'])"
   ]
  },
  {
   "cell_type": "code",
   "execution_count": 46,
   "metadata": {
    "collapsed": false
   },
   "outputs": [
    {
     "data": {
      "text/plain": [
       "<matplotlib.collections.PathCollection at 0x11c9b96d8>"
      ]
     },
     "execution_count": 46,
     "metadata": {},
     "output_type": "execute_result"
    },
    {
     "data": {
      "image/png": "[encoded data removed]",
      "text/plain": [
       "<matplotlib.figure.Figure at 0x11c78a828>"
      ]
     },
     "metadata": {},
     "output_type": "display_data"
    }
   ],
   "source": [
    "plt.scatter(df6['runtime'], df6['budget'])"
   ]
  },
  {
   "cell_type": "code",
   "execution_count": 48,
   "metadata": {
    "collapsed": false
   },
   "outputs": [
    {
     "data": {
      "text/plain": [
       "<matplotlib.axes._subplots.AxesSubplot at 0x11cbd5f28>"
      ]
     },
     "execution_count": 48,
     "metadata": {},
     "output_type": "execute_result"
    },
    {
     "data": {
      "image/png": "[encoded data removed]",
      "text/plain": [
       "<matplotlib.figure.Figure at 0x11cbe2400>"
      ]
     },
     "metadata": {},
     "output_type": "display_data"
    }
   ],
   "source": [
    "df['domestic gross'].hist(bins = 50)"
   ]
  },
  {
   "cell_type": "code",
   "execution_count": null,
   "metadata": {
    "collapsed": false
   },
   "outputs": [],
   "source": [
    "actors_2 = df['actors'].fillna('o')"
   ]
  },
  {
   "cell_type": "code",
   "execution_count": null,
   "metadata": {
    "collapsed": false
   },
   "outputs": [],
   "source": [
    "indiv_actors = []\n",
    "for i in actors_2:\n",
    "    for j in i:\n",
    "        indiv_actors.append(j)"
   ]
  },
  {
   "cell_type": "code",
   "execution_count": null,
   "metadata": {
    "collapsed": true
   },
   "outputs": [],
   "source": [
    "from collections import Counter"
   ]
  },
  {
   "cell_type": "code",
   "execution_count": null,
   "metadata": {
    "collapsed": false
   },
   "outputs": [],
   "source": [
    "actores = []\n",
    "for i in range(len(indiv_actors)):\n",
    "    actores.append(indiv_actors[i].lstrip(' '))"
   ]
  },
  {
   "cell_type": "code",
   "execution_count": null,
   "metadata": {
    "collapsed": false
   },
   "outputs": [],
   "source": [
    "!ls -l"
   ]
  },
  {
   "cell_type": "code",
   "execution_count": null,
   "metadata": {
    "collapsed": true
   },
   "outputs": [],
   "source": [
    "movies_imdb = pd.read_csv('movie_metadata.csv')"
   ]
  },
  {
   "cell_type": "code",
   "execution_count": null,
   "metadata": {
    "collapsed": false
   },
   "outputs": [],
   "source": [
    "movies_imdb.shape"
   ]
  },
  {
   "cell_type": "code",
   "execution_count": null,
   "metadata": {
    "collapsed": false
   },
   "outputs": [],
   "source": [
    "movies_imdb.columns"
   ]
  },
  {
   "cell_type": "code",
   "execution_count": null,
   "metadata": {
    "collapsed": false
   },
   "outputs": [],
   "source": [
    "df_movies = movies_imdb[ ['movie_title', 'imdb_score', 'budget', 'gross']]"
   ]
  },
  {
   "cell_type": "code",
   "execution_count": null,
   "metadata": {
    "collapsed": true
   },
   "outputs": [],
   "source": [
    "df_movies.sort('imdb_score', ascending = False).drop_duplicates()"
   ]
  },
  {
   "cell_type": "code",
   "execution_count": null,
   "metadata": {
    "collapsed": false
   },
   "outputs": [],
   "source": [
    "plt.scatter(df_movies[df_movies['gross'] > 200000000]['imdb_score'], df_movies[df_movies['gross'] > 200000000]['gross'])"
   ]
  },
  {
   "cell_type": "code",
   "execution_count": null,
   "metadata": {
    "collapsed": true
   },
   "outputs": [],
   "source": [
    "x = df_movies[df_movies['gross'] > 200000000]['imdb_score']\n",
    "y = df_movies[df_movies['gross'] > 200000000]['gross']"
   ]
  },
  {
   "cell_type": "code",
   "execution_count": null,
   "metadata": {
    "collapsed": true
   },
   "outputs": [],
   "source": [
    "import statsmodels.formula.api as sm\n",
    "linmodel = sm.OLS(y,x).fit()"
   ]
  },
  {
   "cell_type": "code",
   "execution_count": null,
   "metadata": {
    "collapsed": false
   },
   "outputs": [],
   "source": [
    "linmodel.params"
   ]
  },
  {
   "cell_type": "code",
   "execution_count": null,
   "metadata": {
    "collapsed": false
   },
   "outputs": [],
   "source": [
    "linmodel.summary()"
   ]
  },
  {
   "cell_type": "code",
   "execution_count": null,
   "metadata": {
    "collapsed": true
   },
   "outputs": [],
   "source": [
    "from sklearn.linear_model import LinearRegression\n",
    "model = LinearRegression(fit_intercept=True)\n",
    "model.fit(x, y)"
   ]
  },
  {
   "cell_type": "code",
   "execution_count": null,
   "metadata": {
    "collapsed": true
   },
   "outputs": [],
   "source": []
  }
 ],
 "metadata": {
  "anaconda-cloud": {},
  "kernelspec": {
   "display_name": "Python [py35]",
   "language": "python",
   "name": "Python [py35]"
  },
  "language_info": {
   "codemirror_mode": {
    "name": "ipython",
    "version": 3
   },
   "file_extension": ".py",
   "mimetype": "text/x-python",
   "name": "python",
   "nbconvert_exporter": "python",
   "pygments_lexer": "ipython3",
   "version": "3.5.2"
  }
 },
 "nbformat": 4,
 "nbformat_minor": 0
}
