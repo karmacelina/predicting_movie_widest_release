{
 "cells": [
  {
   "cell_type": "code",
   "execution_count": 1,
   "metadata": {
    "collapsed": false
   },
   "outputs": [],
   "source": [
    "import pandas as pd \n",
    "import html5lib "
   ]
  },
  {
   "cell_type": "code",
   "execution_count": 101,
   "metadata": {
    "collapsed": true
   },
   "outputs": [],
   "source": [
    "#url = \"http://www.boxofficemojo.com/people/chart/?view=Actor&id=harrisonford.htm\"\n",
    "#url = \"http://www.boxofficemojo.com/people/chart/?id=paulgiamatti.htm\"\n",
    "#url = 'http://www.boxofficemojo.com/people/chart/?id=stellanskarsgard.htm'\n",
    "#url ='http://www.boxofficemojo.com/people/chart/?id=elizabethbanks.htm'\n",
    "#url = \"http://www.boxofficemojo.com/people/chart/?id=camerondiaz.htm\"\n",
    "#url = \"http://www.boxofficemojo.com/people/chart/?id=juliannemoore.htm\"\n",
    "url =\"http://www.boxofficemojo.com/people/chart/?id=stanleytucci.htm\""
   ]
  },
  {
   "cell_type": "code",
   "execution_count": 102,
   "metadata": {
    "collapsed": true
   },
   "outputs": [],
   "source": [
    "#url = \"http://www.boxofficemojo.com/alltime/weekends/\""
   ]
  },
  {
   "cell_type": "code",
   "execution_count": 103,
   "metadata": {
    "collapsed": false
   },
   "outputs": [],
   "source": [
    "df = pd.read_html(url)"
   ]
  },
  {
   "cell_type": "code",
   "execution_count": 104,
   "metadata": {
    "collapsed": false,
    "scrolled": true
   },
   "outputs": [],
   "source": [
    "df = df[1]"
   ]
  },
  {
   "cell_type": "code",
   "execution_count": 105,
   "metadata": {
    "collapsed": false
   },
   "outputs": [],
   "source": [
    "df = df.drop([0])"
   ]
  },
  {
   "cell_type": "code",
   "execution_count": 106,
   "metadata": {
    "collapsed": true
   },
   "outputs": [],
   "source": [
    "df.columns = ['date','title','studio','lifetime_gross','widest release', 'opening_gross','opening release', 'rank']"
   ]
  },
  {
   "cell_type": "code",
   "execution_count": 107,
   "metadata": {
    "collapsed": false
   },
   "outputs": [
    {
     "data": {
      "text/html": [
       "<div>\n",
       "<table border=\"1\" class=\"dataframe\">\n",
       "  <thead>\n",
       "    <tr style=\"text-align: right;\">\n",
       "      <th></th>\n",
       "      <th>date</th>\n",
       "      <th>title</th>\n",
       "      <th>studio</th>\n",
       "      <th>lifetime_gross</th>\n",
       "      <th>widest release</th>\n",
       "      <th>opening_gross</th>\n",
       "      <th>opening release</th>\n",
       "      <th>rank</th>\n",
       "    </tr>\n",
       "  </thead>\n",
       "  <tbody>\n",
       "    <tr>\n",
       "      <th>61</th>\n",
       "      <td>12/8/89</td>\n",
       "      <td>Fear, Anxiety and Depression</td>\n",
       "      <td>Gold.</td>\n",
       "      <td>$47,148</td>\n",
       "      <td>1</td>\n",
       "      <td>$4,212</td>\n",
       "      <td>1</td>\n",
       "      <td>44</td>\n",
       "    </tr>\n",
       "    <tr>\n",
       "      <th>62</th>\n",
       "      <td>3/17/89</td>\n",
       "      <td>Slaves of New York</td>\n",
       "      <td>TriS</td>\n",
       "      <td>$463,972</td>\n",
       "      <td>13</td>\n",
       "      <td>$26,118</td>\n",
       "      <td>1</td>\n",
       "      <td>-</td>\n",
       "    </tr>\n",
       "    <tr>\n",
       "      <th>63</th>\n",
       "      <td>7/29/88</td>\n",
       "      <td>Monkey Shines</td>\n",
       "      <td>Orion</td>\n",
       "      <td>$5,344,577</td>\n",
       "      <td>1181</td>\n",
       "      <td>$1,902,024</td>\n",
       "      <td>1181</td>\n",
       "      <td>33</td>\n",
       "    </tr>\n",
       "    <tr>\n",
       "      <th>64</th>\n",
       "      <td>8/7/87</td>\n",
       "      <td>Who's That Girl</td>\n",
       "      <td>WB</td>\n",
       "      <td>$7,305,209</td>\n",
       "      <td>944</td>\n",
       "      <td>$2,548,205</td>\n",
       "      <td>944</td>\n",
       "      <td>-</td>\n",
       "    </tr>\n",
       "    <tr>\n",
       "      <th>65</th>\n",
       "      <td>6/14/85</td>\n",
       "      <td>Prizzi's Honor</td>\n",
       "      <td>Fox</td>\n",
       "      <td>$26,657,534</td>\n",
       "      <td>722</td>\n",
       "      <td>$4,234,537</td>\n",
       "      <td>719</td>\n",
       "      <td>-</td>\n",
       "    </tr>\n",
       "  </tbody>\n",
       "</table>\n",
       "</div>"
      ],
      "text/plain": [
       "       date                         title studio lifetime_gross  \\\n",
       "61  12/8/89  Fear, Anxiety and Depression  Gold.        $47,148   \n",
       "62  3/17/89            Slaves of New York   TriS       $463,972   \n",
       "63  7/29/88                 Monkey Shines  Orion     $5,344,577   \n",
       "64   8/7/87               Who's That Girl     WB     $7,305,209   \n",
       "65  6/14/85                Prizzi's Honor    Fox    $26,657,534   \n",
       "\n",
       "   widest release opening_gross opening release rank  \n",
       "61              1        $4,212               1   44  \n",
       "62             13       $26,118               1    -  \n",
       "63           1181    $1,902,024            1181   33  \n",
       "64            944    $2,548,205             944    -  \n",
       "65            722    $4,234,537             719    -  "
      ]
     },
     "execution_count": 107,
     "metadata": {},
     "output_type": "execute_result"
    }
   ],
   "source": [
    "df.tail()"
   ]
  },
  {
   "cell_type": "code",
   "execution_count": 108,
   "metadata": {
    "collapsed": false
   },
   "outputs": [],
   "source": [
    "df['open_gross'] = df['opening_gross'].astype(str).apply(lambda x: x.strip('$'))\n",
    "df['life_gross'] = df['lifetime_gross'].astype(str).apply(lambda x: x.strip('$'))"
   ]
  },
  {
   "cell_type": "code",
   "execution_count": 109,
   "metadata": {
    "collapsed": false
   },
   "outputs": [],
   "source": [
    "df['opengross'] = df['open_gross'].apply(lambda x:x.replace(',',''))\n",
    "df['lifetimegross'] = df['life_gross'].apply(lambda x:x.replace(',',''))"
   ]
  },
  {
   "cell_type": "code",
   "execution_count": 110,
   "metadata": {
    "collapsed": false
   },
   "outputs": [],
   "source": [
    "del df['lifetime_gross']\n",
    "del df['opening_gross']"
   ]
  },
  {
   "cell_type": "code",
   "execution_count": 111,
   "metadata": {
    "collapsed": false
   },
   "outputs": [],
   "source": [
    "df_life = df[df['lifetimegross'] != 'n/a']['lifetimegross']"
   ]
  },
  {
   "cell_type": "code",
   "execution_count": 112,
   "metadata": {
    "collapsed": true
   },
   "outputs": [],
   "source": [
    "df_life = df_life.astype(float)"
   ]
  },
  {
   "cell_type": "code",
   "execution_count": 113,
   "metadata": {
    "collapsed": false
   },
   "outputs": [],
   "source": [
    "df['lifetimegross'] = df['lifetimegross'].astype(float)"
   ]
  },
  {
   "cell_type": "code",
   "execution_count": 114,
   "metadata": {
    "collapsed": false
   },
   "outputs": [
    {
     "data": {
      "text/plain": [
       "3609777426.0"
      ]
     },
     "execution_count": 114,
     "metadata": {},
     "output_type": "execute_result"
    }
   ],
   "source": [
    "sum(df['lifetimegross'])"
   ]
  },
  {
   "cell_type": "code",
   "execution_count": 99,
   "metadata": {
    "collapsed": false
   },
   "outputs": [
    {
     "data": {
      "text/plain": [
       "4013870782.0"
      ]
     },
     "execution_count": 99,
     "metadata": {},
     "output_type": "execute_result"
    }
   ],
   "source": [
    "sum(df_life)"
   ]
  },
  {
   "cell_type": "code",
   "execution_count": null,
   "metadata": {
    "collapsed": true
   },
   "outputs": [],
   "source": [
    "sum = 0\n",
    "count = 0\n",
    "for i in range(len(df['lifetimegross'])):\n",
    "    try:\n",
    "        sum += int(df['lifetimegross'][i])\n",
    "        count +=1\n",
    "    except:\n",
    "        continue\n",
    "    "
   ]
  },
  {
   "cell_type": "code",
   "execution_count": null,
   "metadata": {
    "collapsed": false
   },
   "outputs": [],
   "source": [
    "sum, count"
   ]
  },
  {
   "cell_type": "code",
   "execution_count": null,
   "metadata": {
    "collapsed": true
   },
   "outputs": [],
   "source": [
    "df['date']"
   ]
  },
  {
   "cell_type": "code",
   "execution_count": null,
   "metadata": {
    "collapsed": false
   },
   "outputs": [],
   "source": [
    "import copy\n",
    "df_copy = df.copy()"
   ]
  },
  {
   "cell_type": "code",
   "execution_count": null,
   "metadata": {
    "collapsed": false
   },
   "outputs": [],
   "source": [
    "df_copy.head()"
   ]
  },
  {
   "cell_type": "code",
   "execution_count": null,
   "metadata": {
    "collapsed": true
   },
   "outputs": [],
   "source": [
    "del df_copy['lifetime_gross']\n",
    "del df_copy['opening_gross']"
   ]
  },
  {
   "cell_type": "code",
   "execution_count": null,
   "metadata": {
    "collapsed": false
   },
   "outputs": [],
   "source": [
    "df_copy['datetime'] = pd.to_datetime(df_copy['date'])"
   ]
  },
  {
   "cell_type": "code",
   "execution_count": null,
   "metadata": {
    "collapsed": false
   },
   "outputs": [],
   "source": [
    "df_copy.head()"
   ]
  },
  {
   "cell_type": "code",
   "execution_count": null,
   "metadata": {
    "collapsed": false
   },
   "outputs": [],
   "source": [
    "df_by_releasedate = df_copy.sort_values(by='datetime')"
   ]
  },
  {
   "cell_type": "code",
   "execution_count": null,
   "metadata": {
    "collapsed": false
   },
   "outputs": [],
   "source": [
    "df_by_releasedate.head()"
   ]
  },
  {
   "cell_type": "code",
   "execution_count": null,
   "metadata": {
    "collapsed": false
   },
   "outputs": [],
   "source": [
    "import matplotlib.pyplot as plt\n",
    "%matplotlib inline "
   ]
  },
  {
   "cell_type": "code",
   "execution_count": null,
   "metadata": {
    "collapsed": false
   },
   "outputs": [],
   "source": [
    "df_by_releasedate.head()"
   ]
  },
  {
   "cell_type": "code",
   "execution_count": null,
   "metadata": {
    "collapsed": false
   },
   "outputs": [],
   "source": [
    "D = df_by_releasedate[df_by_releasedate['lifetimegross'] != 'n/a']"
   ]
  },
  {
   "cell_type": "code",
   "execution_count": null,
   "metadata": {
    "collapsed": true
   },
   "outputs": [],
   "source": []
  }
 ],
 "metadata": {
  "anaconda-cloud": {},
  "kernelspec": {
   "display_name": "Python [Root]",
   "language": "python",
   "name": "Python [Root]"
  },
  "language_info": {
   "codemirror_mode": {
    "name": "ipython",
    "version": 2
   },
   "file_extension": ".py",
   "mimetype": "text/x-python",
   "name": "python",
   "nbconvert_exporter": "python",
   "pygments_lexer": "ipython2",
   "version": "2.7.12"
  }
 },
 "nbformat": 4,
 "nbformat_minor": 0
}
