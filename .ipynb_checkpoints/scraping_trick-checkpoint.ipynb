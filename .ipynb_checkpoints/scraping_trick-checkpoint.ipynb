{
 "cells": [
  {
   "cell_type": "code",
   "execution_count": 86,
   "metadata": {
    "collapsed": false
   },
   "outputs": [],
   "source": [
    "import pandas as pd \n",
    "import html5lib "
   ]
  },
  {
   "cell_type": "code",
   "execution_count": 87,
   "metadata": {
    "collapsed": true
   },
   "outputs": [],
   "source": [
    "url = \"http://www.boxofficemojo.com/people/chart/?view=Actor&id=harrisonford.htm\""
   ]
  },
  {
   "cell_type": "code",
   "execution_count": 88,
   "metadata": {
    "collapsed": true
   },
   "outputs": [],
   "source": [
    "df = pd.read_html(url)"
   ]
  },
  {
   "cell_type": "code",
   "execution_count": 89,
   "metadata": {
    "collapsed": false,
    "scrolled": true
   },
   "outputs": [],
   "source": [
    "df = df[1]"
   ]
  },
  {
   "cell_type": "code",
   "execution_count": 90,
   "metadata": {
    "collapsed": false,
    "scrolled": true
   },
   "outputs": [
    {
     "data": {
      "text/html": [
       "<div>\n",
       "<table border=\"1\" class=\"dataframe\">\n",
       "  <thead>\n",
       "    <tr style=\"text-align: right;\">\n",
       "      <th></th>\n",
       "      <th>0</th>\n",
       "      <th>1</th>\n",
       "      <th>2</th>\n",
       "      <th>3</th>\n",
       "      <th>4</th>\n",
       "      <th>5</th>\n",
       "      <th>6</th>\n",
       "      <th>7</th>\n",
       "    </tr>\n",
       "  </thead>\n",
       "  <tbody>\n",
       "    <tr>\n",
       "      <th>0</th>\n",
       "      <td>Date</td>\n",
       "      <td>Title (click to view)</td>\n",
       "      <td>Studio</td>\n",
       "      <td>Lifetime Gross / Theaters</td>\n",
       "      <td>Opening / Theaters</td>\n",
       "      <td>Rank</td>\n",
       "      <td>NaN</td>\n",
       "      <td>NaN</td>\n",
       "    </tr>\n",
       "    <tr>\n",
       "      <th>1</th>\n",
       "      <td>12/18/15</td>\n",
       "      <td>Star Wars: The Force Awakens</td>\n",
       "      <td>BV</td>\n",
       "      <td>$936,662,225</td>\n",
       "      <td>4134</td>\n",
       "      <td>$247,966,675</td>\n",
       "      <td>4134</td>\n",
       "      <td>1</td>\n",
       "    </tr>\n",
       "    <tr>\n",
       "      <th>2</th>\n",
       "      <td>4/24/15</td>\n",
       "      <td>The Age of Adaline</td>\n",
       "      <td>LGF</td>\n",
       "      <td>$42,629,776</td>\n",
       "      <td>3070</td>\n",
       "      <td>$13,203,458</td>\n",
       "      <td>2991</td>\n",
       "      <td>26</td>\n",
       "    </tr>\n",
       "    <tr>\n",
       "      <th>3</th>\n",
       "      <td>8/15/14</td>\n",
       "      <td>The Expendables 3</td>\n",
       "      <td>LGF</td>\n",
       "      <td>$39,322,544</td>\n",
       "      <td>3221</td>\n",
       "      <td>$15,879,645</td>\n",
       "      <td>3221</td>\n",
       "      <td>27</td>\n",
       "    </tr>\n",
       "    <tr>\n",
       "      <th>4</th>\n",
       "      <td>12/18/13</td>\n",
       "      <td>Anchorman 2: The Legend Continues</td>\n",
       "      <td>Par.</td>\n",
       "      <td>$127,352,707</td>\n",
       "      <td>3507</td>\n",
       "      <td>$26,232,425</td>\n",
       "      <td>3507</td>\n",
       "      <td>12</td>\n",
       "    </tr>\n",
       "  </tbody>\n",
       "</table>\n",
       "</div>"
      ],
      "text/plain": [
       "          0                                  1       2  \\\n",
       "0      Date              Title (click to view)  Studio   \n",
       "1  12/18/15       Star Wars: The Force Awakens      BV   \n",
       "2   4/24/15                 The Age of Adaline     LGF   \n",
       "3   8/15/14                  The Expendables 3     LGF   \n",
       "4  12/18/13  Anchorman 2: The Legend Continues    Par.   \n",
       "\n",
       "                           3                   4             5     6    7  \n",
       "0  Lifetime Gross / Theaters  Opening / Theaters          Rank   NaN  NaN  \n",
       "1               $936,662,225                4134  $247,966,675  4134    1  \n",
       "2                $42,629,776                3070   $13,203,458  2991   26  \n",
       "3                $39,322,544                3221   $15,879,645  3221   27  \n",
       "4               $127,352,707                3507   $26,232,425  3507   12  "
      ]
     },
     "execution_count": 90,
     "metadata": {},
     "output_type": "execute_result"
    }
   ],
   "source": [
    "df.head()"
   ]
  },
  {
   "cell_type": "code",
   "execution_count": 91,
   "metadata": {
    "collapsed": false
   },
   "outputs": [],
   "source": [
    "df = df.drop([0])"
   ]
  },
  {
   "cell_type": "code",
   "execution_count": 92,
   "metadata": {
    "collapsed": true
   },
   "outputs": [],
   "source": [
    "df.columns = ['date','title','studio','lifetime_gross','widest release', 'opening_gross','opening release', 'rank']"
   ]
  },
  {
   "cell_type": "code",
   "execution_count": 93,
   "metadata": {
    "collapsed": false
   },
   "outputs": [
    {
     "data": {
      "text/html": [
       "<div>\n",
       "<table border=\"1\" class=\"dataframe\">\n",
       "  <thead>\n",
       "    <tr style=\"text-align: right;\">\n",
       "      <th></th>\n",
       "      <th>date</th>\n",
       "      <th>title</th>\n",
       "      <th>studio</th>\n",
       "      <th>lifetime_gross</th>\n",
       "      <th>widest release</th>\n",
       "      <th>opening_gross</th>\n",
       "      <th>opening release</th>\n",
       "      <th>rank</th>\n",
       "    </tr>\n",
       "  </thead>\n",
       "  <tbody>\n",
       "    <tr>\n",
       "      <th>1</th>\n",
       "      <td>12/18/15</td>\n",
       "      <td>Star Wars: The Force Awakens</td>\n",
       "      <td>BV</td>\n",
       "      <td>$936,662,225</td>\n",
       "      <td>4134</td>\n",
       "      <td>$247,966,675</td>\n",
       "      <td>4134</td>\n",
       "      <td>1</td>\n",
       "    </tr>\n",
       "    <tr>\n",
       "      <th>2</th>\n",
       "      <td>4/24/15</td>\n",
       "      <td>The Age of Adaline</td>\n",
       "      <td>LGF</td>\n",
       "      <td>$42,629,776</td>\n",
       "      <td>3070</td>\n",
       "      <td>$13,203,458</td>\n",
       "      <td>2991</td>\n",
       "      <td>26</td>\n",
       "    </tr>\n",
       "    <tr>\n",
       "      <th>3</th>\n",
       "      <td>8/15/14</td>\n",
       "      <td>The Expendables 3</td>\n",
       "      <td>LGF</td>\n",
       "      <td>$39,322,544</td>\n",
       "      <td>3221</td>\n",
       "      <td>$15,879,645</td>\n",
       "      <td>3221</td>\n",
       "      <td>27</td>\n",
       "    </tr>\n",
       "    <tr>\n",
       "      <th>4</th>\n",
       "      <td>12/18/13</td>\n",
       "      <td>Anchorman 2: The Legend Continues</td>\n",
       "      <td>Par.</td>\n",
       "      <td>$127,352,707</td>\n",
       "      <td>3507</td>\n",
       "      <td>$26,232,425</td>\n",
       "      <td>3507</td>\n",
       "      <td>12</td>\n",
       "    </tr>\n",
       "    <tr>\n",
       "      <th>5</th>\n",
       "      <td>11/1/13</td>\n",
       "      <td>Ender's Game</td>\n",
       "      <td>LG/S</td>\n",
       "      <td>$61,737,191</td>\n",
       "      <td>3407</td>\n",
       "      <td>$27,017,351</td>\n",
       "      <td>3407</td>\n",
       "      <td>21</td>\n",
       "    </tr>\n",
       "  </tbody>\n",
       "</table>\n",
       "</div>"
      ],
      "text/plain": [
       "       date                              title studio lifetime_gross  \\\n",
       "1  12/18/15       Star Wars: The Force Awakens     BV   $936,662,225   \n",
       "2   4/24/15                 The Age of Adaline    LGF    $42,629,776   \n",
       "3   8/15/14                  The Expendables 3    LGF    $39,322,544   \n",
       "4  12/18/13  Anchorman 2: The Legend Continues   Par.   $127,352,707   \n",
       "5   11/1/13                       Ender's Game   LG/S    $61,737,191   \n",
       "\n",
       "  widest release opening_gross opening release rank  \n",
       "1           4134  $247,966,675            4134    1  \n",
       "2           3070   $13,203,458            2991   26  \n",
       "3           3221   $15,879,645            3221   27  \n",
       "4           3507   $26,232,425            3507   12  \n",
       "5           3407   $27,017,351            3407   21  "
      ]
     },
     "execution_count": 93,
     "metadata": {},
     "output_type": "execute_result"
    }
   ],
   "source": [
    "df.head()"
   ]
  },
  {
   "cell_type": "code",
   "execution_count": 94,
   "metadata": {
    "collapsed": false
   },
   "outputs": [],
   "source": [
    "df['open_gross'] = df['opening_gross'].astype(str).apply(lambda x: x.strip('$'))\n",
    "df['life_gross'] = df['lifetime_gross'].astype(str).apply(lambda x: x.strip('$'))"
   ]
  },
  {
   "cell_type": "code",
   "execution_count": 95,
   "metadata": {
    "collapsed": false
   },
   "outputs": [],
   "source": [
    "df['opengross'] = df['open_gross'].apply(lambda x:x.replace(',',''))\n",
    "df['lifetimegross'] = df['life_gross'].apply(lambda x:x.replace(',',''))"
   ]
  },
  {
   "cell_type": "code",
   "execution_count": 30,
   "metadata": {
    "collapsed": true
   },
   "outputs": [
    {
     "data": {
      "text/plain": [
       "n/a          9\n",
       "25337110     1\n",
       "37132505     1\n",
       "6012594      1\n",
       "13635463     1\n",
       "118558       1\n",
       "247966675    1\n",
       "27017351     1\n",
       "29702959     1\n",
       "4539990      1\n",
       "15879645     1\n",
       "14274503     1\n",
       "9203266      1\n",
       "100137835    1\n",
       "26232425     1\n",
       "23019618     1\n",
       "27487144     1\n",
       "4359424      1\n",
       "16485276     1\n",
       "77370        1\n",
       "110313       1\n",
       "1451000      1\n",
       "13203458     1\n",
       "5563259      1\n",
       "18511191     1\n",
       "6146782      1\n",
       "29355021     1\n",
       "4910483      1\n",
       "20348017     1\n",
       "3528376      1\n",
       "11112632     1\n",
       "36431290     1\n",
       "6150002      1\n",
       "11718981     1\n",
       "12778459     1\n",
       "160292       1\n",
       "4718485      1\n",
       "8305823      1\n",
       "1554475      1\n",
       "13012585     1\n",
       "23758855     1\n",
       "Name: opengross, dtype: int64"
      ]
     },
     "execution_count": 30,
     "metadata": {},
     "output_type": "execute_result"
    }
   ],
   "source": [
    "df['opengross'].value_counts()"
   ]
  },
  {
   "cell_type": "code",
   "execution_count": 33,
   "metadata": {
    "collapsed": true
   },
   "outputs": [
    {
     "data": {
      "text/plain": [
       "42868348     1\n",
       "63779477     1\n",
       "3000000      1\n",
       "61737191     1\n",
       "197171806    1\n",
       "17637950     1\n",
       "183875760    1\n",
       "15014674     1\n",
       "309306177    1\n",
       "14302779     1\n",
       "74339294     1\n",
       "127352707    1\n",
       "n/a          1\n",
       "179870271    1\n",
       "39322544     1\n",
       "100240551    1\n",
       "43001500     1\n",
       "13300000     1\n",
       "460998007    1\n",
       "9346177      1\n",
       "7385015      1\n",
       "32868943     1\n",
       "83351587     1\n",
       "290475067    1\n",
       "407500       1\n",
       "122187717    1\n",
       "31011732     1\n",
       "172956409    1\n",
       "4420000      1\n",
       "317101119    1\n",
       "83471511     1\n",
       "455654       1\n",
       "86303188     1\n",
       "3783003      1\n",
       "115000000    1\n",
       "155464351    1\n",
       "48751189     1\n",
       "35168966     1\n",
       "12068313     1\n",
       "68706993     1\n",
       "53672080     1\n",
       "95020213     1\n",
       "33500000     1\n",
       "7230000      1\n",
       "248159971    1\n",
       "30940691     1\n",
       "936662225    1\n",
       "31502583     1\n",
       "42629776     1\n",
       "Name: lifetimegross, dtype: int64"
      ]
     },
     "execution_count": 33,
     "metadata": {},
     "output_type": "execute_result"
    }
   ],
   "source": [
    "df['lifetimegross'].value_counts()"
   ]
  },
  {
   "cell_type": "code",
   "execution_count": 34,
   "metadata": {
    "collapsed": false
   },
   "outputs": [
    {
     "name": "stdout",
     "output_type": "stream",
     "text": [
      "['936662225', '42629776', '39322544', '127352707', '61737191', '7385015', '95020213', '100240551', '31011732', '12068313', '455654', '317101119', '48751189', '30940691', '35168966', '155464351', '31502583', '74339294', '172956409', '42868348', '53672080', '122187717', '3783003', '183875760', '83351587', '43001500', '86303188', '197171806', '63779477', '17637950', '14302779', '68706993', '179870271', '309306177', '32868943', '248159971', '290475067', '83471511', '15014674', '9346177', '3000000', '7230000', '33500000', '460998007', '4420000', '115000000', '13300000', '407500', 'n/a']\n"
     ]
    }
   ],
   "source": [
    "print list(df['lifetimegross'])"
   ]
  },
  {
   "cell_type": "code",
   "execution_count": 35,
   "metadata": {
    "collapsed": true
   },
   "outputs": [],
   "source": [
    "sum = 0\n",
    "count = 0\n",
    "for i in range(len(df['lifetimegross'])):\n",
    "    try:\n",
    "        sum += int(df['lifetimegross'][i])\n",
    "        count +=1\n",
    "    except:\n",
    "        continue\n",
    "    "
   ]
  },
  {
   "cell_type": "code",
   "execution_count": 36,
   "metadata": {
    "collapsed": false
   },
   "outputs": [
    {
     "data": {
      "text/plain": [
       "(5107121009, 48)"
      ]
     },
     "execution_count": 36,
     "metadata": {},
     "output_type": "execute_result"
    }
   ],
   "source": [
    "sum, count"
   ]
  },
  {
   "cell_type": "code",
   "execution_count": 18,
   "metadata": {
    "collapsed": true
   },
   "outputs": [
    {
     "data": {
      "text/plain": [
       "0         Date\n",
       "1     12/18/15\n",
       "2      4/24/15\n",
       "3      8/15/14\n",
       "4     12/18/13\n",
       "5      11/1/13\n",
       "6      8/16/13\n",
       "7      4/12/13\n",
       "8      7/29/11\n",
       "9     11/10/10\n",
       "10     1/22/10\n",
       "11     2/27/09\n",
       "12     5/22/08\n",
       "13     2/10/06\n",
       "14     6/13/03\n",
       "15     7/19/02\n",
       "16     7/21/00\n",
       "17     10/8/99\n",
       "18     6/12/98\n",
       "19     7/25/97\n",
       "20     3/28/97\n",
       "21    12/15/95\n",
       "22      8/5/94\n",
       "23      4/1/94\n",
       "24      8/6/93\n",
       "25      6/5/92\n",
       "26     7/12/91\n",
       "27     7/27/90\n",
       "28     5/24/89\n",
       "29    12/23/88\n",
       "30     2/26/88\n",
       "31    11/26/86\n",
       "32      2/8/85\n",
       "33     5/23/84\n",
       "34     5/25/83\n",
       "35     6/25/82\n",
       "36     6/12/81\n",
       "37     5/21/80\n",
       "38     8/15/79\n",
       "39      8/3/79\n",
       "40     7/13/79\n",
       "41     5/18/79\n",
       "42    12/22/78\n",
       "43    11/17/77\n",
       "44     5/25/77\n",
       "45      4/7/74\n",
       "46      8/1/73\n",
       "47     5/13/70\n",
       "48    10/19/68\n",
       "49     11/1/67\n",
       "Name: date, dtype: object"
      ]
     },
     "execution_count": 18,
     "metadata": {},
     "output_type": "execute_result"
    }
   ],
   "source": [
    "df['date']"
   ]
  },
  {
   "cell_type": "code",
   "execution_count": 39,
   "metadata": {
    "collapsed": false
   },
   "outputs": [],
   "source": [
    "import copy\n",
    "df_copy = df.copy()"
   ]
  },
  {
   "cell_type": "code",
   "execution_count": 42,
   "metadata": {
    "collapsed": false
   },
   "outputs": [
    {
     "data": {
      "text/html": [
       "<div>\n",
       "<table border=\"1\" class=\"dataframe\">\n",
       "  <thead>\n",
       "    <tr style=\"text-align: right;\">\n",
       "      <th></th>\n",
       "      <th>date</th>\n",
       "      <th>title</th>\n",
       "      <th>studio</th>\n",
       "      <th>lifetime_gross</th>\n",
       "      <th>widest release</th>\n",
       "      <th>opening_gross</th>\n",
       "      <th>opening release</th>\n",
       "      <th>rank</th>\n",
       "      <th>open_gross</th>\n",
       "      <th>life_gross</th>\n",
       "      <th>opengross</th>\n",
       "      <th>lifetimegross</th>\n",
       "    </tr>\n",
       "  </thead>\n",
       "  <tbody>\n",
       "    <tr>\n",
       "      <th>1</th>\n",
       "      <td>12/18/15</td>\n",
       "      <td>Star Wars: The Force Awakens</td>\n",
       "      <td>BV</td>\n",
       "      <td>$936,662,225</td>\n",
       "      <td>4134</td>\n",
       "      <td>$247,966,675</td>\n",
       "      <td>4134</td>\n",
       "      <td>1</td>\n",
       "      <td>247,966,675</td>\n",
       "      <td>936,662,225</td>\n",
       "      <td>247966675</td>\n",
       "      <td>936662225</td>\n",
       "    </tr>\n",
       "    <tr>\n",
       "      <th>2</th>\n",
       "      <td>4/24/15</td>\n",
       "      <td>The Age of Adaline</td>\n",
       "      <td>LGF</td>\n",
       "      <td>$42,629,776</td>\n",
       "      <td>3070</td>\n",
       "      <td>$13,203,458</td>\n",
       "      <td>2991</td>\n",
       "      <td>26</td>\n",
       "      <td>13,203,458</td>\n",
       "      <td>42,629,776</td>\n",
       "      <td>13203458</td>\n",
       "      <td>42629776</td>\n",
       "    </tr>\n",
       "    <tr>\n",
       "      <th>3</th>\n",
       "      <td>8/15/14</td>\n",
       "      <td>The Expendables 3</td>\n",
       "      <td>LGF</td>\n",
       "      <td>$39,322,544</td>\n",
       "      <td>3221</td>\n",
       "      <td>$15,879,645</td>\n",
       "      <td>3221</td>\n",
       "      <td>27</td>\n",
       "      <td>15,879,645</td>\n",
       "      <td>39,322,544</td>\n",
       "      <td>15879645</td>\n",
       "      <td>39322544</td>\n",
       "    </tr>\n",
       "    <tr>\n",
       "      <th>4</th>\n",
       "      <td>12/18/13</td>\n",
       "      <td>Anchorman 2: The Legend Continues</td>\n",
       "      <td>Par.</td>\n",
       "      <td>$127,352,707</td>\n",
       "      <td>3507</td>\n",
       "      <td>$26,232,425</td>\n",
       "      <td>3507</td>\n",
       "      <td>12</td>\n",
       "      <td>26,232,425</td>\n",
       "      <td>127,352,707</td>\n",
       "      <td>26232425</td>\n",
       "      <td>127352707</td>\n",
       "    </tr>\n",
       "    <tr>\n",
       "      <th>5</th>\n",
       "      <td>11/1/13</td>\n",
       "      <td>Ender's Game</td>\n",
       "      <td>LG/S</td>\n",
       "      <td>$61,737,191</td>\n",
       "      <td>3407</td>\n",
       "      <td>$27,017,351</td>\n",
       "      <td>3407</td>\n",
       "      <td>21</td>\n",
       "      <td>27,017,351</td>\n",
       "      <td>61,737,191</td>\n",
       "      <td>27017351</td>\n",
       "      <td>61737191</td>\n",
       "    </tr>\n",
       "  </tbody>\n",
       "</table>\n",
       "</div>"
      ],
      "text/plain": [
       "       date                              title studio lifetime_gross  \\\n",
       "1  12/18/15       Star Wars: The Force Awakens     BV   $936,662,225   \n",
       "2   4/24/15                 The Age of Adaline    LGF    $42,629,776   \n",
       "3   8/15/14                  The Expendables 3    LGF    $39,322,544   \n",
       "4  12/18/13  Anchorman 2: The Legend Continues   Par.   $127,352,707   \n",
       "5   11/1/13                       Ender's Game   LG/S    $61,737,191   \n",
       "\n",
       "  widest release opening_gross opening release rank   open_gross   life_gross  \\\n",
       "1           4134  $247,966,675            4134    1  247,966,675  936,662,225   \n",
       "2           3070   $13,203,458            2991   26   13,203,458   42,629,776   \n",
       "3           3221   $15,879,645            3221   27   15,879,645   39,322,544   \n",
       "4           3507   $26,232,425            3507   12   26,232,425  127,352,707   \n",
       "5           3407   $27,017,351            3407   21   27,017,351   61,737,191   \n",
       "\n",
       "   opengross lifetimegross  \n",
       "1  247966675     936662225  \n",
       "2   13203458      42629776  \n",
       "3   15879645      39322544  \n",
       "4   26232425     127352707  \n",
       "5   27017351      61737191  "
      ]
     },
     "execution_count": 42,
     "metadata": {},
     "output_type": "execute_result"
    }
   ],
   "source": [
    "df_copy.head()"
   ]
  },
  {
   "cell_type": "code",
   "execution_count": 43,
   "metadata": {
    "collapsed": true
   },
   "outputs": [],
   "source": [
    "del df_copy['lifetime_gross']\n",
    "del df_copy['opening_gross']"
   ]
  },
  {
   "cell_type": "code",
   "execution_count": 47,
   "metadata": {
    "collapsed": false
   },
   "outputs": [],
   "source": [
    "df_copy['datetime'] = pd.to_datetime(df_copy['date'])"
   ]
  },
  {
   "cell_type": "code",
   "execution_count": 50,
   "metadata": {
    "collapsed": false
   },
   "outputs": [
    {
     "data": {
      "text/html": [
       "<div>\n",
       "<table border=\"1\" class=\"dataframe\">\n",
       "  <thead>\n",
       "    <tr style=\"text-align: right;\">\n",
       "      <th></th>\n",
       "      <th>date</th>\n",
       "      <th>title</th>\n",
       "      <th>studio</th>\n",
       "      <th>widest release</th>\n",
       "      <th>opening release</th>\n",
       "      <th>rank</th>\n",
       "      <th>open_gross</th>\n",
       "      <th>life_gross</th>\n",
       "      <th>opengross</th>\n",
       "      <th>lifetimegross</th>\n",
       "      <th>datetime</th>\n",
       "    </tr>\n",
       "  </thead>\n",
       "  <tbody>\n",
       "    <tr>\n",
       "      <th>1</th>\n",
       "      <td>12/18/15</td>\n",
       "      <td>Star Wars: The Force Awakens</td>\n",
       "      <td>BV</td>\n",
       "      <td>4134</td>\n",
       "      <td>4134</td>\n",
       "      <td>1</td>\n",
       "      <td>247,966,675</td>\n",
       "      <td>936,662,225</td>\n",
       "      <td>247966675</td>\n",
       "      <td>936662225</td>\n",
       "      <td>2015-12-18</td>\n",
       "    </tr>\n",
       "    <tr>\n",
       "      <th>2</th>\n",
       "      <td>4/24/15</td>\n",
       "      <td>The Age of Adaline</td>\n",
       "      <td>LGF</td>\n",
       "      <td>3070</td>\n",
       "      <td>2991</td>\n",
       "      <td>26</td>\n",
       "      <td>13,203,458</td>\n",
       "      <td>42,629,776</td>\n",
       "      <td>13203458</td>\n",
       "      <td>42629776</td>\n",
       "      <td>2015-04-24</td>\n",
       "    </tr>\n",
       "    <tr>\n",
       "      <th>3</th>\n",
       "      <td>8/15/14</td>\n",
       "      <td>The Expendables 3</td>\n",
       "      <td>LGF</td>\n",
       "      <td>3221</td>\n",
       "      <td>3221</td>\n",
       "      <td>27</td>\n",
       "      <td>15,879,645</td>\n",
       "      <td>39,322,544</td>\n",
       "      <td>15879645</td>\n",
       "      <td>39322544</td>\n",
       "      <td>2014-08-15</td>\n",
       "    </tr>\n",
       "    <tr>\n",
       "      <th>4</th>\n",
       "      <td>12/18/13</td>\n",
       "      <td>Anchorman 2: The Legend Continues</td>\n",
       "      <td>Par.</td>\n",
       "      <td>3507</td>\n",
       "      <td>3507</td>\n",
       "      <td>12</td>\n",
       "      <td>26,232,425</td>\n",
       "      <td>127,352,707</td>\n",
       "      <td>26232425</td>\n",
       "      <td>127352707</td>\n",
       "      <td>2013-12-18</td>\n",
       "    </tr>\n",
       "    <tr>\n",
       "      <th>5</th>\n",
       "      <td>11/1/13</td>\n",
       "      <td>Ender's Game</td>\n",
       "      <td>LG/S</td>\n",
       "      <td>3407</td>\n",
       "      <td>3407</td>\n",
       "      <td>21</td>\n",
       "      <td>27,017,351</td>\n",
       "      <td>61,737,191</td>\n",
       "      <td>27017351</td>\n",
       "      <td>61737191</td>\n",
       "      <td>2013-11-01</td>\n",
       "    </tr>\n",
       "  </tbody>\n",
       "</table>\n",
       "</div>"
      ],
      "text/plain": [
       "       date                              title studio widest release  \\\n",
       "1  12/18/15       Star Wars: The Force Awakens     BV           4134   \n",
       "2   4/24/15                 The Age of Adaline    LGF           3070   \n",
       "3   8/15/14                  The Expendables 3    LGF           3221   \n",
       "4  12/18/13  Anchorman 2: The Legend Continues   Par.           3507   \n",
       "5   11/1/13                       Ender's Game   LG/S           3407   \n",
       "\n",
       "  opening release rank   open_gross   life_gross  opengross lifetimegross  \\\n",
       "1            4134    1  247,966,675  936,662,225  247966675     936662225   \n",
       "2            2991   26   13,203,458   42,629,776   13203458      42629776   \n",
       "3            3221   27   15,879,645   39,322,544   15879645      39322544   \n",
       "4            3507   12   26,232,425  127,352,707   26232425     127352707   \n",
       "5            3407   21   27,017,351   61,737,191   27017351      61737191   \n",
       "\n",
       "    datetime  \n",
       "1 2015-12-18  \n",
       "2 2015-04-24  \n",
       "3 2014-08-15  \n",
       "4 2013-12-18  \n",
       "5 2013-11-01  "
      ]
     },
     "execution_count": 50,
     "metadata": {},
     "output_type": "execute_result"
    }
   ],
   "source": [
    "df_copy.head()"
   ]
  },
  {
   "cell_type": "code",
   "execution_count": 52,
   "metadata": {
    "collapsed": false
   },
   "outputs": [],
   "source": [
    "df_by_releasedate = df_copy.sort_values(by='datetime')"
   ]
  },
  {
   "cell_type": "code",
   "execution_count": 67,
   "metadata": {
    "collapsed": false
   },
   "outputs": [
    {
     "data": {
      "text/html": [
       "<div>\n",
       "<table border=\"1\" class=\"dataframe\">\n",
       "  <thead>\n",
       "    <tr style=\"text-align: right;\">\n",
       "      <th></th>\n",
       "      <th>date</th>\n",
       "      <th>title</th>\n",
       "      <th>studio</th>\n",
       "      <th>widest release</th>\n",
       "      <th>opening release</th>\n",
       "      <th>rank</th>\n",
       "      <th>open_gross</th>\n",
       "      <th>life_gross</th>\n",
       "      <th>opengross</th>\n",
       "      <th>lifetimegross</th>\n",
       "      <th>datetime</th>\n",
       "    </tr>\n",
       "  </thead>\n",
       "  <tbody>\n",
       "    <tr>\n",
       "      <th>49</th>\n",
       "      <td>11/1/67</td>\n",
       "      <td>A Time for Killing</td>\n",
       "      <td>Col.</td>\n",
       "      <td>-</td>\n",
       "      <td>-</td>\n",
       "      <td>-</td>\n",
       "      <td>n/a</td>\n",
       "      <td>n/a</td>\n",
       "      <td>n/a</td>\n",
       "      <td>n/a</td>\n",
       "      <td>1967-11-01</td>\n",
       "    </tr>\n",
       "    <tr>\n",
       "      <th>48</th>\n",
       "      <td>10/19/68</td>\n",
       "      <td>Journey to Shiloh</td>\n",
       "      <td>Uni.</td>\n",
       "      <td>-</td>\n",
       "      <td>-</td>\n",
       "      <td>-</td>\n",
       "      <td>n/a</td>\n",
       "      <td>407,500</td>\n",
       "      <td>n/a</td>\n",
       "      <td>407500</td>\n",
       "      <td>1968-10-19</td>\n",
       "    </tr>\n",
       "    <tr>\n",
       "      <th>47</th>\n",
       "      <td>5/13/70</td>\n",
       "      <td>Getting Straight</td>\n",
       "      <td>Col.</td>\n",
       "      <td>-</td>\n",
       "      <td>-</td>\n",
       "      <td>-</td>\n",
       "      <td>n/a</td>\n",
       "      <td>13,300,000</td>\n",
       "      <td>n/a</td>\n",
       "      <td>13300000</td>\n",
       "      <td>1970-05-13</td>\n",
       "    </tr>\n",
       "    <tr>\n",
       "      <th>46</th>\n",
       "      <td>8/1/73</td>\n",
       "      <td>American Graffiti</td>\n",
       "      <td>Uni.</td>\n",
       "      <td>-</td>\n",
       "      <td>-</td>\n",
       "      <td>-</td>\n",
       "      <td>n/a</td>\n",
       "      <td>115,000,000</td>\n",
       "      <td>n/a</td>\n",
       "      <td>115000000</td>\n",
       "      <td>1973-08-01</td>\n",
       "    </tr>\n",
       "    <tr>\n",
       "      <th>45</th>\n",
       "      <td>4/7/74</td>\n",
       "      <td>The Conversation</td>\n",
       "      <td>Par.</td>\n",
       "      <td>-</td>\n",
       "      <td>-</td>\n",
       "      <td>-</td>\n",
       "      <td>n/a</td>\n",
       "      <td>4,420,000</td>\n",
       "      <td>n/a</td>\n",
       "      <td>4420000</td>\n",
       "      <td>1974-04-07</td>\n",
       "    </tr>\n",
       "  </tbody>\n",
       "</table>\n",
       "</div>"
      ],
      "text/plain": [
       "        date               title studio widest release opening release rank  \\\n",
       "49   11/1/67  A Time for Killing   Col.              -               -    -   \n",
       "48  10/19/68   Journey to Shiloh   Uni.              -               -    -   \n",
       "47   5/13/70    Getting Straight   Col.              -               -    -   \n",
       "46    8/1/73   American Graffiti   Uni.              -               -    -   \n",
       "45    4/7/74    The Conversation   Par.              -               -    -   \n",
       "\n",
       "   open_gross   life_gross opengross lifetimegross   datetime  \n",
       "49        n/a          n/a       n/a           n/a 1967-11-01  \n",
       "48        n/a      407,500       n/a        407500 1968-10-19  \n",
       "47        n/a   13,300,000       n/a      13300000 1970-05-13  \n",
       "46        n/a  115,000,000       n/a     115000000 1973-08-01  \n",
       "45        n/a    4,420,000       n/a       4420000 1974-04-07  "
      ]
     },
     "execution_count": 67,
     "metadata": {},
     "output_type": "execute_result"
    }
   ],
   "source": [
    "df_by_releasedate.head()"
   ]
  },
  {
   "cell_type": "code",
   "execution_count": 66,
   "metadata": {
    "collapsed": false
   },
   "outputs": [],
   "source": [
    "import matplotlib.pyplot as plt\n",
    "%matplotlib inline "
   ]
  },
  {
   "cell_type": "code",
   "execution_count": 77,
   "metadata": {
    "collapsed": false
   },
   "outputs": [
    {
     "data": {
      "text/html": [
       "<div>\n",
       "<table border=\"1\" class=\"dataframe\">\n",
       "  <thead>\n",
       "    <tr style=\"text-align: right;\">\n",
       "      <th></th>\n",
       "      <th>date</th>\n",
       "      <th>title</th>\n",
       "      <th>studio</th>\n",
       "      <th>widest release</th>\n",
       "      <th>opening release</th>\n",
       "      <th>rank</th>\n",
       "      <th>open_gross</th>\n",
       "      <th>life_gross</th>\n",
       "      <th>opengross</th>\n",
       "      <th>lifetimegross</th>\n",
       "      <th>datetime</th>\n",
       "    </tr>\n",
       "  </thead>\n",
       "  <tbody>\n",
       "    <tr>\n",
       "      <th>49</th>\n",
       "      <td>11/1/67</td>\n",
       "      <td>A Time for Killing</td>\n",
       "      <td>Col.</td>\n",
       "      <td>-</td>\n",
       "      <td>-</td>\n",
       "      <td>-</td>\n",
       "      <td>n/a</td>\n",
       "      <td>n/a</td>\n",
       "      <td>n/a</td>\n",
       "      <td>n/a</td>\n",
       "      <td>1967-11-01</td>\n",
       "    </tr>\n",
       "    <tr>\n",
       "      <th>48</th>\n",
       "      <td>10/19/68</td>\n",
       "      <td>Journey to Shiloh</td>\n",
       "      <td>Uni.</td>\n",
       "      <td>-</td>\n",
       "      <td>-</td>\n",
       "      <td>-</td>\n",
       "      <td>n/a</td>\n",
       "      <td>407,500</td>\n",
       "      <td>n/a</td>\n",
       "      <td>407500</td>\n",
       "      <td>1968-10-19</td>\n",
       "    </tr>\n",
       "    <tr>\n",
       "      <th>47</th>\n",
       "      <td>5/13/70</td>\n",
       "      <td>Getting Straight</td>\n",
       "      <td>Col.</td>\n",
       "      <td>-</td>\n",
       "      <td>-</td>\n",
       "      <td>-</td>\n",
       "      <td>n/a</td>\n",
       "      <td>13,300,000</td>\n",
       "      <td>n/a</td>\n",
       "      <td>13300000</td>\n",
       "      <td>1970-05-13</td>\n",
       "    </tr>\n",
       "    <tr>\n",
       "      <th>46</th>\n",
       "      <td>8/1/73</td>\n",
       "      <td>American Graffiti</td>\n",
       "      <td>Uni.</td>\n",
       "      <td>-</td>\n",
       "      <td>-</td>\n",
       "      <td>-</td>\n",
       "      <td>n/a</td>\n",
       "      <td>115,000,000</td>\n",
       "      <td>n/a</td>\n",
       "      <td>115000000</td>\n",
       "      <td>1973-08-01</td>\n",
       "    </tr>\n",
       "    <tr>\n",
       "      <th>45</th>\n",
       "      <td>4/7/74</td>\n",
       "      <td>The Conversation</td>\n",
       "      <td>Par.</td>\n",
       "      <td>-</td>\n",
       "      <td>-</td>\n",
       "      <td>-</td>\n",
       "      <td>n/a</td>\n",
       "      <td>4,420,000</td>\n",
       "      <td>n/a</td>\n",
       "      <td>4420000</td>\n",
       "      <td>1974-04-07</td>\n",
       "    </tr>\n",
       "  </tbody>\n",
       "</table>\n",
       "</div>"
      ],
      "text/plain": [
       "        date               title studio widest release opening release rank  \\\n",
       "49   11/1/67  A Time for Killing   Col.              -               -    -   \n",
       "48  10/19/68   Journey to Shiloh   Uni.              -               -    -   \n",
       "47   5/13/70    Getting Straight   Col.              -               -    -   \n",
       "46    8/1/73   American Graffiti   Uni.              -               -    -   \n",
       "45    4/7/74    The Conversation   Par.              -               -    -   \n",
       "\n",
       "   open_gross   life_gross opengross lifetimegross   datetime  \n",
       "49        n/a          n/a       n/a           n/a 1967-11-01  \n",
       "48        n/a      407,500       n/a        407500 1968-10-19  \n",
       "47        n/a   13,300,000       n/a      13300000 1970-05-13  \n",
       "46        n/a  115,000,000       n/a     115000000 1973-08-01  \n",
       "45        n/a    4,420,000       n/a       4420000 1974-04-07  "
      ]
     },
     "execution_count": 77,
     "metadata": {},
     "output_type": "execute_result"
    }
   ],
   "source": [
    "df_by_releasedate.head()"
   ]
  },
  {
   "cell_type": "code",
   "execution_count": 79,
   "metadata": {
    "collapsed": false
   },
   "outputs": [],
   "source": [
    "D = df_by_releasedate[df_by_releasedate['lifetimegross'] != 'n/a']"
   ]
  },
  {
   "cell_type": "code",
   "execution_count": null,
   "metadata": {
    "collapsed": true
   },
   "outputs": [],
   "source": []
  }
 ],
 "metadata": {
  "anaconda-cloud": {},
  "kernelspec": {
   "display_name": "Python [Root]",
   "language": "python",
   "name": "Python [Root]"
  },
  "language_info": {
   "codemirror_mode": {
    "name": "ipython",
    "version": 2
   },
   "file_extension": ".py",
   "mimetype": "text/x-python",
   "name": "python",
   "nbconvert_exporter": "python",
   "pygments_lexer": "ipython2",
   "version": "2.7.12"
  }
 },
 "nbformat": 4,
 "nbformat_minor": 0
}
