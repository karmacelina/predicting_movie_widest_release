{
 "cells": [
  {
   "cell_type": "code",
   "execution_count": 1,
   "metadata": {
    "collapsed": false
   },
   "outputs": [
    {
     "name": "stdout",
     "output_type": "stream",
     "text": [
      "total 26288\r\n",
      "-rwxrwxrwx  1 ausubo  staff     3342 Sep 29 23:07 \u001b[31mUntitled.ipynb\u001b[m\u001b[m\r\n",
      "-rwxrwxrwx  1 ausubo  staff   154529 Oct  3 12:09 \u001b[31mexploratory_data_analysis.ipynb\u001b[m\u001b[m\r\n",
      "-rwxrwxrwx  1 ausubo  staff    28634 Sep 30 16:17 \u001b[31mmore_scraping-Copy1.ipynb\u001b[m\u001b[m\r\n",
      "-rwxrwxrwx  1 ausubo  staff  1449278 Oct  3 11:43 \u001b[31mmore_scraping_this_is_working.ipynb\u001b[m\u001b[m\r\n",
      "-rwxrwxrwx  1 ausubo  staff  2178034 Oct  1 22:55 \u001b[31mmovies_1.pkl\u001b[m\u001b[m\r\n",
      "-rwxrwxrwx  1 ausubo  staff  2180537 Oct  1 23:49 \u001b[31mmovies_1_v2.pkl\u001b[m\u001b[m\r\n",
      "-rwxrwxrwx  1 ausubo  staff   835136 Oct  2 00:52 \u001b[31mmovies_2.pkl\u001b[m\u001b[m\r\n",
      "-rwxrwxrwx  1 ausubo  staff   323027 Oct  1 22:11 \u001b[31mscraping_luther_1.ipynb\u001b[m\u001b[m\r\n",
      "-rwxrwxrwx  1 ausubo  staff  6254623 Sep 29 18:11 \u001b[31mscraping_miscellaneous.ipynb\u001b[m\u001b[m\r\n",
      "-rwxrwxrwx  1 ausubo  staff    40319 Oct  3 12:29 \u001b[31mscraping_trick.ipynb\u001b[m\u001b[m\r\n"
     ]
    }
   ],
   "source": [
    "!ls -l"
   ]
  },
  {
   "cell_type": "code",
   "execution_count": 2,
   "metadata": {
    "collapsed": true
   },
   "outputs": [],
   "source": [
    "import pandas as pd \n",
    "\n",
    "df1 = pd.read_pickle('movies_1_v2.pkl')"
   ]
  },
  {
   "cell_type": "code",
   "execution_count": 3,
   "metadata": {
    "collapsed": true
   },
   "outputs": [],
   "source": [
    "df2 = pd.read_pickle('movies_2.pkl')"
   ]
  },
  {
   "cell_type": "code",
   "execution_count": 4,
   "metadata": {
    "collapsed": true
   },
   "outputs": [],
   "source": [
    "df = pd.concat([df1, df2])"
   ]
  },
  {
   "cell_type": "code",
   "execution_count": 5,
   "metadata": {
    "collapsed": false
   },
   "outputs": [
    {
     "data": {
      "text/plain": [
       "(16451, 14)"
      ]
     },
     "execution_count": 5,
     "metadata": {},
     "output_type": "execute_result"
    }
   ],
   "source": [
    "df.shape"
   ]
  },
  {
   "cell_type": "code",
   "execution_count": 6,
   "metadata": {
    "collapsed": false
   },
   "outputs": [],
   "source": [
    "df3 = df.copy()"
   ]
  },
  {
   "cell_type": "code",
   "execution_count": 7,
   "metadata": {
    "collapsed": false
   },
   "outputs": [],
   "source": [
    "del df3['actors']"
   ]
  },
  {
   "cell_type": "code",
   "execution_count": 8,
   "metadata": {
    "collapsed": false
   },
   "outputs": [
    {
     "data": {
      "text/plain": [
       "Index(['movie', 'genre', 'release date', 'distributor', 'runtime', 'rating',\n",
       "       'budget', 'domestic gross', '1st weekend gross', 'widest release',\n",
       "       'producers', 'directors', 'title'],\n",
       "      dtype='object')"
      ]
     },
     "execution_count": 8,
     "metadata": {},
     "output_type": "execute_result"
    }
   ],
   "source": [
    "df3.columns"
   ]
  },
  {
   "cell_type": "code",
   "execution_count": 9,
   "metadata": {
    "collapsed": true
   },
   "outputs": [
    {
     "data": {
      "text/html": [
       "<div>\n",
       "<table border=\"1\" class=\"dataframe\">\n",
       "  <thead>\n",
       "    <tr style=\"text-align: right;\">\n",
       "      <th></th>\n",
       "      <th>movie</th>\n",
       "      <th>genre</th>\n",
       "      <th>release date</th>\n",
       "      <th>distributor</th>\n",
       "      <th>runtime</th>\n",
       "      <th>rating</th>\n",
       "      <th>budget</th>\n",
       "      <th>domestic gross</th>\n",
       "      <th>1st weekend gross</th>\n",
       "      <th>widest release</th>\n",
       "      <th>producers</th>\n",
       "      <th>directors</th>\n",
       "      <th>title</th>\n",
       "    </tr>\n",
       "  </thead>\n",
       "  <tbody>\n",
       "    <tr>\n",
       "      <th>0</th>\n",
       "      <td>/movies/?id=horrorifc.htm</td>\n",
       "      <td>Horror</td>\n",
       "      <td>2015-11-20 00:00:00</td>\n",
       "      <td>IFC</td>\n",
       "      <td>90</td>\n",
       "      <td>Unknown</td>\n",
       "      <td>None</td>\n",
       "      <td>NaN</td>\n",
       "      <td>NaN</td>\n",
       "      <td>NaN</td>\n",
       "      <td>NaN</td>\n",
       "      <td>NaN</td>\n",
       "      <td>#Horror</td>\n",
       "    </tr>\n",
       "    <tr>\n",
       "      <th>1</th>\n",
       "      <td>/movies/?id=9dot99.htm</td>\n",
       "      <td>Animation</td>\n",
       "      <td>2008-12-12 00:00:00</td>\n",
       "      <td>Regent Releasing</td>\n",
       "      <td>78</td>\n",
       "      <td>R</td>\n",
       "      <td>None</td>\n",
       "      <td>52384</td>\n",
       "      <td>NaN</td>\n",
       "      <td>4</td>\n",
       "      <td>NaN</td>\n",
       "      <td>NaN</td>\n",
       "      <td>$9.99</td>\n",
       "    </tr>\n",
       "    <tr>\n",
       "      <th>2</th>\n",
       "      <td>/movies/?id=supercapitalist.htm</td>\n",
       "      <td>Thriller</td>\n",
       "      <td>2012-08-10 00:00:00</td>\n",
       "      <td>Truly Indie</td>\n",
       "      <td>96</td>\n",
       "      <td>Unrated</td>\n",
       "      <td>None</td>\n",
       "      <td>15919</td>\n",
       "      <td>NaN</td>\n",
       "      <td>1</td>\n",
       "      <td>NaN</td>\n",
       "      <td>NaN</td>\n",
       "      <td>$upercapitalist</td>\n",
       "    </tr>\n",
       "    <tr>\n",
       "      <th>3</th>\n",
       "      <td>/movies/?id=untitled.htm</td>\n",
       "      <td>Comedy</td>\n",
       "      <td>2009-10-23 00:00:00</td>\n",
       "      <td>Samuel Goldwyn</td>\n",
       "      <td>96</td>\n",
       "      <td>R</td>\n",
       "      <td>None</td>\n",
       "      <td>230600</td>\n",
       "      <td>NaN</td>\n",
       "      <td>25</td>\n",
       "      <td>NaN</td>\n",
       "      <td>NaN</td>\n",
       "      <td></td>\n",
       "    </tr>\n",
       "    <tr>\n",
       "      <th>4</th>\n",
       "      <td>/movies/?id=andjusticeforall.htm</td>\n",
       "      <td>Drama</td>\n",
       "      <td>1979-10-19 00:00:00</td>\n",
       "      <td>Columbia</td>\n",
       "      <td>119</td>\n",
       "      <td>R</td>\n",
       "      <td>None</td>\n",
       "      <td>33300000</td>\n",
       "      <td>NaN</td>\n",
       "      <td>NaN</td>\n",
       "      <td>NaN</td>\n",
       "      <td>NaN</td>\n",
       "      <td>...And Justice for All</td>\n",
       "    </tr>\n",
       "  </tbody>\n",
       "</table>\n",
       "</div>"
      ],
      "text/plain": [
       "                              movie      genre         release date  \\\n",
       "0         /movies/?id=horrorifc.htm     Horror  2015-11-20 00:00:00   \n",
       "1            /movies/?id=9dot99.htm  Animation  2008-12-12 00:00:00   \n",
       "2   /movies/?id=supercapitalist.htm   Thriller  2012-08-10 00:00:00   \n",
       "3          /movies/?id=untitled.htm     Comedy  2009-10-23 00:00:00   \n",
       "4  /movies/?id=andjusticeforall.htm      Drama  1979-10-19 00:00:00   \n",
       "\n",
       "        distributor runtime   rating budget domestic gross 1st weekend gross  \\\n",
       "0               IFC      90  Unknown   None            NaN               NaN   \n",
       "1  Regent Releasing      78        R   None          52384               NaN   \n",
       "2       Truly Indie      96  Unrated   None          15919               NaN   \n",
       "3    Samuel Goldwyn      96        R   None         230600               NaN   \n",
       "4          Columbia     119        R   None       33300000               NaN   \n",
       "\n",
       "  widest release producers directors                   title  \n",
       "0            NaN       NaN       NaN                 #Horror  \n",
       "1              4       NaN       NaN                   $9.99  \n",
       "2              1       NaN       NaN         $upercapitalist  \n",
       "3             25       NaN       NaN                          \n",
       "4            NaN       NaN       NaN  ...And Justice for All  "
      ]
     },
     "execution_count": 9,
     "metadata": {},
     "output_type": "execute_result"
    }
   ],
   "source": [
    "df3.head()"
   ]
  },
  {
   "cell_type": "code",
   "execution_count": 15,
   "metadata": {
    "collapsed": true
   },
   "outputs": [],
   "source": [
    "import matplotlib.pyplot as plt\n",
    "%matplotlib inline"
   ]
  },
  {
   "cell_type": "code",
   "execution_count": 17,
   "metadata": {
    "collapsed": false
   },
   "outputs": [
    {
     "data": {
      "text/plain": [
       "<matplotlib.axes._subplots.AxesSubplot at 0x119811400>"
      ]
     },
     "execution_count": 17,
     "metadata": {},
     "output_type": "execute_result"
    },
    {
     "data": {
      "image/png": "[encoded data removed]",
      "text/plain": [
       "<matplotlib.figure.Figure at 0x1198de7b8>"
      ]
     },
     "metadata": {},
     "output_type": "display_data"
    }
   ],
   "source": [
    "df3['runtime'].hist(bins = 50)"
   ]
  },
  {
   "cell_type": "code",
   "execution_count": 20,
   "metadata": {
    "collapsed": false
   },
   "outputs": [
    {
     "data": {
      "text/plain": [
       "<matplotlib.axes._subplots.AxesSubplot at 0x11a301780>"
      ]
     },
     "execution_count": 20,
     "metadata": {},
     "output_type": "execute_result"
    },
    {
     "data": {
      "image/png": "[encoded data removed]",
      "text/plain": [
       "<matplotlib.figure.Figure at 0x11a2d7da0>"
      ]
     },
     "metadata": {},
     "output_type": "display_data"
    }
   ],
   "source": [
    "df3['widest release'].hist(bins = 100)"
   ]
  },
  {
   "cell_type": "code",
   "execution_count": 21,
   "metadata": {
    "collapsed": false
   },
   "outputs": [
    {
     "data": {
      "text/plain": [
       "<matplotlib.collections.PathCollection at 0x11a6c9c88>"
      ]
     },
     "execution_count": 21,
     "metadata": {},
     "output_type": "execute_result"
    },
    {
     "data": {
      "image/png": "[encoded data removed]",
      "text/plain": [
       "<matplotlib.figure.Figure at 0x11a496710>"
      ]
     },
     "metadata": {},
     "output_type": "display_data"
    }
   ],
   "source": [
    "plt.scatter(df3['widest release'], df3['runtime'])"
   ]
  },
  {
   "cell_type": "code",
   "execution_count": 22,
   "metadata": {
    "collapsed": false
   },
   "outputs": [
    {
     "data": {
      "text/plain": [
       "<matplotlib.collections.PathCollection at 0x11ab19400>"
      ]
     },
     "execution_count": 22,
     "metadata": {},
     "output_type": "execute_result"
    },
    {
     "data": {
      "image/png": "[encoded data removed]",
      "text/plain": [
       "<matplotlib.figure.Figure at 0x11a88d390>"
      ]
     },
     "metadata": {},
     "output_type": "display_data"
    }
   ],
   "source": [
    "plt.scatter(df['widest release'], df['domestic gross'])"
   ]
  },
  {
   "cell_type": "code",
   "execution_count": null,
   "metadata": {
    "collapsed": true
   },
   "outputs": [],
   "source": [
    "plt.scatter(df['widest release'], df['budget'])\n"
   ]
  },
  {
   "cell_type": "code",
   "execution_count": null,
   "metadata": {
    "collapsed": false
   },
   "outputs": [],
   "source": [
    "plt.scatter(df['budget'], df['domestic gross'])"
   ]
  },
  {
   "cell_type": "code",
   "execution_count": null,
   "metadata": {
    "collapsed": false
   },
   "outputs": [],
   "source": [
    "plt.scatter(df['widest release'], df['domestic gross'])"
   ]
  },
  {
   "cell_type": "code",
   "execution_count": null,
   "metadata": {
    "collapsed": false
   },
   "outputs": [],
   "source": [
    "df['runtime'].hist(bins = 100)"
   ]
  },
  {
   "cell_type": "code",
   "execution_count": null,
   "metadata": {
    "collapsed": false
   },
   "outputs": [],
   "source": [
    "plt.scatter(df['runtime'], df['domestic gross'])"
   ]
  },
  {
   "cell_type": "code",
   "execution_count": null,
   "metadata": {
    "collapsed": false
   },
   "outputs": [],
   "source": [
    "plt.scatter(df['domestic gross'], df['budget'])"
   ]
  },
  {
   "cell_type": "code",
   "execution_count": null,
   "metadata": {
    "collapsed": false
   },
   "outputs": [],
   "source": [
    "plt.scatter(df['runtime'], df['budget'])"
   ]
  },
  {
   "cell_type": "code",
   "execution_count": 25,
   "metadata": {
    "collapsed": true
   },
   "outputs": [
    {
     "data": {
      "text/plain": [
       "<matplotlib.axes._subplots.AxesSubplot at 0x11ac254a8>"
      ]
     },
     "execution_count": 25,
     "metadata": {},
     "output_type": "execute_result"
    },
    {
     "data": {
      "image/png": "[encoded data removed]",
      "text/plain": [
       "<matplotlib.figure.Figure at 0x11ac36ef0>"
      ]
     },
     "metadata": {},
     "output_type": "display_data"
    }
   ],
   "source": [
    "df['domestic gross'].hist(bins = 50)"
   ]
  },
  {
   "cell_type": "code",
   "execution_count": null,
   "metadata": {
    "collapsed": false
   },
   "outputs": [],
   "source": [
    "actors_2 = df['actors'].fillna('o')"
   ]
  },
  {
   "cell_type": "code",
   "execution_count": null,
   "metadata": {
    "collapsed": false
   },
   "outputs": [],
   "source": [
    "df['actors_noNan'] = actors_2"
   ]
  },
  {
   "cell_type": "code",
   "execution_count": null,
   "metadata": {
    "collapsed": false
   },
   "outputs": [],
   "source": [
    "df.head()"
   ]
  },
  {
   "cell_type": "code",
   "execution_count": null,
   "metadata": {
    "collapsed": false
   },
   "outputs": [],
   "source": [
    "actores = []\n",
    "for i in df['actors_noNan']:\n",
    "    for j in i:\n",
    "        actores.append(j)"
   ]
  },
  {
   "cell_type": "code",
   "execution_count": null,
   "metadata": {
    "collapsed": false
   },
   "outputs": [],
   "source": [
    "len(actores)"
   ]
  },
  {
   "cell_type": "code",
   "execution_count": null,
   "metadata": {
    "collapsed": false
   },
   "outputs": [],
   "source": [
    "len(set(actores))"
   ]
  },
  {
   "cell_type": "code",
   "execution_count": null,
   "metadata": {
    "collapsed": true
   },
   "outputs": [],
   "source": []
  }
 ],
 "metadata": {
  "anaconda-cloud": {},
  "kernelspec": {
   "display_name": "Python [py35]",
   "language": "python",
   "name": "Python [py35]"
  },
  "language_info": {
   "codemirror_mode": {
    "name": "ipython",
    "version": 3
   },
   "file_extension": ".py",
   "mimetype": "text/x-python",
   "name": "python",
   "nbconvert_exporter": "python",
   "pygments_lexer": "ipython3",
   "version": "3.5.2"
  }
 },
 "nbformat": 4,
 "nbformat_minor": 0
}
