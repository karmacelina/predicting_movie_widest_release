{
 "cells": [
  {
   "cell_type": "code",
   "execution_count": 1,
   "metadata": {
    "collapsed": true
   },
   "outputs": [],
   "source": [
    "import requests \n",
    "import string\n",
    "from bs4 import BeautifulSoup  \n",
    "import logging  \n",
    "logging.basicConfig(level=logging.DEBUG)"
   ]
  },
  {
   "cell_type": "code",
   "execution_count": 2,
   "metadata": {
    "collapsed": false
   },
   "outputs": [],
   "source": [
    "def get_all_movies():  \n",
    "    \"\"\" returns all the movie urls from boxofficemojo.com in a list\"\"\"\n",
    "\n",
    "    # Alphabet loop for how movies are indexed including\n",
    "    # movies that start with a special character or number\n",
    "    index = [\"NUM\"] + list(string.ascii_uppercase)\n",
    "\n",
    "    # List of movie urls\n",
    "    movies_list = []\n",
    "\n",
    "    # Loop through the pages for each letter\n",
    "    for letter in index:\n",
    "\n",
    "        # Loop through the pages within each letter\n",
    "        for num in range(1, 20):\n",
    "            url = (\"http://www.boxofficemojo.com/movies/alphabetical.htm?\"\n",
    "                   \"letter=\" + letter + \"&page=\" + str(num))\n",
    "            try:\n",
    "                response = requests.get(url)\n",
    "                page = response.text\n",
    "                soup = BeautifulSoup(page, \"lxml\")\n",
    "                rows = soup.find(id=\"body\").find(\"table\").find(\"table\").find_all(\n",
    "                    \"table\")[1].find_all(\"tr\")\n",
    "\n",
    "                # skip index row\n",
    "                if len(rows) > 1:\n",
    "                    counter = 1\n",
    "                    for row in rows:\n",
    "                        # skip index row\n",
    "                        if counter > 1:\n",
    "                            link = row.td.font.a['href']\n",
    "                            # don't add duplicates\n",
    "                            if link not in movies_list:\n",
    "                                movies_list.append(link)\n",
    "\n",
    "                        counter += 1\n",
    "            except (Exception, e):\n",
    "                logging.exception(e)\n",
    "\n",
    "    return movies_list"
   ]
  },
  {
   "cell_type": "code",
   "execution_count": 3,
   "metadata": {
    "collapsed": true
   },
   "outputs": [],
   "source": [
    "all_movies = get_all_movies()"
   ]
  },
  {
   "cell_type": "code",
   "execution_count": 4,
   "metadata": {
    "collapsed": true
   },
   "outputs": [],
   "source": [
    "all_movies_subset = all_movies[:100]"
   ]
  },
  {
   "cell_type": "code",
   "execution_count": null,
   "metadata": {
    "collapsed": false
   },
   "outputs": [],
   "source": [
    "#print(len(movie_chunks))\n",
    "#print(len(all_movies))\n",
    "#n = list(range(len(all_movies)+1))"
   ]
  },
  {
   "cell_type": "code",
   "execution_count": null,
   "metadata": {
    "collapsed": false
   },
   "outputs": [],
   "source": [
    "#L = int(len(all_movies)/80)\n",
    "#intervals = n[::L]\n",
    "#intervals.append(len(all_movies)-1)\n",
    "#print (intervals)"
   ]
  },
  {
   "cell_type": "code",
   "execution_count": null,
   "metadata": {
    "collapsed": false
   },
   "outputs": [],
   "source": [
    "#print(intervals)"
   ]
  },
  {
   "cell_type": "code",
   "execution_count": null,
   "metadata": {
    "collapsed": true
   },
   "outputs": [],
   "source": [
    "#for i in intervals:\n",
    "#    for movie in all_movies[intervals[i]:intervals[i+1]]:\n",
    "#        print(movie)\n",
    "    "
   ]
  },
  {
   "cell_type": "code",
   "execution_count": null,
   "metadata": {
    "collapsed": false
   },
   "outputs": [],
   "source": [
    "#L = int(len(all_movies)/40)\n",
    "#L"
   ]
  },
  {
   "cell_type": "code",
   "execution_count": 97,
   "metadata": {
    "collapsed": true
   },
   "outputs": [],
   "source": [
    "#url = 'http://www.boxofficemojo.com/movies/?id=addamsfamily.htm'\n",
    "url = 'http://www.boxofficemojo.com/movies/?id=casablanca.htm'\n",
    "response = requests.get(url)\n",
    "page = response.text\n",
    "soup = BeautifulSoup(page, \"lxml\")\n"
   ]
  },
  {
   "cell_type": "code",
   "execution_count": 98,
   "metadata": {
    "collapsed": true
   },
   "outputs": [],
   "source": [
    "def get_movie_value(soup, field_name):\n",
    "    '''Grab a value from boxofficemojo HTML\n",
    "    \n",
    "    Takes a string attribute of a movie on the page and\n",
    "    returns the string in the next sibling object\n",
    "    (the value for that attribute)\n",
    "    or None if nothing is found.\n",
    "    '''\n",
    "    obj = soup.find(text=re.compile(field_name))\n",
    "    if not obj: \n",
    "        return None\n",
    "    # this works for most of the values\n",
    "    next_sibling = obj.findNextSibling()\n",
    "    if next_sibling:\n",
    "        return next_sibling.text # RETURN TEXT OF NEXT SIBLING\n",
    "    else:\n",
    "        return None"
   ]
  },
  {
   "cell_type": "code",
   "execution_count": 99,
   "metadata": {
    "collapsed": true
   },
   "outputs": [],
   "source": [
    "def get_movie_value_next_next(soup, field_name):\n",
    "    '''Grab a value from boxofficemojo HTML\n",
    "    \n",
    "    Takes a string attribute of a movie on the page and\n",
    "    returns the string in the next sibling object\n",
    "    (the value for that attribute)\n",
    "    or None if nothing is found.\n",
    "    '''\n",
    "    obj = soup.find(text=re.compile(field_name))\n",
    "    \n",
    "    if obj:\n",
    "        return obj.next.next.text\n",
    "    else:\n",
    "        return None"
   ]
  },
  {
   "cell_type": "code",
   "execution_count": 100,
   "metadata": {
    "collapsed": true
   },
   "outputs": [],
   "source": [
    "try:\n",
    "    producer = get_movie_value_next(soup, 'Producer')\n",
    "    producers = re.sub('([a-z()])([A-Z])', '\\g<1>, \\g<2>', producer).split(\",\") \n",
    "except TypeError:\n",
    "    producers = float('NaN')\n",
    "except AttributeError:\n",
    "    producers = float('NaN')"
   ]
  },
  {
   "cell_type": "code",
   "execution_count": 101,
   "metadata": {
    "collapsed": true
   },
   "outputs": [],
   "source": [
    "try:\n",
    "    director = get_movie_value_next(soup,'Director')\n",
    "    director = re.sub('([a-z()])([A-Z])', '\\g<1>, \\g<2>', director).split(\",\") \n",
    "except TypeError:\n",
    "    director = float('NaN')\n"
   ]
  },
  {
   "cell_type": "code",
   "execution_count": 102,
   "metadata": {
    "collapsed": true
   },
   "outputs": [],
   "source": [
    "# actors\n",
    "try:\n",
    "    actor = get_movie_value_next(soup,'Actor')\n",
    "    v = re.sub('([a-z()])([A-Z])', '\\g<1>,\\g<2>', actor)\n",
    "    actors = re.sub('[(*\\']','', v)\n",
    "    actors = actors.split(\",\") \n",
    "except TypeError:\n",
    "    actors = float('NaN')"
   ]
  },
  {
   "cell_type": "code",
   "execution_count": 103,
   "metadata": {
    "collapsed": false
   },
   "outputs": [],
   "source": [
    "genre = get_movie_value(soup, 'Genre[^a-z]') "
   ]
  },
  {
   "cell_type": "code",
   "execution_count": 104,
   "metadata": {
    "collapsed": true
   },
   "outputs": [],
   "source": [
    "rating = get_movie_value(soup,'MPAA Rating')\n"
   ]
  },
  {
   "cell_type": "code",
   "execution_count": 105,
   "metadata": {
    "collapsed": false
   },
   "outputs": [],
   "source": [
    "import dateutil.parser\n",
    "\n",
    "def to_date(datestring):\n",
    "    date = dateutil.parser.parse(datestring)\n",
    "    return date\n",
    "# release date \n",
    "try:\n",
    "    raw_release_date = get_movie_value(soup,'Release Date')\n",
    "    release_date = to_date(raw_release_date)\n",
    "except AttributeError:\n",
    "    release_date = float('NaN')"
   ]
  },
  {
   "cell_type": "code",
   "execution_count": 106,
   "metadata": {
    "collapsed": true
   },
   "outputs": [],
   "source": [
    "# title\n",
    "title_string = soup.find('title').text\n",
    "title = title_string.split('(')[0].strip()"
   ]
  },
  {
   "cell_type": "code",
   "execution_count": 107,
   "metadata": {
    "collapsed": true
   },
   "outputs": [],
   "source": [
    "# domestic gross\n",
    "try:\n",
    "    raw_domestic_total_gross = get_movie_value(soup,'Domestic Total')\n",
    "    domestic_total_gross = money_to_int(raw_domestic_total_gross)\n",
    "except AttributeError:\n",
    "    domestic_total_gross = float('NaN')"
   ]
  },
  {
   "cell_type": "code",
   "execution_count": 108,
   "metadata": {
    "collapsed": true
   },
   "outputs": [],
   "source": [
    "# opening weekend\n",
    "try:\n",
    "    opening_weekend_gross = get_movie_value_next(soup,'Opening Weekend')\n",
    "    opening_weekend_gross = money_to_int(opening_weekend_gross)\n",
    "except AttributeError:\n",
    "    opening_weekend_gross = float('NaN')"
   ]
  },
  {
   "cell_type": "code",
   "execution_count": 109,
   "metadata": {
    "collapsed": true
   },
   "outputs": [],
   "source": [
    "def money_to_int(moneystring):\n",
    "    moneystring = moneystring.replace('$', '').replace(',', '')\n",
    "    return int(moneystring)\n",
    "\n",
    "def money_to_int_2(moneystring):\n",
    "    if moneystring != 'N/A':\n",
    "        moneystring = moneystring.replace('$', '').replace('.','').replace(',','').replace(' million', '000000')\n",
    "        return int(moneystring)"
   ]
  },
  {
   "cell_type": "code",
   "execution_count": 110,
   "metadata": {
    "collapsed": false
   },
   "outputs": [],
   "source": [
    "#production budget\n",
    "try:\n",
    "    production_budget = get_movie_value(soup, 'Production Budget')\n",
    "    production_budget = money_to_int_2(production_budget)\n",
    "except AttributeError:\n",
    "    production_budget = float('NaN')"
   ]
  },
  {
   "cell_type": "code",
   "execution_count": 111,
   "metadata": {
    "collapsed": true
   },
   "outputs": [],
   "source": [
    "def runtime_to_minutes(runtimestring):\n",
    "    runtime = runtimestring.split()\n",
    "    try:\n",
    "        minutes = int(runtime[0])*60 + int(runtime[2])\n",
    "        return minutes\n",
    "    except:\n",
    "        return None"
   ]
  },
  {
   "cell_type": "code",
   "execution_count": 112,
   "metadata": {
    "collapsed": false
   },
   "outputs": [],
   "source": [
    "#movie runtime\n",
    "try:\n",
    "    raw_runtime = get_movie_value(soup,'Runtime')\n",
    "    runtime = runtime_to_minutes(raw_runtime)\n",
    "except AttributeError:\n",
    "    runtime = float('NaN')"
   ]
  },
  {
   "cell_type": "code",
   "execution_count": 113,
   "metadata": {
    "collapsed": true
   },
   "outputs": [],
   "source": [
    "\n",
    "def strip_and_return_int(s):\n",
    "    t = s.replace('$', '').replace(',','')\n",
    "    t = int(t)\n",
    "    return t"
   ]
  },
  {
   "cell_type": "code",
   "execution_count": 114,
   "metadata": {
    "collapsed": false
   },
   "outputs": [],
   "source": [
    "try:\n",
    "    widest_release = get_movie_value_next_next(soup, 'Widest')\n",
    "    widest_release = strip_and_return_int(widest_release.split()[0])\n",
    "except AttributeError:\n",
    "    widest_release = float('NaN')"
   ]
  },
  {
   "cell_type": "code",
   "execution_count": null,
   "metadata": {
    "collapsed": true
   },
   "outputs": [],
   "source": []
  },
  {
   "cell_type": "code",
   "execution_count": null,
   "metadata": {
    "collapsed": true
   },
   "outputs": [],
   "source": []
  },
  {
   "cell_type": "code",
   "execution_count": 116,
   "metadata": {
    "collapsed": false
   },
   "outputs": [
    {
     "data": {
      "text/plain": [
       "('Casablanca',\n",
       " 'Romance',\n",
       " 102,\n",
       " 'Unrated',\n",
       " ['Hal B. Wallis'],\n",
       " ['Michael Curtiz'],\n",
       " ['Humphrey Bogart',\n",
       "  'Ingrid Bergman',\n",
       "  'Paul Henreid',\n",
       "  'Claude Rains',\n",
       "  'Conrad Veidt',\n",
       "  'Sydney Greenstreet',\n",
       "  'Peter Lorre',\n",
       "  'S.Z. Sakall'],\n",
       " datetime.datetime(1942, 11, 26, 0, 0),\n",
       " nan,\n",
       " nan,\n",
       " 950000,\n",
       " nan)"
      ]
     },
     "execution_count": 116,
     "metadata": {},
     "output_type": "execute_result"
    }
   ],
   "source": [
    "title, genre, runtime, rating, producers, director, actors, release_date, domestic_total_gross, opening_weekend_gross, production_budget,widest_release"
   ]
  },
  {
   "cell_type": "code",
   "execution_count": 33,
   "metadata": {
    "collapsed": true
   },
   "outputs": [],
   "source": [
    "import re"
   ]
  },
  {
   "cell_type": "code",
   "execution_count": 34,
   "metadata": {
    "collapsed": false
   },
   "outputs": [
    {
     "data": {
      "text/plain": [
       "['TV Adaptation (Live Action)']"
      ]
     },
     "execution_count": 34,
     "metadata": {},
     "output_type": "execute_result"
    }
   ],
   "source": [
    "get_genres(soup)"
   ]
  },
  {
   "cell_type": "code",
   "execution_count": 30,
   "metadata": {
    "collapsed": true
   },
   "outputs": [],
   "source": [
    "genres = soup.find(id=\"body\").find(text=re.compile(\"Genres\"))"
   ]
  },
  {
   "cell_type": "code",
   "execution_count": 31,
   "metadata": {
    "collapsed": false
   },
   "outputs": [
    {
     "ename": "AttributeError",
     "evalue": "'NoneType' object has no attribute 'find_all'",
     "output_type": "error",
     "traceback": [
      "\u001b[0;31m---------------------------------------------------------------------------\u001b[0m",
      "\u001b[0;31mAttributeError\u001b[0m                            Traceback (most recent call last)",
      "\u001b[0;32m<ipython-input-31-b89804b07adc>\u001b[0m in \u001b[0;36m<module>\u001b[0;34m()\u001b[0m\n\u001b[0;32m----> 1\u001b[0;31m \u001b[0mgenres\u001b[0m \u001b[0;34m=\u001b[0m \u001b[0mgenres\u001b[0m\u001b[0;34m.\u001b[0m\u001b[0mfindParent\u001b[0m\u001b[0;34m(\u001b[0m\u001b[0;34m)\u001b[0m\u001b[0;34m.\u001b[0m\u001b[0mfindNextSibling\u001b[0m\u001b[0;34m(\u001b[0m\u001b[0;34m)\u001b[0m\u001b[0;34m.\u001b[0m\u001b[0mfind_all\u001b[0m\u001b[0;34m(\u001b[0m\u001b[0;34m'tr'\u001b[0m\u001b[0;34m)\u001b[0m\u001b[0;34m\u001b[0m\u001b[0m\n\u001b[0m",
      "\u001b[0;31mAttributeError\u001b[0m: 'NoneType' object has no attribute 'find_all'"
     ]
    }
   ],
   "source": [
    "genres = genres.findParent().findNextSibling().find_all('tr')"
   ]
  },
  {
   "cell_type": "code",
   "execution_count": null,
   "metadata": {
    "collapsed": true
   },
   "outputs": [],
   "source": []
  },
  {
   "cell_type": "code",
   "execution_count": 1,
   "metadata": {
    "collapsed": false
   },
   "outputs": [],
   "source": [
    "def get_genres(soup):\n",
    "    \"\"\" returns all genres from specific movie page at boxofficemojo.com\"\"\"\n",
    "    genres_list = []\n",
    "    try:\n",
    "        genres = soup.find(id=\"body\").find(text=re.compile(\"Genres\"))\n",
    "        genres = genres.findParent().findNextSibling().find_all('tr')\n",
    "        genre_count = 0\n",
    "        for genre in genres:\n",
    "            if genre_count > 0:\n",
    "                genres_list.append(genre.td.font.a.text)\n",
    "            genre_count += 1\n",
    "    except LookupError:\n",
    "        try:\n",
    "            genres = soup.find(id=\"body\").find(text=re.compile(\"Genre\"))\n",
    "            genres = genres.findNextSibling().text\n",
    "            genres_list.append(genres)\n",
    "        except:\n",
    "            genres_list.append(\"N/A\")\n",
    "    return genres_list\n",
    "\n",
    "\n",
    "def get_title(soup):\n",
    "    \"\"\"returns title from specific movie page at boxofficemojo.com\"\"\"\n",
    "    try:\n",
    "        title = soup.find(\"title\").text.rsplit('(', 1)[0].strip()\n",
    "    except LookupError:\n",
    "        title = \"N/A\"\n",
    "    return title\n",
    "\n",
    "\n",
    "def get_release_date(soup):\n",
    "    \"\"\"returns datetime value of release date from specific movie\n",
    "    page at boxofficemojo.com\n",
    "    \"\"\"\n",
    "    try:\n",
    "        date = soup.find(id=\"body\").find(text=re.compile(\"Release Date\"))\n",
    "        date = date.findNextSibling().text\n",
    "        date = datetime.strptime(date, \"%B %d, %Y\")\n",
    "        return date\n",
    "    except LookupError:\n",
    "        return \"N/A\"\n",
    "\n",
    "\n",
    "def get_distributor(soup):\n",
    "    \"\"\"returns movie distributor from specific movie page at boxofficemojo.com\"\"\"\n",
    "    try:\n",
    "        distributor = soup.find(id=\"body\").find(text=re.compile(\"Distributor\"))\n",
    "        distributor = distributor.findNextSibling().text\n",
    "        return distributor\n",
    "    except LookupError:\n",
    "        return \"N/A\"\n",
    "\n",
    "\n",
    "def get_rating(soup):\n",
    "    \"\"\"returns MPAA Rating from specific movie page at boxofficemojo.com\"\"\"\n",
    "    try:\n",
    "        rating = soup.find(id=\"body\").find(text=re.compile(\"MPAA Rating\"))\n",
    "        rating = rating.findNextSibling().text\n",
    "        return rating\n",
    "    except LookupError:\n",
    "        return \"N/A\"\n",
    "\n",
    "\n",
    "def get_runtime(soup):\n",
    "    \"\"\"returns integer value of runtime from specific movie page at boxofficemojo.com\"\"\"\n",
    "    try:\n",
    "        runtime = soup.find(id=\"body\").find(text=re.compile(\"Runtime\"))\n",
    "        runtime = runtime.findNextSibling().text\n",
    "        time_splits = runtime.split(\"hrs.\")\n",
    "        try:\n",
    "            hrs = int(time_splits[0]) * 60\n",
    "        except LookupError:\n",
    "            hrs = 0\n",
    "        mins = int(time_splits[1].split(\" min.\")[0].strip())\n",
    "        total = hrs + mins\n",
    "        return total\n",
    "    except LookupError:\n",
    "        return \"N/A\"\n",
    "\n",
    "\n",
    "def get_budget(soup):\n",
    "    \"\"\"returns movie budget from specific movie page at boxofficemojo.com\"\"\"\n",
    "    try:\n",
    "        budget = soup.find(id=\"body\").find(text=re.compile(\"Production Budget\"))\n",
    "        budget = budget.findNextSibling().text\n",
    "        if budget != \"N/A\":\n",
    "            budget = int(budget.split(\"million\")[0].split(\"$\")[1].strip()) * 1000000\n",
    "        return budget\n",
    "    except LookupError:\n",
    "        return \"N/A\"\n",
    "\n",
    "\n",
    "def get_domestic_gross(soup):\n",
    "    \"\"\"returns integer value of domestic gross from specific movie page at boxofficemojo.com\"\"\"\n",
    "    try:\n",
    "        gross = soup.find(id=\"body\").find(text=re.compile(\"Domestic Total Gross: \"))\n",
    "        gross = gross.findNextSibling().text\n",
    "        gross = int(gross.replace(\"$\", \"\").replace(\",\", \"\"))\n",
    "        return gross\n",
    "    except LookupError:\n",
    "        try:\n",
    "            gross = soup.find(id=\"body\").find(tex=re.compile(\"Domestic:\"))\n",
    "            gross = gross.findParent().findNextSibling().text\n",
    "            return gross\n",
    "        except:\n",
    "            return \"N/A\"\n",
    "        \n",
    "        \n",
    "def get_movie_value_next(soup, field_name):\n",
    "    '''Grab a value from boxofficemojo HTML\n",
    "    \n",
    "    Takes a string attribute of a movie on the page and\n",
    "    returns the string in the next sibling object\n",
    "    (the value for that attribute)\n",
    "    or None if nothing is found.\n",
    "    '''\n",
    "    obj = soup.find(text=re.compile(field_name))\n",
    "    \n",
    "    if obj:\n",
    "        return obj.next.text\n",
    "    else:\n",
    "        return None\n",
    "\n",
    "def get_actors(soup):\n",
    "    actor = get_movie_value_next(soup,'Actor')\n",
    "    v = re.sub('([a-z()])([A-Z])', '\\g<1>, \\g<2>', actor)\n",
    "    actors = re.sub('[(*\\']','', v)\n",
    "    actors = actors.split(\",\")\n",
    "    return actors   \n",
    "\n",
    "def money_to_int(moneystring):\n",
    "    moneystring = moneystring.replace('$', '').replace(',', '')\n",
    "    return int(moneystring)\n",
    "\n",
    "def get_opening_weekend(soup):\n",
    "    opening_weekend_gross = get_movie_value_next(soup,'Opening Weekend')\n",
    "    opening_weekend_gross = money_to_int(opening_weekend_gross)\n",
    "    return opening_weekend_gross\n",
    "    \n",
    "    \n",
    "def scrape_movie_data(movie_list, start=0, end=20000):\n",
    "    \"\"\"returns dictionary of movies and relevant data from boxofficemojo.com:\n",
    "    genres(as a list), release date, distributor, runtime, MPAA rating,\n",
    "    budget, gross domestic revenue\n",
    "    \"\"\"\n",
    "    movie_data_list = {}\n",
    "    counter = 0\n",
    "    for movie in movie_list:\n",
    "        try:\n",
    "            if start < counter < end and counter < len(movie_list):\n",
    "                url = \"http://www.boxofficemojo.com/\" + movie\n",
    "                \n",
    "                response = requests.get(url)\n",
    "                time.sleep(0.1)\n",
    "                page = response.text\n",
    "                soup = BeautifulSoup(page, \"lxml\")\n",
    "                print(movie)\n",
    "                movie_data_list[get_title(soup)] = [movie, get_genres(soup), get_release_date(soup), \n",
    "                                                    get_distributor(soup), get_runtime(soup), \n",
    "                                                    get_rating(soup), get_budget(soup), \n",
    "                                                    get_domestic_gross(soup), get_actors(soup), \n",
    "                                                    get_opening_weekend(soup)]\n",
    "                \n",
    "            counter += 1\n",
    "        except: #(Exception, e):\n",
    "            pass\n",
    "\n",
    "    return movie_data_list\n",
    "\n",
    "\n",
    "#def main():\n",
    "#    pass\n",
    "\n",
    "#if __name__ == \"__main__\":\n",
    "#    main()"
   ]
  },
  {
   "cell_type": "code",
   "execution_count": 2,
   "metadata": {
    "collapsed": false
   },
   "outputs": [
    {
     "ename": "NameError",
     "evalue": "name 'all_movies_subset' is not defined",
     "output_type": "error",
     "traceback": [
      "\u001b[0;31m---------------------------------------------------------------------------\u001b[0m",
      "\u001b[0;31mNameError\u001b[0m                                 Traceback (most recent call last)",
      "\u001b[0;32m<ipython-input-2-e3d531201765>\u001b[0m in \u001b[0;36m<module>\u001b[0;34m()\u001b[0m\n\u001b[1;32m      2\u001b[0m \u001b[0;32mimport\u001b[0m \u001b[0mtime\u001b[0m\u001b[0;34m\u001b[0m\u001b[0m\n\u001b[1;32m      3\u001b[0m \u001b[0;34m\u001b[0m\u001b[0m\n\u001b[0;32m----> 4\u001b[0;31m \u001b[0mmovie_data_subset\u001b[0m \u001b[0;34m=\u001b[0m \u001b[0mscrape_movie_data\u001b[0m\u001b[0;34m(\u001b[0m\u001b[0mall_movies_subset\u001b[0m\u001b[0;34m,\u001b[0m \u001b[0mstart\u001b[0m\u001b[0;34m=\u001b[0m\u001b[0;36m0\u001b[0m\u001b[0;34m,\u001b[0m \u001b[0mend\u001b[0m\u001b[0;34m=\u001b[0m\u001b[0;36m20000\u001b[0m\u001b[0;34m)\u001b[0m\u001b[0;34m\u001b[0m\u001b[0m\n\u001b[0m",
      "\u001b[0;31mNameError\u001b[0m: name 'all_movies_subset' is not defined"
     ]
    }
   ],
   "source": [
    "from datetime import datetime\n",
    "import time\n",
    "\n",
    "movie_data_subset = scrape_movie_data(all_movies_subset, start=0, end=20000)"
   ]
  },
  {
   "cell_type": "code",
   "execution_count": 16,
   "metadata": {
    "collapsed": false
   },
   "outputs": [
    {
     "data": {
      "text/plain": [
       "{}"
      ]
     },
     "execution_count": 16,
     "metadata": {},
     "output_type": "execute_result"
    }
   ],
   "source": [
    "movie_data_subset"
   ]
  },
  {
   "cell_type": "code",
   "execution_count": 8,
   "metadata": {
    "collapsed": false
   },
   "outputs": [],
   "source": [
    "import pandas as pd\n",
    "df = pd.DataFrame(movie_data_subset)"
   ]
  },
  {
   "cell_type": "code",
   "execution_count": 10,
   "metadata": {
    "collapsed": true
   },
   "outputs": [],
   "source": [
    "df = df.transpose()"
   ]
  },
  {
   "cell_type": "code",
   "execution_count": null,
   "metadata": {
    "collapsed": true
   },
   "outputs": [],
   "source": [
    "movies_list_A = []\n",
    "url = 'http://www.boxofficemojo.com/movies/alphabetical.htm?letter=A&page=1'\n",
    "response = requests.get(url)\n",
    "page = response.text\n",
    "soup = BeautifulSoup(page, 'lxml')\n",
    "rows = soup.find(id = 'body').find('table').find('table').find_all('table')[1].find_all(\"tr\")\n",
    "if len(rows) > 1:\n",
    "    counter = 1\n",
    "    for row in rows:\n",
    "    # skip index row\n",
    "        if counter > 1:\n",
    "            link = row.td.font.a['href']\n",
    "            # don't add duplicates\n",
    "            if link not in movies_list:\n",
    "                movies_list_A.append(link)\n",
    "\n",
    "        counter += 1"
   ]
  },
  {
   "cell_type": "code",
   "execution_count": null,
   "metadata": {
    "collapsed": true
   },
   "outputs": [],
   "source": [
    "url = 'http://www.boxofficemojo.com/movies/?id=addamsfamily.htm'\n",
    "\n",
    "response = requests.get(url)\n",
    "page = response.text\n",
    "soup = BeautifulSoup(page, \"lxml\")\n"
   ]
  },
  {
   "cell_type": "code",
   "execution_count": null,
   "metadata": {
    "collapsed": true
   },
   "outputs": [],
   "source": [
    "def get_title(soup):\n",
    "    \"\"\"returns title from specific movie page at boxofficemojo.com\"\"\"\n",
    "    try:\n",
    "        title = soup.find(\"title\").text.rsplit('(', 1)[0].strip()\n",
    "    except LookupError:\n",
    "        title = \"N/A\"\n",
    "    return title"
   ]
  },
  {
   "cell_type": "code",
   "execution_count": null,
   "metadata": {
    "collapsed": false
   },
   "outputs": [],
   "source": [
    "get_title(soup)"
   ]
  },
  {
   "cell_type": "code",
   "execution_count": null,
   "metadata": {
    "collapsed": true
   },
   "outputs": [],
   "source": [
    "import re"
   ]
  },
  {
   "cell_type": "code",
   "execution_count": null,
   "metadata": {
    "collapsed": false
   },
   "outputs": [],
   "source": [
    "soup.find(text = re.compile('Actor')).next.text"
   ]
  },
  {
   "cell_type": "code",
   "execution_count": null,
   "metadata": {
    "collapsed": true
   },
   "outputs": [],
   "source": [
    "def get_movie_value_next(soup, field_name):\n",
    "    '''Grab a value from boxofficemojo HTML\n",
    "    \n",
    "    Takes a string attribute of a movie on the page and\n",
    "    returns the string in the next sibling object\n",
    "    (the value for that attribute)\n",
    "    or None if nothing is found.\n",
    "    '''\n",
    "    obj = soup.find(text=re.compile(field_name))\n",
    "    \n",
    "    if obj:\n",
    "        return obj.next.text\n",
    "    else:\n",
    "        return None"
   ]
  },
  {
   "cell_type": "code",
   "execution_count": null,
   "metadata": {
    "collapsed": false
   },
   "outputs": [],
   "source": [
    "def get_actors(soup):\n",
    "    actor = get_movie_value_next(soup,'Actor')\n",
    "    v = re.sub('([a-z()])([A-Z])', '\\g<1>,\\g<2>', actor)\n",
    "    actors = re.sub('[(*\\']','', v)\n",
    "    actors = actors.split(\",\")\n",
    "    return actors"
   ]
  },
  {
   "cell_type": "code",
   "execution_count": null,
   "metadata": {
    "collapsed": false
   },
   "outputs": [],
   "source": [
    "get_actors(soup)"
   ]
  },
  {
   "cell_type": "code",
   "execution_count": null,
   "metadata": {
    "collapsed": true
   },
   "outputs": [],
   "source": []
  }
 ],
 "metadata": {
  "anaconda-cloud": {},
  "kernelspec": {
   "display_name": "Python [py35]",
   "language": "python",
   "name": "Python [py35]"
  },
  "language_info": {
   "codemirror_mode": {
    "name": "ipython",
    "version": 3
   },
   "file_extension": ".py",
   "mimetype": "text/x-python",
   "name": "python",
   "nbconvert_exporter": "python",
   "pygments_lexer": "ipython3",
   "version": "3.5.2"
  }
 },
 "nbformat": 4,
 "nbformat_minor": 0
}
